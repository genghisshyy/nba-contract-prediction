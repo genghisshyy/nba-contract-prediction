{
 "cells": [
  {
   "cell_type": "code",
   "execution_count": 1,
   "metadata": {},
   "outputs": [
    {
     "data": {
      "text/plain": [
       "proxgrad_const"
      ]
     },
     "execution_count": 1,
     "metadata": {},
     "output_type": "execute_result"
    }
   ],
   "source": [
    "using DataFrames, CSV, Random, LowRankModels, LinearAlgebra, Statistics, Plots\n",
    "include(\"proxgrad.jl\")"
   ]
  },
  {
   "cell_type": "code",
   "execution_count": 2,
   "metadata": {},
   "outputs": [
    {
     "data": {
      "text/html": [
       "<table class=\"data-frame\"><thead><tr><th></th><th>2018-19</th><th>2019-20</th><th>2020-21</th><th>2021-22</th><th>2022-23</th><th>2023-24</th><th>2P</th><th>2P%</th><th>2PA</th></tr><tr><th></th><th>Int64</th><th>Int64</th><th>Int64</th><th>Int64</th><th>Int64</th><th>Int64</th><th>Float64</th><th>Float64</th><th>Float64</th></tr></thead><tbody><p>415 rows × 36 columns (omitted printing of 27 columns)</p><tr><th>1</th><td>30431854</td><td>37800000</td><td>40824000</td><td>43848000</td><td>46872000</td><td>0</td><td>5.4</td><td>0.53</td><td>10.1</td></tr><tr><th>2</th><td>6041520</td><td>7059480</td><td>8930242</td><td>0</td><td>0</td><td>0</td><td>4.3</td><td>0.46</td><td>9.3</td></tr><tr><th>3</th><td>1544951</td><td>2305057</td><td>0</td><td>0</td><td>0</td><td>0</td><td>0.7</td><td>0.47</td><td>1.5</td></tr><tr><th>4</th><td>13045455</td><td>11954546</td><td>10863637</td><td>0</td><td>0</td><td>0</td><td>1.6</td><td>0.52</td><td>3.1</td></tr><tr><th>5</th><td>1740000</td><td>2033160</td><td>3665787</td><td>0</td><td>0</td><td>0</td><td>0.9</td><td>0.47</td><td>1.9</td></tr><tr><th>6</th><td>3000000</td><td>0</td><td>0</td><td>0</td><td>0</td><td>0</td><td>4.7</td><td>0.52</td><td>9.12</td></tr><tr><th>7</th><td>16539326</td><td>17617977</td><td>0</td><td>0</td><td>0</td><td>0</td><td>4.7</td><td>0.59</td><td>8.0</td></tr><tr><th>8</th><td>327566</td><td>0</td><td>0</td><td>0</td><td>0</td><td>0</td><td>1.0</td><td>0.56</td><td>1.8</td></tr><tr><th>9</th><td>14681317</td><td>0</td><td>0</td><td>0</td><td>0</td><td>0</td><td>2.4</td><td>0.52</td><td>4.6</td></tr><tr><th>10</th><td>1656092</td><td>10600000</td><td>11400000</td><td>12300000</td><td>0</td><td>0</td><td>2.3</td><td>0.45</td><td>5.1</td></tr><tr><th>11</th><td>22347015</td><td>26000000</td><td>24000000</td><td>0</td><td>0</td><td>0</td><td>8.8</td><td>0.53</td><td>16.7</td></tr><tr><th>12</th><td>8808685</td><td>8664928</td><td>0</td><td>0</td><td>0</td><td>0</td><td>3.6</td><td>0.55</td><td>6.5</td></tr><tr><th>13</th><td>2284769</td><td>1645357</td><td>0</td><td>0</td><td>0</td><td>0</td><td>0.9</td><td>0.39</td><td>2.3</td></tr><tr><th>14</th><td>1619000</td><td>0</td><td>0</td><td>0</td><td>0</td><td>0</td><td>1.1</td><td>0.48</td><td>2.3</td></tr><tr><th>15</th><td>7866667</td><td>0</td><td>0</td><td>0</td><td>0</td><td>0</td><td>3.3</td><td>0.5</td><td>6.6</td></tr><tr><th>16</th><td>3410284</td><td>18000000</td><td>18000000</td><td>18000000</td><td>18000000</td><td>0</td><td>3.8</td><td>0.51</td><td>7.4</td></tr><tr><th>17</th><td>7305825</td><td>7815533</td><td>0</td><td>0</td><td>0</td><td>0</td><td>2.0</td><td>0.49</td><td>4.1</td></tr><tr><th>18</th><td>1795015</td><td>0</td><td>0</td><td>0</td><td>0</td><td>0</td><td>4.3</td><td>0.55</td><td>7.8</td></tr><tr><th>19</th><td>22900000</td><td>0</td><td>0</td><td>0</td><td>0</td><td>0</td><td>4.8</td><td>0.64</td><td>7.5</td></tr><tr><th>20</th><td>24107258</td><td>25102512</td><td>0</td><td>0</td><td>0</td><td>0</td><td>5.4</td><td>0.47</td><td>11.4</td></tr><tr><th>21</th><td>1378242</td><td>1618520</td><td>0</td><td>0</td><td>0</td><td>0</td><td>1.1</td><td>0.52</td><td>2.1</td></tr><tr><th>22</th><td>24605181</td><td>26573595</td><td>28542009</td><td>30510423</td><td>32478837</td><td>0</td><td>5.2</td><td>0.54</td><td>9.7</td></tr><tr><th>23</th><td>20445779</td><td>19841627</td><td>0</td><td>0</td><td>0</td><td>0</td><td>6.2</td><td>0.51</td><td>12.2</td></tr><tr><th>24</th><td>264919</td><td>0</td><td>0</td><td>0</td><td>0</td><td>0</td><td>0.5</td><td>0.62</td><td>0.8</td></tr><tr><th>25</th><td>1952760</td><td>2281800</td><td>3872215</td><td>0</td><td>0</td><td>0</td><td>1.2</td><td>0.6</td><td>2.0</td></tr><tr><th>26</th><td>2526840</td><td>3481986</td><td>0</td><td>0</td><td>0</td><td>0</td><td>2.9</td><td>0.46</td><td>6.3</td></tr><tr><th>27</th><td>30000000</td><td>31500000</td><td>0</td><td>0</td><td>0</td><td>0</td><td>6.7</td><td>0.56</td><td>11.9</td></tr><tr><th>28</th><td>6300000</td><td>0</td><td>0</td><td>0</td><td>0</td><td>0</td><td>1.4</td><td>0.5</td><td>2.8</td></tr><tr><th>29</th><td>5757120</td><td>7265485</td><td>0</td><td>0</td><td>0</td><td>0</td><td>5.4</td><td>0.49</td><td>11.1</td></tr><tr><th>30</th><td>6957105</td><td>0</td><td>0</td><td>0</td><td>0</td><td>0</td><td>1.5</td><td>0.43</td><td>3.5</td></tr><tr><th>&vellip;</th><td>&vellip;</td><td>&vellip;</td><td>&vellip;</td><td>&vellip;</td><td>&vellip;</td><td>&vellip;</td><td>&vellip;</td><td>&vellip;</td><td>&vellip;</td></tr></tbody></table>"
      ],
      "text/latex": [
       "\\begin{tabular}{r|cccccccccc}\n",
       "\t& 2018-19 & 2019-20 & 2020-21 & 2021-22 & 2022-23 & 2023-24 & 2P & 2P\\% & 2PA & \\\\\n",
       "\t\\hline\n",
       "\t& Int64 & Int64 & Int64 & Int64 & Int64 & Int64 & Float64 & Float64 & Float64 & \\\\\n",
       "\t\\hline\n",
       "\t1 & 30431854 & 37800000 & 40824000 & 43848000 & 46872000 & 0 & 5.4 & 0.53 & 10.1 & $\\dots$ \\\\\n",
       "\t2 & 6041520 & 7059480 & 8930242 & 0 & 0 & 0 & 4.3 & 0.46 & 9.3 & $\\dots$ \\\\\n",
       "\t3 & 1544951 & 2305057 & 0 & 0 & 0 & 0 & 0.7 & 0.47 & 1.5 & $\\dots$ \\\\\n",
       "\t4 & 13045455 & 11954546 & 10863637 & 0 & 0 & 0 & 1.6 & 0.52 & 3.1 & $\\dots$ \\\\\n",
       "\t5 & 1740000 & 2033160 & 3665787 & 0 & 0 & 0 & 0.9 & 0.47 & 1.9 & $\\dots$ \\\\\n",
       "\t6 & 3000000 & 0 & 0 & 0 & 0 & 0 & 4.7 & 0.52 & 9.12 & $\\dots$ \\\\\n",
       "\t7 & 16539326 & 17617977 & 0 & 0 & 0 & 0 & 4.7 & 0.59 & 8.0 & $\\dots$ \\\\\n",
       "\t8 & 327566 & 0 & 0 & 0 & 0 & 0 & 1.0 & 0.56 & 1.8 & $\\dots$ \\\\\n",
       "\t9 & 14681317 & 0 & 0 & 0 & 0 & 0 & 2.4 & 0.52 & 4.6 & $\\dots$ \\\\\n",
       "\t10 & 1656092 & 10600000 & 11400000 & 12300000 & 0 & 0 & 2.3 & 0.45 & 5.1 & $\\dots$ \\\\\n",
       "\t11 & 22347015 & 26000000 & 24000000 & 0 & 0 & 0 & 8.8 & 0.53 & 16.7 & $\\dots$ \\\\\n",
       "\t12 & 8808685 & 8664928 & 0 & 0 & 0 & 0 & 3.6 & 0.55 & 6.5 & $\\dots$ \\\\\n",
       "\t13 & 2284769 & 1645357 & 0 & 0 & 0 & 0 & 0.9 & 0.39 & 2.3 & $\\dots$ \\\\\n",
       "\t14 & 1619000 & 0 & 0 & 0 & 0 & 0 & 1.1 & 0.48 & 2.3 & $\\dots$ \\\\\n",
       "\t15 & 7866667 & 0 & 0 & 0 & 0 & 0 & 3.3 & 0.5 & 6.6 & $\\dots$ \\\\\n",
       "\t16 & 3410284 & 18000000 & 18000000 & 18000000 & 18000000 & 0 & 3.8 & 0.51 & 7.4 & $\\dots$ \\\\\n",
       "\t17 & 7305825 & 7815533 & 0 & 0 & 0 & 0 & 2.0 & 0.49 & 4.1 & $\\dots$ \\\\\n",
       "\t18 & 1795015 & 0 & 0 & 0 & 0 & 0 & 4.3 & 0.55 & 7.8 & $\\dots$ \\\\\n",
       "\t19 & 22900000 & 0 & 0 & 0 & 0 & 0 & 4.8 & 0.64 & 7.5 & $\\dots$ \\\\\n",
       "\t20 & 24107258 & 25102512 & 0 & 0 & 0 & 0 & 5.4 & 0.47 & 11.4 & $\\dots$ \\\\\n",
       "\t21 & 1378242 & 1618520 & 0 & 0 & 0 & 0 & 1.1 & 0.52 & 2.1 & $\\dots$ \\\\\n",
       "\t22 & 24605181 & 26573595 & 28542009 & 30510423 & 32478837 & 0 & 5.2 & 0.54 & 9.7 & $\\dots$ \\\\\n",
       "\t23 & 20445779 & 19841627 & 0 & 0 & 0 & 0 & 6.2 & 0.51 & 12.2 & $\\dots$ \\\\\n",
       "\t24 & 264919 & 0 & 0 & 0 & 0 & 0 & 0.5 & 0.62 & 0.8 & $\\dots$ \\\\\n",
       "\t25 & 1952760 & 2281800 & 3872215 & 0 & 0 & 0 & 1.2 & 0.6 & 2.0 & $\\dots$ \\\\\n",
       "\t26 & 2526840 & 3481986 & 0 & 0 & 0 & 0 & 2.9 & 0.46 & 6.3 & $\\dots$ \\\\\n",
       "\t27 & 30000000 & 31500000 & 0 & 0 & 0 & 0 & 6.7 & 0.56 & 11.9 & $\\dots$ \\\\\n",
       "\t28 & 6300000 & 0 & 0 & 0 & 0 & 0 & 1.4 & 0.5 & 2.8 & $\\dots$ \\\\\n",
       "\t29 & 5757120 & 7265485 & 0 & 0 & 0 & 0 & 5.4 & 0.49 & 11.1 & $\\dots$ \\\\\n",
       "\t30 & 6957105 & 0 & 0 & 0 & 0 & 0 & 1.5 & 0.43 & 3.5 & $\\dots$ \\\\\n",
       "\t$\\dots$ & $\\dots$ & $\\dots$ & $\\dots$ & $\\dots$ & $\\dots$ & $\\dots$ & $\\dots$ & $\\dots$ & $\\dots$ &  \\\\\n",
       "\\end{tabular}\n"
      ],
      "text/plain": [
       "415×36 DataFrame. Omitted printing of 30 columns\n",
       "│ Row │ 2018-19  │ 2019-20  │ 2020-21  │ 2021-22  │ 2022-23  │ 2023-24 │\n",
       "│     │ \u001b[90mInt64\u001b[39m    │ \u001b[90mInt64\u001b[39m    │ \u001b[90mInt64\u001b[39m    │ \u001b[90mInt64\u001b[39m    │ \u001b[90mInt64\u001b[39m    │ \u001b[90mInt64\u001b[39m   │\n",
       "├─────┼──────────┼──────────┼──────────┼──────────┼──────────┼─────────┤\n",
       "│ 1   │ 30431854 │ 37800000 │ 40824000 │ 43848000 │ 46872000 │ 0       │\n",
       "│ 2   │ 6041520  │ 7059480  │ 8930242  │ 0        │ 0        │ 0       │\n",
       "│ 3   │ 1544951  │ 2305057  │ 0        │ 0        │ 0        │ 0       │\n",
       "│ 4   │ 13045455 │ 11954546 │ 10863637 │ 0        │ 0        │ 0       │\n",
       "│ 5   │ 1740000  │ 2033160  │ 3665787  │ 0        │ 0        │ 0       │\n",
       "│ 6   │ 3000000  │ 0        │ 0        │ 0        │ 0        │ 0       │\n",
       "│ 7   │ 16539326 │ 17617977 │ 0        │ 0        │ 0        │ 0       │\n",
       "│ 8   │ 327566   │ 0        │ 0        │ 0        │ 0        │ 0       │\n",
       "│ 9   │ 14681317 │ 0        │ 0        │ 0        │ 0        │ 0       │\n",
       "│ 10  │ 1656092  │ 10600000 │ 11400000 │ 12300000 │ 0        │ 0       │\n",
       "⋮\n",
       "│ 405 │ 8653076  │ 0        │ 0        │ 0        │ 0        │ 0       │\n",
       "│ 406 │ 1378242  │ 1618520  │ 0        │ 0        │ 0        │ 0       │\n",
       "│ 407 │ 37457154 │ 40231758 │ 43006362 │ 45780966 │ 0        │ 0       │\n",
       "│ 408 │ 25434263 │ 27093018 │ 0        │ 0        │ 0        │ 0       │\n",
       "│ 409 │ 12400000 │ 0        │ 0        │ 0        │ 0        │ 0       │\n",
       "│ 410 │ 20099189 │ 21329750 │ 0        │ 0        │ 0        │ 0       │\n",
       "│ 411 │ 10000000 │ 0        │ 0        │ 0        │ 0        │ 0       │\n",
       "│ 412 │ 14465421 │ 0        │ 0        │ 0        │ 0        │ 0       │\n",
       "│ 413 │ 1349383  │ 0        │ 0        │ 0        │ 0        │ 0       │\n",
       "│ 414 │ 24157304 │ 25842697 │ 27528090 │ 0        │ 0        │ 0       │\n",
       "│ 415 │ 8333333  │ 7670000  │ 0        │ 0        │ 0        │ 0       │"
      ]
     },
     "execution_count": 2,
     "metadata": {},
     "output_type": "execute_result"
    }
   ],
   "source": [
    "players_df = CSV.read(\"data/consolidated_players_dataset.csv\")"
   ]
  },
  {
   "cell_type": "code",
   "execution_count": 3,
   "metadata": {},
   "outputs": [
    {
     "data": {
      "text/plain": [
       "MSE (generic function with 1 method)"
      ]
     },
     "execution_count": 3,
     "metadata": {},
     "output_type": "execute_result"
    }
   ],
   "source": [
    "# computes mean squared error\n",
    "function MSE(y, pred)\n",
    "    MSE = mean((y - pred).^2)\n",
    "end"
   ]
  },
  {
   "cell_type": "code",
   "execution_count": 4,
   "metadata": {},
   "outputs": [
    {
     "data": {
      "text/plain": [
       "plotDiagonal"
      ]
     },
     "execution_count": 4,
     "metadata": {},
     "output_type": "execute_result"
    }
   ],
   "source": [
    "\"\"\"This completed function plots the main diagonal; \n",
    "for a \"predicted vs true\" plot with perfect predictions,\n",
    "all data lies on this line\"\"\"\n",
    "function plotDiagonal(xmin, xmax)\n",
    "    xsamples = [xmin, xmax]\n",
    "    plot!(xsamples, xsamples, color=:black)\n",
    "end"
   ]
  },
  {
   "cell_type": "code",
   "execution_count": 5,
   "metadata": {},
   "outputs": [
    {
     "data": {
      "text/plain": [
       "plot_pred_true"
      ]
     },
     "execution_count": 5,
     "metadata": {},
     "output_type": "execute_result"
    }
   ],
   "source": [
    "\"\"\"This completed helper funciton plots x vs, y and labels the axes.\"\"\"\n",
    "function plotdata(x,y,xname, yname; margin=.05, plotDiag=true, zeromin=false)\n",
    "    scatter(x,y, label=\"data\")\n",
    "    xlabel!(xname)\n",
    "    ylabel!(yname)\n",
    "    range_y = maximum(y) - minimum(y)\n",
    "    range_x = maximum(x) - minimum(x)\n",
    "    if plotDiag\n",
    "        plotDiagonal(minimum(x)-margin*range_x, maximum(x)+margin*range_x)\n",
    "    end\n",
    "    if zeromin\n",
    "        ylims!((0.0,maximum(y)+margin*range_y))\n",
    "        xlims!((0.0,maximum(x)+margin*range_x))\n",
    "    else\n",
    "        ylims!((minimum(y)-margin*range_y,maximum(y)+margin*range_y))\n",
    "        xlims!((minimum(x)-margin*range_x,maximum(x)+margin*range_x))\n",
    "    end\n",
    "end\n",
    "\n",
    "\"\"\"This completed function plots the predicted labels vs the actual labels\n",
    "(We only plots the first 1000 points to avoid slow plots.)\"\"\"\n",
    "function plot_pred_true(test_pred, test_y, max_points = 125)\n",
    "    plotdata(test_pred[1:max_points], test_y[1:max_points], \"Predicted (\\$)\", \"True (\\$)\", zeromin=true)\n",
    "end"
   ]
  },
  {
   "cell_type": "markdown",
   "metadata": {},
   "source": [
    "Since the quadratic loss function is sensitive to outliers, we expect that using this loss function will largely be ineffective in the context of our dataset, given the myriad of situations in which outlier contracts are given. (For example, elite-performing players may still receive disproportionately low contracts in the case of an injury; and at the other extreme, seemingly poor-performing players may still receive disproportionately high contracts due to NBA front offices recognizing their potential to improve in the imminent future.) Nevertheless, we still confirm this is indeed the case by developing a model featuring quadratic loss and quadratic regularization."
   ]
  },
  {
   "cell_type": "code",
   "execution_count": 6,
   "metadata": {
    "scrolled": true
   },
   "outputs": [
    {
     "data": {
      "text/plain": [
       "415"
      ]
     },
     "execution_count": 6,
     "metadata": {},
     "output_type": "execute_result"
    }
   ],
   "source": [
    "num_examples = size(players_df)[1]"
   ]
  },
  {
   "cell_type": "code",
   "execution_count": 7,
   "metadata": {
    "scrolled": true
   },
   "outputs": [
    {
     "data": {
      "text/plain": [
       "415-element Array{Int64,1}:\n",
       " 294\n",
       "  72\n",
       " 232\n",
       " 235\n",
       " 338\n",
       " 189\n",
       " 357\n",
       " 382\n",
       " 350\n",
       " 234\n",
       " 406\n",
       " 239\n",
       "  53\n",
       "   ⋮\n",
       " 227\n",
       " 183\n",
       "  39\n",
       " 151\n",
       " 321\n",
       " 228\n",
       " 391\n",
       "  43\n",
       " 295\n",
       " 310\n",
       " 206\n",
       " 292"
      ]
     },
     "execution_count": 7,
     "metadata": {},
     "output_type": "execute_result"
    }
   ],
   "source": [
    "# used to help \"shuffle\" dataset so that we can \n",
    "# randomly split dataset into training set and test set\n",
    "shuffled_indices = shuffle(1:num_examples)"
   ]
  },
  {
   "cell_type": "markdown",
   "metadata": {},
   "source": [
    "Using the randomly shuffled indices from above, we split the dataset into training and test sets:"
   ]
  },
  {
   "cell_type": "code",
   "execution_count": 8,
   "metadata": {
    "scrolled": true
   },
   "outputs": [
    {
     "data": {
      "text/html": [
       "<table class=\"data-frame\"><thead><tr><th></th><th>2018-19</th><th>2019-20</th><th>2020-21</th><th>2021-22</th><th>2022-23</th><th>2023-24</th><th>2P</th><th>2P%</th><th>2PA</th></tr><tr><th></th><th>Int64</th><th>Int64</th><th>Int64</th><th>Int64</th><th>Int64</th><th>Int64</th><th>Float64</th><th>Float64</th><th>Float64</th></tr></thead><tbody><p>208 rows × 36 columns (omitted printing of 27 columns)</p><tr><th>1</th><td>1378242</td><td>0</td><td>0</td><td>0</td><td>0</td><td>0</td><td>1.7</td><td>0.61</td><td>2.8</td></tr><tr><th>2</th><td>25434263</td><td>27093019</td><td>28751775</td><td>0</td><td>0</td><td>0</td><td>6.0</td><td>0.54</td><td>11.2</td></tr><tr><th>3</th><td>13565218</td><td>0</td><td>0</td><td>0</td><td>0</td><td>0</td><td>3.5</td><td>0.51</td><td>6.8</td></tr><tr><th>4</th><td>11536515</td><td>0</td><td>0</td><td>0</td><td>0</td><td>0</td><td>1.9</td><td>0.44</td><td>4.3</td></tr><tr><th>5</th><td>11286516</td><td>3000000</td><td>0</td><td>0</td><td>0</td><td>0</td><td>0.5</td><td>0.42</td><td>1.19</td></tr><tr><th>6</th><td>7200000</td><td>0</td><td>0</td><td>0</td><td>0</td><td>0</td><td>3.2</td><td>0.59</td><td>5.4</td></tr><tr><th>7</th><td>5250000</td><td>0</td><td>0</td><td>0</td><td>0</td><td>0</td><td>2.3</td><td>0.56</td><td>4.1</td></tr><tr><th>8</th><td>1621415</td><td>1845301</td><td>0</td><td>0</td><td>0</td><td>0</td><td>1.81</td><td>0.56</td><td>3.21</td></tr><tr><th>9</th><td>2516048</td><td>0</td><td>0</td><td>0</td><td>0</td><td>0</td><td>1.4</td><td>0.54</td><td>2.6</td></tr><tr><th>10</th><td>1569360</td><td>0</td><td>0</td><td>0</td><td>0</td><td>0</td><td>0.71</td><td>0.37</td><td>1.93</td></tr><tr><th>11</th><td>1378242</td><td>1618520</td><td>0</td><td>0</td><td>0</td><td>0</td><td>2.2</td><td>0.39</td><td>5.7</td></tr><tr><th>12</th><td>25434263</td><td>27093019</td><td>28751775</td><td>0</td><td>0</td><td>0</td><td>5.9</td><td>0.51</td><td>11.6</td></tr><tr><th>13</th><td>2470357</td><td>0</td><td>0</td><td>0</td><td>0</td><td>0</td><td>4.8</td><td>0.48</td><td>9.9</td></tr><tr><th>14</th><td>2393887</td><td>0</td><td>0</td><td>0</td><td>0</td><td>0</td><td>0.1</td><td>0.2</td><td>0.5</td></tr><tr><th>15</th><td>5697054</td><td>0</td><td>0</td><td>0</td><td>0</td><td>0</td><td>6.3</td><td>0.46</td><td>13.8</td></tr><tr><th>16</th><td>19169800</td><td>37800000</td><td>40824000</td><td>43848000</td><td>46872000</td><td>0</td><td>5.3</td><td>0.43</td><td>12.2</td></tr><tr><th>17</th><td>25976111</td><td>26131111</td><td>26131111</td><td>27020000</td><td>0</td><td>0</td><td>6.1</td><td>0.55</td><td>11.0</td></tr><tr><th>18</th><td>18109175</td><td>19217900</td><td>0</td><td>0</td><td>0</td><td>0</td><td>5.0</td><td>0.49</td><td>10.3</td></tr><tr><th>19</th><td>2639314</td><td>0</td><td>0</td><td>0</td><td>0</td><td>0</td><td>2.0</td><td>0.47</td><td>4.3</td></tr><tr><th>20</th><td>35654150</td><td>38178000</td><td>41006000</td><td>43848000</td><td>46662000</td><td>0</td><td>8.3</td><td>0.49</td><td>17.0</td></tr><tr><th>21</th><td>2176260</td><td>0</td><td>0</td><td>0</td><td>0</td><td>0</td><td>2.99</td><td>0.48</td><td>6.23</td></tr><tr><th>22</th><td>3410284</td><td>18000000</td><td>18000000</td><td>18000000</td><td>18000000</td><td>0</td><td>3.8</td><td>0.51</td><td>7.4</td></tr><tr><th>23</th><td>2526840</td><td>3481986</td><td>0</td><td>0</td><td>0</td><td>0</td><td>2.9</td><td>0.46</td><td>6.3</td></tr><tr><th>24</th><td>12000000</td><td>12960000</td><td>0</td><td>0</td><td>0</td><td>0</td><td>4.01</td><td>0.44</td><td>9.19</td></tr><tr><th>25</th><td>10002681</td><td>9508043</td><td>0</td><td>0</td><td>0</td><td>0</td><td>1.9</td><td>0.46</td><td>4.1</td></tr><tr><th>26</th><td>24256725</td><td>5603850</td><td>0</td><td>0</td><td>0</td><td>0</td><td>6.2</td><td>0.55</td><td>11.2</td></tr><tr><th>27</th><td>2393887</td><td>0</td><td>0</td><td>0</td><td>0</td><td>0</td><td>3.99</td><td>0.47</td><td>8.5</td></tr><tr><th>28</th><td>3472887</td><td>0</td><td>0</td><td>0</td><td>0</td><td>0</td><td>3.28</td><td>0.47</td><td>6.97</td></tr><tr><th>29</th><td>3819960</td><td>4463640</td><td>5686677</td><td>0</td><td>0</td><td>0</td><td>4.3</td><td>0.43</td><td>9.9</td></tr><tr><th>30</th><td>12000000</td><td>0</td><td>0</td><td>0</td><td>0</td><td>0</td><td>2.4</td><td>0.46</td><td>5.2</td></tr><tr><th>&vellip;</th><td>&vellip;</td><td>&vellip;</td><td>&vellip;</td><td>&vellip;</td><td>&vellip;</td><td>&vellip;</td><td>&vellip;</td><td>&vellip;</td><td>&vellip;</td></tr></tbody></table>"
      ],
      "text/latex": [
       "\\begin{tabular}{r|cccccccccc}\n",
       "\t& 2018-19 & 2019-20 & 2020-21 & 2021-22 & 2022-23 & 2023-24 & 2P & 2P\\% & 2PA & \\\\\n",
       "\t\\hline\n",
       "\t& Int64 & Int64 & Int64 & Int64 & Int64 & Int64 & Float64 & Float64 & Float64 & \\\\\n",
       "\t\\hline\n",
       "\t1 & 1378242 & 0 & 0 & 0 & 0 & 0 & 1.7 & 0.61 & 2.8 & $\\dots$ \\\\\n",
       "\t2 & 25434263 & 27093019 & 28751775 & 0 & 0 & 0 & 6.0 & 0.54 & 11.2 & $\\dots$ \\\\\n",
       "\t3 & 13565218 & 0 & 0 & 0 & 0 & 0 & 3.5 & 0.51 & 6.8 & $\\dots$ \\\\\n",
       "\t4 & 11536515 & 0 & 0 & 0 & 0 & 0 & 1.9 & 0.44 & 4.3 & $\\dots$ \\\\\n",
       "\t5 & 11286516 & 3000000 & 0 & 0 & 0 & 0 & 0.5 & 0.42 & 1.19 & $\\dots$ \\\\\n",
       "\t6 & 7200000 & 0 & 0 & 0 & 0 & 0 & 3.2 & 0.59 & 5.4 & $\\dots$ \\\\\n",
       "\t7 & 5250000 & 0 & 0 & 0 & 0 & 0 & 2.3 & 0.56 & 4.1 & $\\dots$ \\\\\n",
       "\t8 & 1621415 & 1845301 & 0 & 0 & 0 & 0 & 1.81 & 0.56 & 3.21 & $\\dots$ \\\\\n",
       "\t9 & 2516048 & 0 & 0 & 0 & 0 & 0 & 1.4 & 0.54 & 2.6 & $\\dots$ \\\\\n",
       "\t10 & 1569360 & 0 & 0 & 0 & 0 & 0 & 0.71 & 0.37 & 1.93 & $\\dots$ \\\\\n",
       "\t11 & 1378242 & 1618520 & 0 & 0 & 0 & 0 & 2.2 & 0.39 & 5.7 & $\\dots$ \\\\\n",
       "\t12 & 25434263 & 27093019 & 28751775 & 0 & 0 & 0 & 5.9 & 0.51 & 11.6 & $\\dots$ \\\\\n",
       "\t13 & 2470357 & 0 & 0 & 0 & 0 & 0 & 4.8 & 0.48 & 9.9 & $\\dots$ \\\\\n",
       "\t14 & 2393887 & 0 & 0 & 0 & 0 & 0 & 0.1 & 0.2 & 0.5 & $\\dots$ \\\\\n",
       "\t15 & 5697054 & 0 & 0 & 0 & 0 & 0 & 6.3 & 0.46 & 13.8 & $\\dots$ \\\\\n",
       "\t16 & 19169800 & 37800000 & 40824000 & 43848000 & 46872000 & 0 & 5.3 & 0.43 & 12.2 & $\\dots$ \\\\\n",
       "\t17 & 25976111 & 26131111 & 26131111 & 27020000 & 0 & 0 & 6.1 & 0.55 & 11.0 & $\\dots$ \\\\\n",
       "\t18 & 18109175 & 19217900 & 0 & 0 & 0 & 0 & 5.0 & 0.49 & 10.3 & $\\dots$ \\\\\n",
       "\t19 & 2639314 & 0 & 0 & 0 & 0 & 0 & 2.0 & 0.47 & 4.3 & $\\dots$ \\\\\n",
       "\t20 & 35654150 & 38178000 & 41006000 & 43848000 & 46662000 & 0 & 8.3 & 0.49 & 17.0 & $\\dots$ \\\\\n",
       "\t21 & 2176260 & 0 & 0 & 0 & 0 & 0 & 2.99 & 0.48 & 6.23 & $\\dots$ \\\\\n",
       "\t22 & 3410284 & 18000000 & 18000000 & 18000000 & 18000000 & 0 & 3.8 & 0.51 & 7.4 & $\\dots$ \\\\\n",
       "\t23 & 2526840 & 3481986 & 0 & 0 & 0 & 0 & 2.9 & 0.46 & 6.3 & $\\dots$ \\\\\n",
       "\t24 & 12000000 & 12960000 & 0 & 0 & 0 & 0 & 4.01 & 0.44 & 9.19 & $\\dots$ \\\\\n",
       "\t25 & 10002681 & 9508043 & 0 & 0 & 0 & 0 & 1.9 & 0.46 & 4.1 & $\\dots$ \\\\\n",
       "\t26 & 24256725 & 5603850 & 0 & 0 & 0 & 0 & 6.2 & 0.55 & 11.2 & $\\dots$ \\\\\n",
       "\t27 & 2393887 & 0 & 0 & 0 & 0 & 0 & 3.99 & 0.47 & 8.5 & $\\dots$ \\\\\n",
       "\t28 & 3472887 & 0 & 0 & 0 & 0 & 0 & 3.28 & 0.47 & 6.97 & $\\dots$ \\\\\n",
       "\t29 & 3819960 & 4463640 & 5686677 & 0 & 0 & 0 & 4.3 & 0.43 & 9.9 & $\\dots$ \\\\\n",
       "\t30 & 12000000 & 0 & 0 & 0 & 0 & 0 & 2.4 & 0.46 & 5.2 & $\\dots$ \\\\\n",
       "\t$\\dots$ & $\\dots$ & $\\dots$ & $\\dots$ & $\\dots$ & $\\dots$ & $\\dots$ & $\\dots$ & $\\dots$ & $\\dots$ &  \\\\\n",
       "\\end{tabular}\n"
      ],
      "text/plain": [
       "208×36 DataFrame. Omitted printing of 29 columns\n",
       "│ Row │ 2018-19  │ 2019-20  │ 2020-21  │ 2021-22 │ 2022-23 │ 2023-24 │ 2P      │\n",
       "│     │ \u001b[90mInt64\u001b[39m    │ \u001b[90mInt64\u001b[39m    │ \u001b[90mInt64\u001b[39m    │ \u001b[90mInt64\u001b[39m   │ \u001b[90mInt64\u001b[39m   │ \u001b[90mInt64\u001b[39m   │ \u001b[90mFloat64\u001b[39m │\n",
       "├─────┼──────────┼──────────┼──────────┼─────────┼─────────┼─────────┼─────────┤\n",
       "│ 1   │ 1378242  │ 0        │ 0        │ 0       │ 0       │ 0       │ 1.7     │\n",
       "│ 2   │ 25434263 │ 27093019 │ 28751775 │ 0       │ 0       │ 0       │ 6.0     │\n",
       "│ 3   │ 13565218 │ 0        │ 0        │ 0       │ 0       │ 0       │ 3.5     │\n",
       "│ 4   │ 11536515 │ 0        │ 0        │ 0       │ 0       │ 0       │ 1.9     │\n",
       "│ 5   │ 11286516 │ 3000000  │ 0        │ 0       │ 0       │ 0       │ 0.5     │\n",
       "│ 6   │ 7200000  │ 0        │ 0        │ 0       │ 0       │ 0       │ 3.2     │\n",
       "│ 7   │ 5250000  │ 0        │ 0        │ 0       │ 0       │ 0       │ 2.3     │\n",
       "│ 8   │ 1621415  │ 1845301  │ 0        │ 0       │ 0       │ 0       │ 1.81    │\n",
       "│ 9   │ 2516048  │ 0        │ 0        │ 0       │ 0       │ 0       │ 1.4     │\n",
       "│ 10  │ 1569360  │ 0        │ 0        │ 0       │ 0       │ 0       │ 0.71    │\n",
       "⋮\n",
       "│ 198 │ 14357750 │ 0        │ 0        │ 0       │ 0       │ 0       │ 5.3     │\n",
       "│ 199 │ 20261173 │ 6431666  │ 6431666  │ 6431666 │ 0       │ 0       │ 0.7     │\n",
       "│ 200 │ 24119025 │ 25595700 │ 0        │ 0       │ 0       │ 0       │ 4.5     │\n",
       "│ 201 │ 14465421 │ 0        │ 0        │ 0       │ 0       │ 0       │ 4.0     │\n",
       "│ 202 │ 92857    │ 92857    │ 92857    │ 92857   │ 92857   │ 92857   │ 0.39    │\n",
       "│ 203 │ 2667600  │ 0        │ 0        │ 0       │ 0       │ 0       │ 1.0     │\n",
       "│ 204 │ 7305825  │ 7815533  │ 0        │ 0       │ 0       │ 0       │ 2.0     │\n",
       "│ 205 │ 8307692  │ 7692308  │ 0        │ 0       │ 0       │ 0       │ 2.4     │\n",
       "│ 206 │ 6500000  │ 6825000  │ 7150000  │ 0       │ 0       │ 0       │ 1.4     │\n",
       "│ 207 │ 1544951  │ 0        │ 0        │ 0       │ 0       │ 0       │ 3.8     │\n",
       "│ 208 │ 3275280  │ 3827160  │ 5273826  │ 0       │ 0       │ 0       │ 1.7     │"
      ]
     },
     "execution_count": 8,
     "metadata": {},
     "output_type": "execute_result"
    }
   ],
   "source": [
    "training_set = players_df[shuffled_indices[1:Int64(ceil(num_examples/2))],:]"
   ]
  },
  {
   "cell_type": "code",
   "execution_count": 9,
   "metadata": {
    "scrolled": true
   },
   "outputs": [
    {
     "data": {
      "text/html": [
       "<table class=\"data-frame\"><thead><tr><th></th><th>2018-19</th><th>2019-20</th><th>2020-21</th><th>2021-22</th><th>2022-23</th><th>2023-24</th><th>2P</th><th>2P%</th><th>2PA</th></tr><tr><th></th><th>Int64</th><th>Int64</th><th>Int64</th><th>Int64</th><th>Int64</th><th>Int64</th><th>Float64</th><th>Float64</th><th>Float64</th></tr></thead><tbody><p>207 rows × 36 columns (omitted printing of 27 columns)</p><tr><th>1</th><td>2807880</td><td>3280920</td><td>5029650</td><td>0</td><td>0</td><td>0</td><td>1.9</td><td>0.56</td><td>3.4</td></tr><tr><th>2</th><td>7461960</td><td>8719320</td><td>11003782</td><td>0</td><td>0</td><td>0</td><td>2.2</td><td>0.42</td><td>5.2</td></tr><tr><th>3</th><td>20000000</td><td>20000000</td><td>0</td><td>0</td><td>0</td><td>0</td><td>4.2</td><td>0.52</td><td>8.1</td></tr><tr><th>4</th><td>1544951</td><td>0</td><td>0</td><td>0</td><td>0</td><td>0</td><td>0.9</td><td>0.43</td><td>2.1</td></tr><tr><th>5</th><td>1667160</td><td>1948080</td><td>3516284</td><td>0</td><td>0</td><td>0</td><td>0.5</td><td>0.42</td><td>1.2</td></tr><tr><th>6</th><td>2165481</td><td>0</td><td>0</td><td>0</td><td>0</td><td>0</td><td>0.5</td><td>0.42</td><td>1.2</td></tr><tr><th>7</th><td>1378242</td><td>1618520</td><td>0</td><td>0</td><td>0</td><td>0</td><td>1.2</td><td>0.43</td><td>2.8</td></tr><tr><th>8</th><td>15627467</td><td>5100000</td><td>0</td><td>0</td><td>0</td><td>0</td><td>3.2</td><td>0.48</td><td>6.6</td></tr><tr><th>9</th><td>2176260</td><td>0</td><td>0</td><td>0</td><td>0</td><td>0</td><td>2.1</td><td>0.6</td><td>3.5</td></tr><tr><th>10</th><td>24107258</td><td>25102511</td><td>0</td><td>0</td><td>0</td><td>0</td><td>1.6</td><td>0.52</td><td>3.1</td></tr><tr><th>11</th><td>1349383</td><td>1588231</td><td>1663861</td><td>0</td><td>0</td><td>0</td><td>1.3</td><td>0.76</td><td>1.7</td></tr><tr><th>12</th><td>5455236</td><td>0</td><td>0</td><td>0</td><td>0</td><td>0</td><td>0.4</td><td>0.44</td><td>0.9</td></tr><tr><th>13</th><td>14000000</td><td>0</td><td>0</td><td>0</td><td>0</td><td>0</td><td>5.1</td><td>0.59</td><td>8.6</td></tr><tr><th>14</th><td>1544951</td><td>0</td><td>0</td><td>0</td><td>0</td><td>0</td><td>2.0</td><td>0.4</td><td>5.0</td></tr><tr><th>15</th><td>11550000</td><td>12100000</td><td>12650000</td><td>0</td><td>0</td><td>0</td><td>3.7</td><td>0.46</td><td>8.0</td></tr><tr><th>16</th><td>4536120</td><td>5300400</td><td>6731508</td><td>0</td><td>0</td><td>0</td><td>3.4</td><td>0.5</td><td>6.8</td></tr><tr><th>17</th><td>1600520</td><td>0</td><td>0</td><td>0</td><td>0</td><td>0</td><td>2.4</td><td>0.51</td><td>4.7</td></tr><tr><th>18</th><td>21587579</td><td>22615559</td><td>0</td><td>0</td><td>0</td><td>0</td><td>3.1</td><td>0.45</td><td>6.9</td></tr><tr><th>19</th><td>25467250</td><td>27270000</td><td>29290000</td><td>31310000</td><td>33330000</td><td>0</td><td>7.0</td><td>0.52</td><td>13.4</td></tr><tr><th>20</th><td>3382000</td><td>0</td><td>0</td><td>0</td><td>0</td><td>0</td><td>3.5</td><td>0.56</td><td>6.3</td></tr><tr><th>21</th><td>1544951</td><td>0</td><td>0</td><td>0</td><td>0</td><td>0</td><td>0.3</td><td>0.37</td><td>0.8</td></tr><tr><th>22</th><td>2760095</td><td>0</td><td>0</td><td>0</td><td>0</td><td>0</td><td>1.6</td><td>0.59</td><td>2.7</td></tr><tr><th>23</th><td>8000000</td><td>8000000</td><td>1500000</td><td>0</td><td>0</td><td>0</td><td>5.0</td><td>0.48</td><td>10.4</td></tr><tr><th>24</th><td>7464912</td><td>0</td><td>0</td><td>0</td><td>0</td><td>0</td><td>0.7</td><td>0.54</td><td>1.3</td></tr><tr><th>25</th><td>6153846</td><td>5846154</td><td>0</td><td>0</td><td>0</td><td>0</td><td>2.39</td><td>0.52</td><td>4.62</td></tr><tr><th>26</th><td>7000000</td><td>7333333</td><td>0</td><td>0</td><td>0</td><td>0</td><td>0.9</td><td>0.43</td><td>2.1</td></tr><tr><th>27</th><td>2407560</td><td>2813280</td><td>4326825</td><td>0</td><td>0</td><td>0</td><td>0.9</td><td>0.5</td><td>1.8</td></tr><tr><th>28</th><td>1740000</td><td>0</td><td>0</td><td>0</td><td>0</td><td>0</td><td>0.2</td><td>0.25</td><td>0.8</td></tr><tr><th>29</th><td>5460000</td><td>0</td><td>0</td><td>0</td><td>0</td><td>0</td><td>1.8</td><td>0.47</td><td>3.8</td></tr><tr><th>30</th><td>2526840</td><td>3481986</td><td>0</td><td>0</td><td>0</td><td>0</td><td>3.2</td><td>0.51</td><td>6.3</td></tr><tr><th>&vellip;</th><td>&vellip;</td><td>&vellip;</td><td>&vellip;</td><td>&vellip;</td><td>&vellip;</td><td>&vellip;</td><td>&vellip;</td><td>&vellip;</td><td>&vellip;</td></tr></tbody></table>"
      ],
      "text/latex": [
       "\\begin{tabular}{r|cccccccccc}\n",
       "\t& 2018-19 & 2019-20 & 2020-21 & 2021-22 & 2022-23 & 2023-24 & 2P & 2P\\% & 2PA & \\\\\n",
       "\t\\hline\n",
       "\t& Int64 & Int64 & Int64 & Int64 & Int64 & Int64 & Float64 & Float64 & Float64 & \\\\\n",
       "\t\\hline\n",
       "\t1 & 2807880 & 3280920 & 5029650 & 0 & 0 & 0 & 1.9 & 0.56 & 3.4 & $\\dots$ \\\\\n",
       "\t2 & 7461960 & 8719320 & 11003782 & 0 & 0 & 0 & 2.2 & 0.42 & 5.2 & $\\dots$ \\\\\n",
       "\t3 & 20000000 & 20000000 & 0 & 0 & 0 & 0 & 4.2 & 0.52 & 8.1 & $\\dots$ \\\\\n",
       "\t4 & 1544951 & 0 & 0 & 0 & 0 & 0 & 0.9 & 0.43 & 2.1 & $\\dots$ \\\\\n",
       "\t5 & 1667160 & 1948080 & 3516284 & 0 & 0 & 0 & 0.5 & 0.42 & 1.2 & $\\dots$ \\\\\n",
       "\t6 & 2165481 & 0 & 0 & 0 & 0 & 0 & 0.5 & 0.42 & 1.2 & $\\dots$ \\\\\n",
       "\t7 & 1378242 & 1618520 & 0 & 0 & 0 & 0 & 1.2 & 0.43 & 2.8 & $\\dots$ \\\\\n",
       "\t8 & 15627467 & 5100000 & 0 & 0 & 0 & 0 & 3.2 & 0.48 & 6.6 & $\\dots$ \\\\\n",
       "\t9 & 2176260 & 0 & 0 & 0 & 0 & 0 & 2.1 & 0.6 & 3.5 & $\\dots$ \\\\\n",
       "\t10 & 24107258 & 25102511 & 0 & 0 & 0 & 0 & 1.6 & 0.52 & 3.1 & $\\dots$ \\\\\n",
       "\t11 & 1349383 & 1588231 & 1663861 & 0 & 0 & 0 & 1.3 & 0.76 & 1.7 & $\\dots$ \\\\\n",
       "\t12 & 5455236 & 0 & 0 & 0 & 0 & 0 & 0.4 & 0.44 & 0.9 & $\\dots$ \\\\\n",
       "\t13 & 14000000 & 0 & 0 & 0 & 0 & 0 & 5.1 & 0.59 & 8.6 & $\\dots$ \\\\\n",
       "\t14 & 1544951 & 0 & 0 & 0 & 0 & 0 & 2.0 & 0.4 & 5.0 & $\\dots$ \\\\\n",
       "\t15 & 11550000 & 12100000 & 12650000 & 0 & 0 & 0 & 3.7 & 0.46 & 8.0 & $\\dots$ \\\\\n",
       "\t16 & 4536120 & 5300400 & 6731508 & 0 & 0 & 0 & 3.4 & 0.5 & 6.8 & $\\dots$ \\\\\n",
       "\t17 & 1600520 & 0 & 0 & 0 & 0 & 0 & 2.4 & 0.51 & 4.7 & $\\dots$ \\\\\n",
       "\t18 & 21587579 & 22615559 & 0 & 0 & 0 & 0 & 3.1 & 0.45 & 6.9 & $\\dots$ \\\\\n",
       "\t19 & 25467250 & 27270000 & 29290000 & 31310000 & 33330000 & 0 & 7.0 & 0.52 & 13.4 & $\\dots$ \\\\\n",
       "\t20 & 3382000 & 0 & 0 & 0 & 0 & 0 & 3.5 & 0.56 & 6.3 & $\\dots$ \\\\\n",
       "\t21 & 1544951 & 0 & 0 & 0 & 0 & 0 & 0.3 & 0.37 & 0.8 & $\\dots$ \\\\\n",
       "\t22 & 2760095 & 0 & 0 & 0 & 0 & 0 & 1.6 & 0.59 & 2.7 & $\\dots$ \\\\\n",
       "\t23 & 8000000 & 8000000 & 1500000 & 0 & 0 & 0 & 5.0 & 0.48 & 10.4 & $\\dots$ \\\\\n",
       "\t24 & 7464912 & 0 & 0 & 0 & 0 & 0 & 0.7 & 0.54 & 1.3 & $\\dots$ \\\\\n",
       "\t25 & 6153846 & 5846154 & 0 & 0 & 0 & 0 & 2.39 & 0.52 & 4.62 & $\\dots$ \\\\\n",
       "\t26 & 7000000 & 7333333 & 0 & 0 & 0 & 0 & 0.9 & 0.43 & 2.1 & $\\dots$ \\\\\n",
       "\t27 & 2407560 & 2813280 & 4326825 & 0 & 0 & 0 & 0.9 & 0.5 & 1.8 & $\\dots$ \\\\\n",
       "\t28 & 1740000 & 0 & 0 & 0 & 0 & 0 & 0.2 & 0.25 & 0.8 & $\\dots$ \\\\\n",
       "\t29 & 5460000 & 0 & 0 & 0 & 0 & 0 & 1.8 & 0.47 & 3.8 & $\\dots$ \\\\\n",
       "\t30 & 2526840 & 3481986 & 0 & 0 & 0 & 0 & 3.2 & 0.51 & 6.3 & $\\dots$ \\\\\n",
       "\t$\\dots$ & $\\dots$ & $\\dots$ & $\\dots$ & $\\dots$ & $\\dots$ & $\\dots$ & $\\dots$ & $\\dots$ & $\\dots$ &  \\\\\n",
       "\\end{tabular}\n"
      ],
      "text/plain": [
       "207×36 DataFrame. Omitted printing of 29 columns\n",
       "│ Row │ 2018-19  │ 2019-20  │ 2020-21  │ 2021-22 │ 2022-23 │ 2023-24 │ 2P      │\n",
       "│     │ \u001b[90mInt64\u001b[39m    │ \u001b[90mInt64\u001b[39m    │ \u001b[90mInt64\u001b[39m    │ \u001b[90mInt64\u001b[39m   │ \u001b[90mInt64\u001b[39m   │ \u001b[90mInt64\u001b[39m   │ \u001b[90mFloat64\u001b[39m │\n",
       "├─────┼──────────┼──────────┼──────────┼─────────┼─────────┼─────────┼─────────┤\n",
       "│ 1   │ 2807880  │ 3280920  │ 5029650  │ 0       │ 0       │ 0       │ 1.9     │\n",
       "│ 2   │ 7461960  │ 8719320  │ 11003782 │ 0       │ 0       │ 0       │ 2.2     │\n",
       "│ 3   │ 20000000 │ 20000000 │ 0        │ 0       │ 0       │ 0       │ 4.2     │\n",
       "│ 4   │ 1544951  │ 0        │ 0        │ 0       │ 0       │ 0       │ 0.9     │\n",
       "│ 5   │ 1667160  │ 1948080  │ 3516284  │ 0       │ 0       │ 0       │ 0.5     │\n",
       "│ 6   │ 2165481  │ 0        │ 0        │ 0       │ 0       │ 0       │ 0.5     │\n",
       "│ 7   │ 1378242  │ 1618520  │ 0        │ 0       │ 0       │ 0       │ 1.2     │\n",
       "│ 8   │ 15627467 │ 5100000  │ 0        │ 0       │ 0       │ 0       │ 3.2     │\n",
       "│ 9   │ 2176260  │ 0        │ 0        │ 0       │ 0       │ 0       │ 2.1     │\n",
       "│ 10  │ 24107258 │ 25102511 │ 0        │ 0       │ 0       │ 0       │ 1.6     │\n",
       "⋮\n",
       "│ 197 │ 1544951  │ 0        │ 0        │ 0       │ 0       │ 0       │ 1.4     │\n",
       "│ 198 │ 5451600  │ 5711200  │ 0        │ 0       │ 0       │ 0       │ 0.5     │\n",
       "│ 199 │ 3050390  │ 0        │ 0        │ 0       │ 0       │ 0       │ 2.0     │\n",
       "│ 200 │ 3833760  │ 4861208  │ 0        │ 0       │ 0       │ 0       │ 3.0     │\n",
       "│ 201 │ 3125000  │ 2875000  │ 0        │ 0       │ 0       │ 0       │ 1.5     │\n",
       "│ 202 │ 5169960  │ 6534829  │ 0        │ 0       │ 0       │ 0       │ 3.6     │\n",
       "│ 203 │ 1378242  │ 0        │ 0        │ 0       │ 0       │ 0       │ 1.5     │\n",
       "│ 204 │ 1378242  │ 1618520  │ 0        │ 0       │ 0       │ 0       │ 1.4     │\n",
       "│ 205 │ 1398580  │ 0        │ 0        │ 0       │ 0       │ 0       │ 1.2     │\n",
       "│ 206 │ 3499800  │ 4444746  │ 0        │ 0       │ 0       │ 0       │ 3.9     │\n",
       "│ 207 │ 4661280  │ 0        │ 0        │ 0       │ 0       │ 0       │ 0.8     │"
      ]
     },
     "execution_count": 9,
     "metadata": {},
     "output_type": "execute_result"
    }
   ],
   "source": [
    "test_set = players_df[shuffled_indices[Int64(ceil(num_examples/2)) + 1:end],:]"
   ]
  },
  {
   "cell_type": "code",
   "execution_count": 10,
   "metadata": {
    "scrolled": true
   },
   "outputs": [
    {
     "data": {
      "text/plain": [
       "208×7 Array{Float64,2}:\n",
       "  5.3    4.3   0.9   0.5   0.8   0.58  1.0\n",
       " 15.0   16.0   3.0   1.5   1.6   0.53  1.0\n",
       "  8.4    7.6   1.8   0.5   0.7   0.51  1.0\n",
       "  7.7    3.0   1.0   0.6   0.1   0.47  1.0\n",
       "  1.22   2.59  0.17  0.12  0.19  0.42  1.0\n",
       " 10.0    7.9   1.5   0.6   0.8   0.57  1.0\n",
       "  8.2    4.3   0.9   1.4   0.3   0.56  1.0\n",
       "  7.11   3.1   0.99  0.68  0.28  0.54  1.0\n",
       "  6.2    2.5   0.7   0.4   0.2   0.52  1.0\n",
       "  3.42   1.3   0.49  0.39  0.0   0.42  1.0\n",
       "  7.9    2.5   2.8   0.7   0.2   0.42  1.0\n",
       " 22.6    4.4   4.5   1.2   0.4   0.52  1.0\n",
       " 13.9    6.8   2.5   1.0   0.7   0.48  1.0\n",
       "  ⋮                              ⋮     \n",
       "  1.0    1.0   0.3   0.2   0.0   0.33  1.0\n",
       " 11.8    4.5   1.9   0.2   0.8   0.53  1.0\n",
       "  1.7    2.0   0.6   0.3   0.3   0.5   1.0\n",
       " 17.2    8.1   4.2   0.7   1.4   0.47  1.0\n",
       " 18.0    0.0   4.0   0.0   0.0   0.46  1.0\n",
       "  1.1    0.79  0.59  0.3   0.09  0.42  1.0\n",
       "  2.0    0.0   0.0   1.0   0.0   0.5   1.0\n",
       "  9.69   3.43  1.22  0.82  0.27  0.49  1.0\n",
       "  5.5    1.9   2.0   0.5   0.3   0.5   1.0\n",
       "  6.8    4.1   1.3   0.7   0.2   0.57  1.0\n",
       " 13.0    3.3   3.2   0.9   0.3   0.55  1.0\n",
       "  7.6    2.4   1.7   0.6   0.2   0.52  1.0"
      ]
     },
     "execution_count": 10,
     "metadata": {},
     "output_type": "execute_result"
    }
   ],
   "source": [
    "num_training_examples = size(training_set)[1]\n",
    "X_train = convert(Matrix, training_set[:,[\"PTS\", \"TRB\", \"AST\", \"STL\", \"BLK\", \"eFG%\"]])\n",
    "y_train = training_set[:,\"Guaranteed\"]\n",
    "Xoffset_train = [X_train ones(length(y_train))]"
   ]
  },
  {
   "cell_type": "code",
   "execution_count": 11,
   "metadata": {},
   "outputs": [
    {
     "data": {
      "text/plain": [
       "207×7 Array{Float64,2}:\n",
       "  6.7  2.8  1.1  0.4  0.2  0.5   1.0\n",
       " 10.2  6.9  7.2  1.7  0.8  0.44  1.0\n",
       " 12.6  4.9  1.9  0.8  0.3  0.53  1.0\n",
       "  5.8  1.4  1.0  0.2  0.1  0.47  1.0\n",
       "  3.2  1.5  0.5  0.2  0.2  0.61  1.0\n",
       "  2.0  1.1  0.4  0.3  0.1  0.31  1.0\n",
       "  3.3  2.4  0.7  0.3  0.0  0.42  1.0\n",
       " 10.1  8.1  3.1  0.3  1.0  0.49  1.0\n",
       "  5.7  3.8  1.0  0.3  0.4  0.62  1.0\n",
       "  7.9  2.5  1.9  0.5  0.3  0.57  1.0\n",
       "  3.3  0.7  2.3  1.0  0.0  0.65  1.0\n",
       "  4.7  1.5  0.4  0.5  0.1  0.53  1.0\n",
       " 12.2  7.2  1.2  0.8  0.7  0.58  1.0\n",
       "  ⋮                        ⋮     \n",
       "  5.4  3.3  0.7  0.4  0.7  0.56  1.0\n",
       "  5.4  1.1  0.7  0.3  0.1  0.77  1.0\n",
       "  3.9  2.4  0.7  0.6  0.3  0.53  1.0\n",
       " 11.3  4.7  2.9  1.0  0.2  0.5   1.0\n",
       " 13.5  3.9  1.9  1.1  0.3  0.54  1.0\n",
       "  6.9  1.4  1.0  0.4  0.0  0.51  1.0\n",
       " 14.5  4.9  1.6  1.0  0.4  0.53  1.0\n",
       "  4.8  1.8  2.1  0.8  0.1  0.39  1.0\n",
       "  3.7  2.2  0.9  0.5  0.2  0.44  1.0\n",
       "  4.6  2.6  2.2  0.8  0.4  0.37  1.0\n",
       " 16.7  3.7  3.4  1.0  0.3  0.53  1.0\n",
       "  6.5  4.4  1.6  0.3  0.6  0.51  1.0"
      ]
     },
     "execution_count": 11,
     "metadata": {},
     "output_type": "execute_result"
    }
   ],
   "source": [
    "num_test_examples = size(test_set)[1]\n",
    "X_test = convert(Matrix, test_set[:,[\"PTS\", \"TRB\", \"AST\", \"STL\", \"BLK\", \"eFG%\"]])\n",
    "y_test = test_set[:,\"Guaranteed\"]\n",
    "Xoffset_test = [X_test ones(length(y_test))]"
   ]
  },
  {
   "cell_type": "markdown",
   "metadata": {},
   "source": [
    "Having created our training and test sets, we now run the proximal gradient method on our training set to find minimizer $w$:"
   ]
  },
  {
   "cell_type": "code",
   "execution_count": 12,
   "metadata": {},
   "outputs": [
    {
     "data": {
      "text/plain": [
       "6-element Array{Float64,1}:\n",
       "      2.064261966045676e6\n",
       " 448821.13798926136\n",
       " 784080.9897711393\n",
       " 138188.29996325367\n",
       "   3723.6793669924405\n",
       "   1902.6779922296364"
      ]
     },
     "execution_count": 12,
     "metadata": {},
     "output_type": "execute_result"
    }
   ],
   "source": [
    "# we form \\frac 1 n || ⋅ ||^2 by multiplying the QuadLoss() function by 1/n\n",
    "loss = 1/num_training_examples*QuadLoss()\n",
    "\n",
    "λ = .1\n",
    "reg = λ*QuadReg()\n",
    "\n",
    "# minimize 1/n ||Xw - y||^2 + λ||w||^2\n",
    "w = proxgrad(loss, reg, X_train, y_train, maxiters=5)"
   ]
  },
  {
   "cell_type": "markdown",
   "metadata": {},
   "source": [
    "From here, we can compute the mean squared error for both the training and test models:"
   ]
  },
  {
   "cell_type": "code",
   "execution_count": 13,
   "metadata": {},
   "outputs": [
    {
     "name": "stdout",
     "output_type": "stream",
     "text": [
      "Train MSE\t6.818237201151075e14\n",
      "Test MSE \t4.583181702136636e14\n"
     ]
    }
   ],
   "source": [
    "train_preds = X_train * w\n",
    "test_preds = X_test * w\n",
    "\n",
    "train_MSE = MSE(y_train, train_preds)\n",
    "test_MSE = MSE(y_test, test_preds)\n",
    "\n",
    "println(\"Train MSE\\t\", train_MSE)\n",
    "println(\"Test MSE \\t\", test_MSE)"
   ]
  },
  {
   "cell_type": "markdown",
   "metadata": {},
   "source": [
    "As expected, using quadratic loss with quadratic regularization falls significantly short of fitting our data well, with both the training and test mean squared errors reaching alarmingly high levels. Upon visualizing this below, we notice that outliers in particular helped derail the accuracy of this model, again affirming our aforementioned suspicion that quadratic loss would be too sensitive to outlier contracts received by NBA players:"
   ]
  },
  {
   "cell_type": "code",
   "execution_count": 14,
   "metadata": {
    "scrolled": true
   },
   "outputs": [
    {
     "data": {
      "image/svg+xml": [
       "<?xml version=\"1.0\" encoding=\"utf-8\"?>\n",
       "<svg xmlns=\"http://www.w3.org/2000/svg\" xmlns:xlink=\"http://www.w3.org/1999/xlink\" width=\"600\" height=\"400\" viewBox=\"0 0 2400 1600\">\n",
       "<defs>\n",
       "  <clipPath id=\"clip510\">\n",
       "    <rect x=\"0\" y=\"0\" width=\"2400\" height=\"1600\"/>\n",
       "  </clipPath>\n",
       "</defs>\n",
       "<path clip-path=\"url(#clip510)\" d=\"\n",
       "M0 1600 L2400 1600 L2400 0 L0 0  Z\n",
       "  \" fill=\"#ffffff\" fill-rule=\"evenodd\" fill-opacity=\"1\"/>\n",
       "<defs>\n",
       "  <clipPath id=\"clip511\">\n",
       "    <rect x=\"480\" y=\"0\" width=\"1681\" height=\"1600\"/>\n",
       "  </clipPath>\n",
       "</defs>\n",
       "<path clip-path=\"url(#clip510)\" d=\"\n",
       "M313.685 1410.9 L2352.76 1410.9 L2352.76 47.2441 L313.685 47.2441  Z\n",
       "  \" fill=\"#ffffff\" fill-rule=\"evenodd\" fill-opacity=\"1\"/>\n",
       "<defs>\n",
       "  <clipPath id=\"clip512\">\n",
       "    <rect x=\"313\" y=\"47\" width=\"2040\" height=\"1365\"/>\n",
       "  </clipPath>\n",
       "</defs>\n",
       "<polyline clip-path=\"url(#clip512)\" style=\"stroke:#000000; stroke-width:2; stroke-opacity:0.1; fill:none\" points=\"\n",
       "  313.685,1410.9 313.685,47.2441 \n",
       "  \"/>\n",
       "<polyline clip-path=\"url(#clip512)\" style=\"stroke:#000000; stroke-width:2; stroke-opacity:0.1; fill:none\" points=\"\n",
       "  850.665,1410.9 850.665,47.2441 \n",
       "  \"/>\n",
       "<polyline clip-path=\"url(#clip512)\" style=\"stroke:#000000; stroke-width:2; stroke-opacity:0.1; fill:none\" points=\"\n",
       "  1387.64,1410.9 1387.64,47.2441 \n",
       "  \"/>\n",
       "<polyline clip-path=\"url(#clip512)\" style=\"stroke:#000000; stroke-width:2; stroke-opacity:0.1; fill:none\" points=\"\n",
       "  1924.62,1410.9 1924.62,47.2441 \n",
       "  \"/>\n",
       "<polyline clip-path=\"url(#clip510)\" style=\"stroke:#000000; stroke-width:4; stroke-opacity:1; fill:none\" points=\"\n",
       "  313.685,1410.9 2352.76,1410.9 \n",
       "  \"/>\n",
       "<polyline clip-path=\"url(#clip510)\" style=\"stroke:#000000; stroke-width:4; stroke-opacity:1; fill:none\" points=\"\n",
       "  313.685,1410.9 313.685,1394.53 \n",
       "  \"/>\n",
       "<polyline clip-path=\"url(#clip510)\" style=\"stroke:#000000; stroke-width:4; stroke-opacity:1; fill:none\" points=\"\n",
       "  850.665,1410.9 850.665,1394.53 \n",
       "  \"/>\n",
       "<polyline clip-path=\"url(#clip510)\" style=\"stroke:#000000; stroke-width:4; stroke-opacity:1; fill:none\" points=\"\n",
       "  1387.64,1410.9 1387.64,1394.53 \n",
       "  \"/>\n",
       "<polyline clip-path=\"url(#clip510)\" style=\"stroke:#000000; stroke-width:4; stroke-opacity:1; fill:none\" points=\"\n",
       "  1924.62,1410.9 1924.62,1394.53 \n",
       "  \"/>\n",
       "<path clip-path=\"url(#clip510)\" d=\"M 0 0 M313.685 1440.09 Q310.074 1440.09 308.245 1443.65 Q306.44 1447.19 306.44 1454.32 Q306.44 1461.43 308.245 1464.99 Q310.074 1468.54 313.685 1468.54 Q317.319 1468.54 319.125 1464.99 Q320.954 1461.43 320.954 1454.32 Q320.954 1447.19 319.125 1443.65 Q317.319 1440.09 313.685 1440.09 M313.685 1436.38 Q319.495 1436.38 322.551 1440.99 Q325.63 1445.57 325.63 1454.32 Q325.63 1463.05 322.551 1467.66 Q319.495 1472.24 313.685 1472.24 Q307.875 1472.24 304.796 1467.66 Q301.741 1463.05 301.741 1454.32 Q301.741 1445.57 304.796 1440.99 Q307.875 1436.38 313.685 1436.38 Z\" fill=\"#000000\" fill-rule=\"evenodd\" fill-opacity=\"1\" /><path clip-path=\"url(#clip510)\" d=\"M 0 0 M793.269 1489.17 L809.588 1489.17 L809.588 1493.1 L787.644 1493.1 L787.644 1489.17 Q790.306 1486.41 794.889 1481.78 Q799.496 1477.13 800.676 1475.79 Q802.922 1473.27 803.801 1471.53 Q804.704 1469.77 804.704 1468.08 Q804.704 1465.33 802.76 1463.59 Q800.838 1461.85 797.737 1461.85 Q795.538 1461.85 793.084 1462.62 Q790.653 1463.38 787.876 1464.93 L787.876 1460.21 Q790.7 1459.08 793.153 1458.5 Q795.607 1457.92 797.644 1457.92 Q803.014 1457.92 806.209 1460.6 Q809.403 1463.29 809.403 1467.78 Q809.403 1469.91 808.593 1471.83 Q807.806 1473.73 805.7 1476.32 Q805.121 1476.99 802.019 1480.21 Q798.917 1483.4 793.269 1489.17 Z\" fill=\"#000000\" fill-rule=\"evenodd\" fill-opacity=\"1\" /><path clip-path=\"url(#clip510)\" d=\"M 0 0 M842.829 1467.64 L832.25 1478.27 L842.829 1488.84 L840.074 1491.65 L829.449 1481.02 L818.824 1491.65 L816.093 1488.84 L826.649 1478.27 L816.093 1467.64 L818.824 1464.84 L829.449 1475.47 L840.074 1464.84 L842.829 1467.64 Z\" fill=\"#000000\" fill-rule=\"evenodd\" fill-opacity=\"1\" /><path clip-path=\"url(#clip510)\" d=\"M 0 0 M848.709 1489.17 L856.347 1489.17 L856.347 1462.8 L848.037 1464.47 L848.037 1460.21 L856.301 1458.54 L860.977 1458.54 L860.977 1489.17 L868.616 1489.17 L868.616 1493.1 L848.709 1493.1 L848.709 1489.17 Z\" fill=\"#000000\" fill-rule=\"evenodd\" fill-opacity=\"1\" /><path clip-path=\"url(#clip510)\" d=\"M 0 0 M883.685 1461.62 Q880.074 1461.62 878.245 1465.19 Q876.44 1468.73 876.44 1475.86 Q876.44 1482.97 878.245 1486.53 Q880.074 1490.07 883.685 1490.07 Q887.319 1490.07 889.125 1486.53 Q890.954 1482.97 890.954 1475.86 Q890.954 1468.73 889.125 1465.19 Q887.319 1461.62 883.685 1461.62 M883.685 1457.92 Q889.495 1457.92 892.551 1462.53 Q895.63 1467.11 895.63 1475.86 Q895.63 1484.59 892.551 1489.19 Q889.495 1493.78 883.685 1493.78 Q877.875 1493.78 874.796 1489.19 Q871.741 1484.59 871.741 1475.86 Q871.741 1467.11 874.796 1462.53 Q877.875 1457.92 883.685 1457.92 Z\" fill=\"#000000\" fill-rule=\"evenodd\" fill-opacity=\"1\" /><path clip-path=\"url(#clip510)\" d=\"M 0 0 M895.63 1437.61 L913.685 1437.61 L913.685 1439.23 L903.491 1465.69 L899.523 1465.69 L909.115 1440.81 L895.63 1440.81 L895.63 1437.61 Z\" fill=\"#000000\" fill-rule=\"evenodd\" fill-opacity=\"1\" /><path clip-path=\"url(#clip510)\" d=\"M 0 0 M1338.6 1462.62 L1326.8 1481.07 L1338.6 1481.07 L1338.6 1462.62 M1337.38 1458.54 L1343.26 1458.54 L1343.26 1481.07 L1348.19 1481.07 L1348.19 1484.96 L1343.26 1484.96 L1343.26 1493.1 L1338.6 1493.1 L1338.6 1484.96 L1323 1484.96 L1323 1480.44 L1337.38 1458.54 Z\" fill=\"#000000\" fill-rule=\"evenodd\" fill-opacity=\"1\" /><path clip-path=\"url(#clip510)\" d=\"M 0 0 M1381.43 1467.64 L1370.85 1478.27 L1381.43 1488.84 L1378.67 1491.65 L1368.05 1481.02 L1357.42 1491.65 L1354.69 1488.84 L1365.25 1478.27 L1354.69 1467.64 L1357.42 1464.84 L1368.05 1475.47 L1378.67 1464.84 L1381.43 1467.64 Z\" fill=\"#000000\" fill-rule=\"evenodd\" fill-opacity=\"1\" /><path clip-path=\"url(#clip510)\" d=\"M 0 0 M1387.31 1489.17 L1394.95 1489.17 L1394.95 1462.8 L1386.64 1464.47 L1386.64 1460.21 L1394.9 1458.54 L1399.58 1458.54 L1399.58 1489.17 L1407.22 1489.17 L1407.22 1493.1 L1387.31 1493.1 L1387.31 1489.17 Z\" fill=\"#000000\" fill-rule=\"evenodd\" fill-opacity=\"1\" /><path clip-path=\"url(#clip510)\" d=\"M 0 0 M1422.29 1461.62 Q1418.67 1461.62 1416.85 1465.19 Q1415.04 1468.73 1415.04 1475.86 Q1415.04 1482.97 1416.85 1486.53 Q1418.67 1490.07 1422.29 1490.07 Q1425.92 1490.07 1427.72 1486.53 Q1429.55 1482.97 1429.55 1475.86 Q1429.55 1468.73 1427.72 1465.19 Q1425.92 1461.62 1422.29 1461.62 M1422.29 1457.92 Q1428.1 1457.92 1431.15 1462.53 Q1434.23 1467.11 1434.23 1475.86 Q1434.23 1484.59 1431.15 1489.19 Q1428.1 1493.78 1422.29 1493.78 Q1416.47 1493.78 1413.4 1489.19 Q1410.34 1484.59 1410.34 1475.86 Q1410.34 1467.11 1413.4 1462.53 Q1416.47 1457.92 1422.29 1457.92 Z\" fill=\"#000000\" fill-rule=\"evenodd\" fill-opacity=\"1\" /><path clip-path=\"url(#clip510)\" d=\"M 0 0 M1434.23 1437.61 L1452.28 1437.61 L1452.28 1439.23 L1442.09 1465.69 L1438.12 1465.69 L1447.71 1440.81 L1434.23 1440.81 L1434.23 1437.61 Z\" fill=\"#000000\" fill-rule=\"evenodd\" fill-opacity=\"1\" /><path clip-path=\"url(#clip510)\" d=\"M 0 0 M1872.98 1473.96 Q1869.83 1473.96 1867.98 1476.11 Q1866.15 1478.27 1866.15 1482.02 Q1866.15 1485.74 1867.98 1487.92 Q1869.83 1490.07 1872.98 1490.07 Q1876.13 1490.07 1877.96 1487.92 Q1879.81 1485.74 1879.81 1482.02 Q1879.81 1478.27 1877.96 1476.11 Q1876.13 1473.96 1872.98 1473.96 M1882.26 1459.31 L1882.26 1463.57 Q1880.5 1462.73 1878.7 1462.29 Q1876.92 1461.85 1875.16 1461.85 Q1870.53 1461.85 1868.07 1464.98 Q1865.64 1468.1 1865.29 1474.42 Q1866.66 1472.41 1868.72 1471.34 Q1870.78 1470.26 1873.26 1470.26 Q1878.47 1470.26 1881.48 1473.43 Q1884.51 1476.58 1884.51 1482.02 Q1884.51 1487.34 1881.36 1490.56 Q1878.21 1493.78 1872.98 1493.78 Q1866.98 1493.78 1863.81 1489.19 Q1860.64 1484.59 1860.64 1475.86 Q1860.64 1467.66 1864.53 1462.8 Q1868.42 1457.92 1874.97 1457.92 Q1876.73 1457.92 1878.51 1458.27 Q1880.32 1458.61 1882.26 1459.31 Z\" fill=\"#000000\" fill-rule=\"evenodd\" fill-opacity=\"1\" /><path clip-path=\"url(#clip510)\" d=\"M 0 0 M1917.75 1467.64 L1907.17 1478.27 L1917.75 1488.84 L1914.99 1491.65 L1904.37 1481.02 L1893.74 1491.65 L1891.01 1488.84 L1901.57 1478.27 L1891.01 1467.64 L1893.74 1464.84 L1904.37 1475.47 L1914.99 1464.84 L1917.75 1467.64 Z\" fill=\"#000000\" fill-rule=\"evenodd\" fill-opacity=\"1\" /><path clip-path=\"url(#clip510)\" d=\"M 0 0 M1923.63 1489.17 L1931.27 1489.17 L1931.27 1462.8 L1922.96 1464.47 L1922.96 1460.21 L1931.22 1458.54 L1935.9 1458.54 L1935.9 1489.17 L1943.54 1489.17 L1943.54 1493.1 L1923.63 1493.1 L1923.63 1489.17 Z\" fill=\"#000000\" fill-rule=\"evenodd\" fill-opacity=\"1\" /><path clip-path=\"url(#clip510)\" d=\"M 0 0 M1958.6 1461.62 Q1954.99 1461.62 1953.16 1465.19 Q1951.36 1468.73 1951.36 1475.86 Q1951.36 1482.97 1953.16 1486.53 Q1954.99 1490.07 1958.6 1490.07 Q1962.24 1490.07 1964.04 1486.53 Q1965.87 1482.97 1965.87 1475.86 Q1965.87 1468.73 1964.04 1465.19 Q1962.24 1461.62 1958.6 1461.62 M1958.6 1457.92 Q1964.41 1457.92 1967.47 1462.53 Q1970.55 1467.11 1970.55 1475.86 Q1970.55 1484.59 1967.47 1489.19 Q1964.41 1493.78 1958.6 1493.78 Q1952.79 1493.78 1949.72 1489.19 Q1946.66 1484.59 1946.66 1475.86 Q1946.66 1467.11 1949.72 1462.53 Q1952.79 1457.92 1958.6 1457.92 Z\" fill=\"#000000\" fill-rule=\"evenodd\" fill-opacity=\"1\" /><path clip-path=\"url(#clip510)\" d=\"M 0 0 M1970.55 1437.61 L1988.6 1437.61 L1988.6 1439.23 L1978.41 1465.69 L1974.44 1465.69 L1984.03 1440.81 L1970.55 1440.81 L1970.55 1437.61 Z\" fill=\"#000000\" fill-rule=\"evenodd\" fill-opacity=\"1\" /><path clip-path=\"url(#clip510)\" d=\"M 0 0 M1157.8 1519.95 L1157.8 1537.8 L1165.88 1537.8 Q1170.37 1537.8 1172.82 1535.48 Q1175.27 1533.16 1175.27 1528.86 Q1175.27 1524.6 1172.82 1522.27 Q1170.37 1519.95 1165.88 1519.95 L1157.8 1519.95 M1151.37 1514.67 L1165.88 1514.67 Q1173.87 1514.67 1177.95 1518.29 Q1182.05 1521.89 1182.05 1528.86 Q1182.05 1535.9 1177.95 1539.49 Q1173.87 1543.09 1165.88 1543.09 L1157.8 1543.09 L1157.8 1562.19 L1151.37 1562.19 L1151.37 1514.67 Z\" fill=\"#000000\" fill-rule=\"evenodd\" fill-opacity=\"1\" /><path clip-path=\"url(#clip510)\" d=\"M 0 0 M1207.7 1532.01 Q1206.72 1531.44 1205.54 1531.18 Q1204.39 1530.9 1202.99 1530.9 Q1198.03 1530.9 1195.36 1534.14 Q1192.71 1537.36 1192.71 1543.41 L1192.71 1562.19 L1186.83 1562.19 L1186.83 1526.54 L1192.71 1526.54 L1192.71 1532.08 Q1194.56 1528.83 1197.52 1527.27 Q1200.48 1525.68 1204.71 1525.68 Q1205.32 1525.68 1206.05 1525.77 Q1206.78 1525.84 1207.67 1526 L1207.7 1532.01 Z\" fill=\"#000000\" fill-rule=\"evenodd\" fill-opacity=\"1\" /><path clip-path=\"url(#clip510)\" d=\"M 0 0 M1242.91 1542.9 L1242.91 1545.76 L1215.98 1545.76 Q1216.36 1551.81 1219.61 1554.99 Q1222.89 1558.14 1228.71 1558.14 Q1232.09 1558.14 1235.24 1557.32 Q1238.42 1556.49 1241.54 1554.83 L1241.54 1560.37 Q1238.39 1561.71 1235.08 1562.41 Q1231.77 1563.11 1228.36 1563.11 Q1219.83 1563.11 1214.83 1558.14 Q1209.87 1553.18 1209.87 1544.71 Q1209.87 1535.96 1214.58 1530.83 Q1219.32 1525.68 1227.34 1525.68 Q1234.54 1525.68 1238.71 1530.33 Q1242.91 1534.94 1242.91 1542.9 M1237.05 1541.18 Q1236.99 1536.37 1234.35 1533.51 Q1231.74 1530.64 1227.41 1530.64 Q1222.51 1530.64 1219.54 1533.41 Q1216.62 1536.18 1216.17 1541.21 L1237.05 1541.18 Z\" fill=\"#000000\" fill-rule=\"evenodd\" fill-opacity=\"1\" /><path clip-path=\"url(#clip510)\" d=\"M 0 0 M1272.51 1531.95 L1272.51 1512.66 L1278.36 1512.66 L1278.36 1562.19 L1272.51 1562.19 L1272.51 1556.84 Q1270.66 1560.02 1267.83 1561.58 Q1265.03 1563.11 1261.08 1563.11 Q1254.62 1563.11 1250.55 1557.95 Q1246.5 1552.8 1246.5 1544.39 Q1246.5 1535.99 1250.55 1530.83 Q1254.62 1525.68 1261.08 1525.68 Q1265.03 1525.68 1267.83 1527.24 Q1270.66 1528.77 1272.51 1531.95 M1252.55 1544.39 Q1252.55 1550.85 1255.19 1554.55 Q1257.87 1558.21 1262.51 1558.21 Q1267.16 1558.21 1269.83 1554.55 Q1272.51 1550.85 1272.51 1544.39 Q1272.51 1537.93 1269.83 1534.27 Q1267.16 1530.58 1262.51 1530.58 Q1257.87 1530.58 1255.19 1534.27 Q1252.55 1537.93 1252.55 1544.39 Z\" fill=\"#000000\" fill-rule=\"evenodd\" fill-opacity=\"1\" /><path clip-path=\"url(#clip510)\" d=\"M 0 0 M1284.51 1526.54 L1290.36 1526.54 L1290.36 1562.19 L1284.51 1562.19 L1284.51 1526.54 M1284.51 1512.66 L1290.36 1512.66 L1290.36 1520.08 L1284.51 1520.08 L1284.51 1512.66 Z\" fill=\"#000000\" fill-rule=\"evenodd\" fill-opacity=\"1\" /><path clip-path=\"url(#clip510)\" d=\"M 0 0 M1322.16 1527.91 L1322.16 1533.38 Q1319.68 1532.01 1317.16 1531.34 Q1314.68 1530.64 1312.13 1530.64 Q1306.44 1530.64 1303.29 1534.27 Q1300.13 1537.87 1300.13 1544.39 Q1300.13 1550.92 1303.29 1554.55 Q1306.44 1558.14 1312.13 1558.14 Q1314.68 1558.14 1317.16 1557.47 Q1319.68 1556.77 1322.16 1555.41 L1322.16 1560.82 Q1319.71 1561.96 1317.07 1562.54 Q1314.46 1563.11 1311.5 1563.11 Q1303.44 1563.11 1298.7 1558.05 Q1293.96 1552.99 1293.96 1544.39 Q1293.96 1535.67 1298.73 1530.68 Q1303.54 1525.68 1311.88 1525.68 Q1314.58 1525.68 1317.16 1526.25 Q1319.74 1526.79 1322.16 1527.91 Z\" fill=\"#000000\" fill-rule=\"evenodd\" fill-opacity=\"1\" /><path clip-path=\"url(#clip510)\" d=\"M 0 0 M1334.1 1516.42 L1334.1 1526.54 L1346.16 1526.54 L1346.16 1531.09 L1334.1 1531.09 L1334.1 1550.44 Q1334.1 1554.8 1335.27 1556.04 Q1336.48 1557.28 1340.14 1557.28 L1346.16 1557.28 L1346.16 1562.19 L1340.14 1562.19 Q1333.36 1562.19 1330.79 1559.67 Q1328.21 1557.12 1328.21 1550.44 L1328.21 1531.09 L1323.91 1531.09 L1323.91 1526.54 L1328.21 1526.54 L1328.21 1516.42 L1334.1 1516.42 Z\" fill=\"#000000\" fill-rule=\"evenodd\" fill-opacity=\"1\" /><path clip-path=\"url(#clip510)\" d=\"M 0 0 M1382.79 1542.9 L1382.79 1545.76 L1355.87 1545.76 Q1356.25 1551.81 1359.5 1554.99 Q1362.77 1558.14 1368.6 1558.14 Q1371.97 1558.14 1375.12 1557.32 Q1378.31 1556.49 1381.42 1554.83 L1381.42 1560.37 Q1378.27 1561.71 1374.96 1562.41 Q1371.65 1563.11 1368.25 1563.11 Q1359.72 1563.11 1354.72 1558.14 Q1349.76 1553.18 1349.76 1544.71 Q1349.76 1535.96 1354.47 1530.83 Q1359.21 1525.68 1367.23 1525.68 Q1374.42 1525.68 1378.59 1530.33 Q1382.79 1534.94 1382.79 1542.9 M1376.94 1541.18 Q1376.87 1536.37 1374.23 1533.51 Q1371.62 1530.64 1367.29 1530.64 Q1362.39 1530.64 1359.43 1533.41 Q1356.5 1536.18 1356.06 1541.21 L1376.94 1541.18 Z\" fill=\"#000000\" fill-rule=\"evenodd\" fill-opacity=\"1\" /><path clip-path=\"url(#clip510)\" d=\"M 0 0 M1412.39 1531.95 L1412.39 1512.66 L1418.25 1512.66 L1418.25 1562.19 L1412.39 1562.19 L1412.39 1556.84 Q1410.55 1560.02 1407.72 1561.58 Q1404.91 1563.11 1400.97 1563.11 Q1394.51 1563.11 1390.43 1557.95 Q1386.39 1552.8 1386.39 1544.39 Q1386.39 1535.99 1390.43 1530.83 Q1394.51 1525.68 1400.97 1525.68 Q1404.91 1525.68 1407.72 1527.24 Q1410.55 1528.77 1412.39 1531.95 M1392.44 1544.39 Q1392.44 1550.85 1395.08 1554.55 Q1397.75 1558.21 1402.4 1558.21 Q1407.05 1558.21 1409.72 1554.55 Q1412.39 1550.85 1412.39 1544.39 Q1412.39 1537.93 1409.72 1534.27 Q1407.05 1530.58 1402.4 1530.58 Q1397.75 1530.58 1395.08 1534.27 Q1392.44 1537.93 1392.44 1544.39 Z\" fill=\"#000000\" fill-rule=\"evenodd\" fill-opacity=\"1\" /><path clip-path=\"url(#clip510)\" d=\"M 0 0 M1459.18 1512.72 Q1454.92 1520.04 1452.85 1527.21 Q1450.78 1534.37 1450.78 1541.72 Q1450.78 1549.07 1452.85 1556.3 Q1454.95 1563.49 1459.18 1570.78 L1454.09 1570.78 Q1449.32 1563.3 1446.93 1556.07 Q1444.57 1548.85 1444.57 1541.72 Q1444.57 1534.62 1446.93 1527.43 Q1449.28 1520.24 1454.09 1512.72 L1459.18 1512.72 Z\" fill=\"#000000\" fill-rule=\"evenodd\" fill-opacity=\"1\" /><path clip-path=\"url(#clip510)\" d=\"M 0 0 M1481.21 1571.77 L1478.02 1571.77 L1477.99 1562.19 Q1474.65 1562.12 1471.31 1561.42 Q1467.97 1560.69 1464.59 1559.26 L1464.59 1553.53 Q1467.84 1555.57 1471.15 1556.62 Q1474.49 1557.63 1478.02 1557.67 L1478.02 1543.15 Q1470.99 1542.01 1467.78 1539.27 Q1464.59 1536.53 1464.59 1531.76 Q1464.59 1526.57 1468.06 1523.58 Q1471.53 1520.59 1478.02 1520.14 L1478.02 1512.66 L1481.21 1512.66 L1481.21 1520.04 Q1484.17 1520.17 1486.94 1520.68 Q1489.71 1521.16 1492.35 1522.02 L1492.35 1527.59 Q1489.71 1526.25 1486.9 1525.52 Q1484.14 1524.79 1481.21 1524.66 L1481.21 1538.25 Q1488.43 1539.36 1491.84 1542.23 Q1495.24 1545.09 1495.24 1550.06 Q1495.24 1555.44 1491.62 1558.56 Q1488.02 1561.64 1481.21 1562.12 L1481.21 1571.77 M1478.02 1537.68 L1478.02 1524.63 Q1474.33 1525.04 1472.39 1526.73 Q1470.45 1528.42 1470.45 1531.22 Q1470.45 1533.95 1472.23 1535.48 Q1474.05 1537.01 1478.02 1537.68 M1481.21 1543.79 L1481.21 1557.57 Q1485.25 1557.03 1487.29 1555.28 Q1489.36 1553.53 1489.36 1550.66 Q1489.36 1547.86 1487.38 1546.21 Q1485.44 1544.55 1481.21 1543.79 Z\" fill=\"#000000\" fill-rule=\"evenodd\" fill-opacity=\"1\" /><path clip-path=\"url(#clip510)\" d=\"M 0 0 M1500.46 1512.72 L1505.56 1512.72 Q1510.33 1520.24 1512.69 1527.43 Q1515.07 1534.62 1515.07 1541.72 Q1515.07 1548.85 1512.69 1556.07 Q1510.33 1563.3 1505.56 1570.78 L1500.46 1570.78 Q1504.7 1563.49 1506.77 1556.3 Q1508.87 1549.07 1508.87 1541.72 Q1508.87 1534.37 1506.77 1527.21 Q1504.7 1520.04 1500.46 1512.72 Z\" fill=\"#000000\" fill-rule=\"evenodd\" fill-opacity=\"1\" /><polyline clip-path=\"url(#clip512)\" style=\"stroke:#000000; stroke-width:2; stroke-opacity:0.1; fill:none\" points=\"\n",
       "  313.685,1410.9 2352.76,1410.9 \n",
       "  \"/>\n",
       "<polyline clip-path=\"url(#clip512)\" style=\"stroke:#000000; stroke-width:2; stroke-opacity:0.1; fill:none\" points=\"\n",
       "  313.685,1020.83 2352.76,1020.83 \n",
       "  \"/>\n",
       "<polyline clip-path=\"url(#clip512)\" style=\"stroke:#000000; stroke-width:2; stroke-opacity:0.1; fill:none\" points=\"\n",
       "  313.685,630.758 2352.76,630.758 \n",
       "  \"/>\n",
       "<polyline clip-path=\"url(#clip512)\" style=\"stroke:#000000; stroke-width:2; stroke-opacity:0.1; fill:none\" points=\"\n",
       "  313.685,240.689 2352.76,240.689 \n",
       "  \"/>\n",
       "<polyline clip-path=\"url(#clip510)\" style=\"stroke:#000000; stroke-width:4; stroke-opacity:1; fill:none\" points=\"\n",
       "  313.685,1410.9 313.685,47.2441 \n",
       "  \"/>\n",
       "<polyline clip-path=\"url(#clip510)\" style=\"stroke:#000000; stroke-width:4; stroke-opacity:1; fill:none\" points=\"\n",
       "  313.685,1410.9 338.154,1410.9 \n",
       "  \"/>\n",
       "<polyline clip-path=\"url(#clip510)\" style=\"stroke:#000000; stroke-width:4; stroke-opacity:1; fill:none\" points=\"\n",
       "  313.685,1020.83 338.154,1020.83 \n",
       "  \"/>\n",
       "<polyline clip-path=\"url(#clip510)\" style=\"stroke:#000000; stroke-width:4; stroke-opacity:1; fill:none\" points=\"\n",
       "  313.685,630.758 338.154,630.758 \n",
       "  \"/>\n",
       "<polyline clip-path=\"url(#clip510)\" style=\"stroke:#000000; stroke-width:4; stroke-opacity:1; fill:none\" points=\"\n",
       "  313.685,240.689 338.154,240.689 \n",
       "  \"/>\n",
       "<path clip-path=\"url(#clip510)\" d=\"M 0 0 M265.741 1396.7 Q262.13 1396.7 260.301 1400.26 Q258.495 1403.8 258.495 1410.93 Q258.495 1418.04 260.301 1421.6 Q262.13 1425.14 265.741 1425.14 Q269.375 1425.14 271.181 1421.6 Q273.009 1418.04 273.009 1410.93 Q273.009 1403.8 271.181 1400.26 Q269.375 1396.7 265.741 1396.7 M265.741 1392.99 Q271.551 1392.99 274.607 1397.6 Q277.685 1402.18 277.685 1410.93 Q277.685 1419.66 274.607 1424.26 Q271.551 1428.85 265.741 1428.85 Q259.931 1428.85 256.852 1424.26 Q253.796 1419.66 253.796 1410.93 Q253.796 1402.18 256.852 1397.6 Q259.931 1392.99 265.741 1392.99 Z\" fill=\"#000000\" fill-rule=\"evenodd\" fill-opacity=\"1\" /><path clip-path=\"url(#clip510)\" d=\"M 0 0 M115.718 1010 L134.075 1010 L134.075 1013.93 L120.001 1013.93 L120.001 1022.4 Q121.019 1022.06 122.038 1021.89 Q123.056 1021.71 124.075 1021.71 Q129.862 1021.71 133.242 1024.88 Q136.621 1028.05 136.621 1033.47 Q136.621 1039.05 133.149 1042.15 Q129.677 1045.23 123.357 1045.23 Q121.181 1045.23 118.913 1044.86 Q116.668 1044.49 114.26 1043.74 L114.26 1039.05 Q116.343 1040.18 118.566 1040.74 Q120.788 1041.29 123.265 1041.29 Q127.269 1041.29 129.607 1039.18 Q131.945 1037.08 131.945 1033.47 Q131.945 1029.86 129.607 1027.75 Q127.269 1025.64 123.265 1025.64 Q121.39 1025.64 119.515 1026.06 Q117.663 1026.48 115.718 1027.36 L115.718 1010 Z\" fill=\"#000000\" fill-rule=\"evenodd\" fill-opacity=\"1\" /><path clip-path=\"url(#clip510)\" d=\"M 0 0 M141.691 1038.68 L146.575 1038.68 L146.575 1044.56 L141.691 1044.56 L141.691 1038.68 Z\" fill=\"#000000\" fill-rule=\"evenodd\" fill-opacity=\"1\" /><path clip-path=\"url(#clip510)\" d=\"M 0 0 M161.644 1013.07 Q158.033 1013.07 156.204 1016.64 Q154.399 1020.18 154.399 1027.31 Q154.399 1034.42 156.204 1037.98 Q158.033 1041.52 161.644 1041.52 Q165.278 1041.52 167.084 1037.98 Q168.913 1034.42 168.913 1027.31 Q168.913 1020.18 167.084 1016.64 Q165.278 1013.07 161.644 1013.07 M161.644 1009.37 Q167.454 1009.37 170.51 1013.98 Q173.589 1018.56 173.589 1027.31 Q173.589 1036.04 170.51 1040.64 Q167.454 1045.23 161.644 1045.23 Q155.834 1045.23 152.755 1040.64 Q149.7 1036.04 149.7 1027.31 Q149.7 1018.56 152.755 1013.98 Q155.834 1009.37 161.644 1009.37 Z\" fill=\"#000000\" fill-rule=\"evenodd\" fill-opacity=\"1\" /><path clip-path=\"url(#clip510)\" d=\"M 0 0 M206.829 1019.09 L196.25 1029.72 L206.829 1040.3 L204.074 1043.1 L193.45 1032.47 L182.825 1043.1 L180.093 1040.3 L190.649 1029.72 L180.093 1019.09 L182.825 1016.29 L193.45 1026.92 L204.074 1016.29 L206.829 1019.09 Z\" fill=\"#000000\" fill-rule=\"evenodd\" fill-opacity=\"1\" /><path clip-path=\"url(#clip510)\" d=\"M 0 0 M212.709 1040.62 L220.348 1040.62 L220.348 1014.25 L212.037 1015.92 L212.037 1011.66 L220.301 1010 L224.977 1010 L224.977 1040.62 L232.616 1040.62 L232.616 1044.56 L212.709 1044.56 L212.709 1040.62 Z\" fill=\"#000000\" fill-rule=\"evenodd\" fill-opacity=\"1\" /><path clip-path=\"url(#clip510)\" d=\"M 0 0 M247.685 1013.07 Q244.074 1013.07 242.246 1016.64 Q240.44 1020.18 240.44 1027.31 Q240.44 1034.42 242.246 1037.98 Q244.074 1041.52 247.685 1041.52 Q251.32 1041.52 253.125 1037.98 Q254.954 1034.42 254.954 1027.31 Q254.954 1020.18 253.125 1016.64 Q251.32 1013.07 247.685 1013.07 M247.685 1009.37 Q253.496 1009.37 256.551 1013.98 Q259.63 1018.56 259.63 1027.31 Q259.63 1036.04 256.551 1040.64 Q253.496 1045.23 247.685 1045.23 Q241.875 1045.23 238.797 1040.64 Q235.741 1036.04 235.741 1027.31 Q235.741 1018.56 238.797 1013.98 Q241.875 1009.37 247.685 1009.37 Z\" fill=\"#000000\" fill-rule=\"evenodd\" fill-opacity=\"1\" /><path clip-path=\"url(#clip510)\" d=\"M 0 0 M259.63 989.065 L277.685 989.065 L277.685 990.682 L267.491 1017.14 L263.523 1017.14 L273.115 992.262 L259.63 992.262 L259.63 989.065 Z\" fill=\"#000000\" fill-rule=\"evenodd\" fill-opacity=\"1\" /><path clip-path=\"url(#clip510)\" d=\"M 0 0 M115.51 650.551 L123.149 650.551 L123.149 624.185 L114.839 625.852 L114.839 621.593 L123.103 619.926 L127.779 619.926 L127.779 650.551 L135.417 650.551 L135.417 654.486 L115.51 654.486 L115.51 650.551 Z\" fill=\"#000000\" fill-rule=\"evenodd\" fill-opacity=\"1\" /><path clip-path=\"url(#clip510)\" d=\"M 0 0 M140.487 648.606 L145.371 648.606 L145.371 654.486 L140.487 654.486 L140.487 648.606 Z\" fill=\"#000000\" fill-rule=\"evenodd\" fill-opacity=\"1\" /><path clip-path=\"url(#clip510)\" d=\"M 0 0 M160.44 623.005 Q156.829 623.005 155.001 626.569 Q153.195 630.111 153.195 637.241 Q153.195 644.347 155.001 647.912 Q156.829 651.453 160.44 651.453 Q164.075 651.453 165.88 647.912 Q167.709 644.347 167.709 637.241 Q167.709 630.111 165.88 626.569 Q164.075 623.005 160.44 623.005 M160.44 619.301 Q166.251 619.301 169.306 623.907 Q172.385 628.491 172.385 637.241 Q172.385 645.967 169.306 650.574 Q166.251 655.157 160.44 655.157 Q154.63 655.157 151.552 650.574 Q148.496 645.967 148.496 637.241 Q148.496 628.491 151.552 623.907 Q154.63 619.301 160.44 619.301 Z\" fill=\"#000000\" fill-rule=\"evenodd\" fill-opacity=\"1\" /><path clip-path=\"url(#clip510)\" d=\"M 0 0 M205.625 629.023 L195.047 639.648 L205.625 650.227 L202.871 653.028 L192.246 642.403 L181.621 653.028 L178.889 650.227 L189.445 639.648 L178.889 629.023 L181.621 626.222 L192.246 636.847 L202.871 626.222 L205.625 629.023 Z\" fill=\"#000000\" fill-rule=\"evenodd\" fill-opacity=\"1\" /><path clip-path=\"url(#clip510)\" d=\"M 0 0 M211.505 650.551 L219.144 650.551 L219.144 624.185 L210.834 625.852 L210.834 621.593 L219.098 619.926 L223.773 619.926 L223.773 650.551 L231.412 650.551 L231.412 654.486 L211.505 654.486 L211.505 650.551 Z\" fill=\"#000000\" fill-rule=\"evenodd\" fill-opacity=\"1\" /><path clip-path=\"url(#clip510)\" d=\"M 0 0 M246.482 623.005 Q242.871 623.005 241.042 626.569 Q239.236 630.111 239.236 637.241 Q239.236 644.347 241.042 647.912 Q242.871 651.453 246.482 651.453 Q250.116 651.453 251.921 647.912 Q253.75 644.347 253.75 637.241 Q253.75 630.111 251.921 626.569 Q250.116 623.005 246.482 623.005 M246.482 619.301 Q252.292 619.301 255.347 623.907 Q258.426 628.491 258.426 637.241 Q258.426 645.967 255.347 650.574 Q252.292 655.157 246.482 655.157 Q240.672 655.157 237.593 650.574 Q234.537 645.967 234.537 637.241 Q234.537 628.491 237.593 623.907 Q240.672 619.301 246.482 619.301 Z\" fill=\"#000000\" fill-rule=\"evenodd\" fill-opacity=\"1\" /><path clip-path=\"url(#clip510)\" d=\"M 0 0 M268.056 613.741 Q265.347 613.741 263.786 615.189 Q262.244 616.637 262.244 619.176 Q262.244 621.715 263.786 623.163 Q265.347 624.612 268.056 624.612 Q270.764 624.612 272.325 623.163 Q273.886 621.696 273.886 619.176 Q273.886 616.637 272.325 615.189 Q270.783 613.741 268.056 613.741 M264.256 612.123 Q261.811 611.521 260.438 609.848 Q259.084 608.174 259.084 605.766 Q259.084 602.4 261.473 600.444 Q263.88 598.488 268.056 598.488 Q272.25 598.488 274.638 600.444 Q277.027 602.4 277.027 605.766 Q277.027 608.174 275.654 609.848 Q274.3 611.521 271.874 612.123 Q274.62 612.763 276.143 614.625 Q277.685 616.487 277.685 619.176 Q277.685 623.257 275.184 625.439 Q272.701 627.621 268.056 627.621 Q263.41 627.621 260.909 625.439 Q258.426 623.257 258.426 619.176 Q258.426 616.487 259.968 614.625 Q261.511 612.763 264.256 612.123 M262.865 606.124 Q262.865 608.305 264.219 609.528 Q265.592 610.75 268.056 610.75 Q270.501 610.75 271.874 609.528 Q273.265 608.305 273.265 606.124 Q273.265 603.942 271.874 602.719 Q270.501 601.497 268.056 601.497 Q265.592 601.497 264.219 602.719 Q262.865 603.942 262.865 606.124 Z\" fill=\"#000000\" fill-rule=\"evenodd\" fill-opacity=\"1\" /><path clip-path=\"url(#clip510)\" d=\"M 0 0 M116.506 260.482 L124.144 260.482 L124.144 234.116 L115.834 235.783 L115.834 231.523 L124.098 229.857 L128.774 229.857 L128.774 260.482 L136.413 260.482 L136.413 264.417 L116.506 264.417 L116.506 260.482 Z\" fill=\"#000000\" fill-rule=\"evenodd\" fill-opacity=\"1\" /><path clip-path=\"url(#clip510)\" d=\"M 0 0 M141.482 258.537 L146.366 258.537 L146.366 264.417 L141.482 264.417 L141.482 258.537 Z\" fill=\"#000000\" fill-rule=\"evenodd\" fill-opacity=\"1\" /><path clip-path=\"url(#clip510)\" d=\"M 0 0 M151.482 229.857 L169.839 229.857 L169.839 233.792 L155.765 233.792 L155.765 242.264 Q156.783 241.917 157.802 241.755 Q158.82 241.57 159.839 241.57 Q165.626 241.57 169.005 244.741 Q172.385 247.912 172.385 253.329 Q172.385 258.907 168.913 262.009 Q165.44 265.088 159.121 265.088 Q156.945 265.088 154.677 264.718 Q152.431 264.347 150.024 263.606 L150.024 258.907 Q152.107 260.042 154.329 260.597 Q156.552 261.153 159.028 261.153 Q163.033 261.153 165.371 259.046 Q167.709 256.94 167.709 253.329 Q167.709 249.718 165.371 247.611 Q163.033 245.505 159.028 245.505 Q157.153 245.505 155.278 245.921 Q153.427 246.338 151.482 247.218 L151.482 229.857 Z\" fill=\"#000000\" fill-rule=\"evenodd\" fill-opacity=\"1\" /><path clip-path=\"url(#clip510)\" d=\"M 0 0 M205.625 238.954 L195.047 249.579 L205.625 260.157 L202.871 262.958 L192.246 252.333 L181.621 262.958 L178.889 260.157 L189.445 249.579 L178.889 238.954 L181.621 236.153 L192.246 246.778 L202.871 236.153 L205.625 238.954 Z\" fill=\"#000000\" fill-rule=\"evenodd\" fill-opacity=\"1\" /><path clip-path=\"url(#clip510)\" d=\"M 0 0 M211.505 260.482 L219.144 260.482 L219.144 234.116 L210.834 235.783 L210.834 231.523 L219.098 229.857 L223.773 229.857 L223.773 260.482 L231.412 260.482 L231.412 264.417 L211.505 264.417 L211.505 260.482 Z\" fill=\"#000000\" fill-rule=\"evenodd\" fill-opacity=\"1\" /><path clip-path=\"url(#clip510)\" d=\"M 0 0 M246.482 232.935 Q242.871 232.935 241.042 236.5 Q239.236 240.042 239.236 247.171 Q239.236 254.278 241.042 257.843 Q242.871 261.384 246.482 261.384 Q250.116 261.384 251.921 257.843 Q253.75 254.278 253.75 247.171 Q253.75 240.042 251.921 236.5 Q250.116 232.935 246.482 232.935 M246.482 229.232 Q252.292 229.232 255.347 233.838 Q258.426 238.421 258.426 247.171 Q258.426 255.898 255.347 260.505 Q252.292 265.088 246.482 265.088 Q240.672 265.088 237.593 260.505 Q234.537 255.898 234.537 247.171 Q234.537 238.421 237.593 233.838 Q240.672 229.232 246.482 229.232 Z\" fill=\"#000000\" fill-rule=\"evenodd\" fill-opacity=\"1\" /><path clip-path=\"url(#clip510)\" d=\"M 0 0 M268.056 223.672 Q265.347 223.672 263.786 225.12 Q262.244 226.568 262.244 229.107 Q262.244 231.646 263.786 233.094 Q265.347 234.542 268.056 234.542 Q270.764 234.542 272.325 233.094 Q273.886 231.627 273.886 229.107 Q273.886 226.568 272.325 225.12 Q270.783 223.672 268.056 223.672 M264.256 222.054 Q261.811 221.452 260.438 219.778 Q259.084 218.104 259.084 215.697 Q259.084 212.33 261.473 210.374 Q263.88 208.418 268.056 208.418 Q272.25 208.418 274.638 210.374 Q277.027 212.33 277.027 215.697 Q277.027 218.104 275.654 219.778 Q274.3 221.452 271.874 222.054 Q274.62 222.694 276.143 224.556 Q277.685 226.418 277.685 229.107 Q277.685 233.188 275.184 235.37 Q272.701 237.552 268.056 237.552 Q263.41 237.552 260.909 235.37 Q258.426 233.188 258.426 229.107 Q258.426 226.418 259.968 224.556 Q261.511 222.694 264.256 222.054 M262.865 216.054 Q262.865 218.236 264.219 219.459 Q265.592 220.681 268.056 220.681 Q270.501 220.681 271.874 219.459 Q273.265 218.236 273.265 216.054 Q273.265 213.873 271.874 212.65 Q270.501 211.428 268.056 211.428 Q265.592 211.428 264.219 212.65 Q262.865 213.873 262.865 216.054 Z\" fill=\"#000000\" fill-rule=\"evenodd\" fill-opacity=\"1\" /><path clip-path=\"url(#clip510)\" d=\"M 0 0 M40.4842 842.205 L40.4842 802.005 L45.895 802.005 L45.895 818.875 L88.0042 818.875 L88.0042 825.336 L45.895 825.336 L45.895 842.205 L40.4842 842.205 Z\" fill=\"#000000\" fill-rule=\"evenodd\" fill-opacity=\"1\" /><path clip-path=\"url(#clip510)\" d=\"M 0 0 M57.8307 784.786 Q57.2578 785.773 57.0032 786.951 Q56.7167 788.096 56.7167 789.497 Q56.7167 794.462 59.9632 797.136 Q63.1779 799.777 69.2253 799.777 L88.0042 799.777 L88.0042 805.666 L52.3562 805.666 L52.3562 799.777 L57.8944 799.777 Q54.6479 797.931 53.0883 794.971 Q51.4968 792.011 51.4968 787.778 Q51.4968 787.173 51.5923 786.441 Q51.656 785.709 51.8151 784.818 L57.8307 784.786 Z\" fill=\"#000000\" fill-rule=\"evenodd\" fill-opacity=\"1\" /><path clip-path=\"url(#clip510)\" d=\"M 0 0 M73.9359 779.248 L52.3562 779.248 L52.3562 773.392 L73.7131 773.392 Q78.7739 773.392 81.3202 771.418 Q83.8346 769.445 83.8346 765.498 Q83.8346 760.756 80.8109 758.018 Q77.7872 755.249 72.5673 755.249 L52.3562 755.249 L52.3562 749.393 L88.0042 749.393 L88.0042 755.249 L82.5296 755.249 Q85.7762 757.382 87.3676 760.215 Q88.9272 763.015 88.9272 766.739 Q88.9272 772.882 85.1078 776.065 Q81.2883 779.248 73.9359 779.248 M51.4968 764.511 L51.4968 764.511 Z\" fill=\"#000000\" fill-rule=\"evenodd\" fill-opacity=\"1\" /><path clip-path=\"url(#clip510)\" d=\"M 0 0 M68.7161 712.758 L71.5806 712.758 L71.5806 739.685 Q77.6281 739.303 80.8109 736.057 Q83.9619 732.778 83.9619 726.954 Q83.9619 723.58 83.1344 720.429 Q82.3069 717.246 80.6518 714.127 L86.1899 714.127 Q87.5267 717.278 88.227 720.588 Q88.9272 723.898 88.9272 727.304 Q88.9272 735.834 83.9619 740.831 Q78.9967 745.796 70.5303 745.796 Q61.7774 745.796 56.6531 741.086 Q51.4968 736.343 51.4968 728.322 Q51.4968 721.129 56.1438 716.96 Q60.7589 712.758 68.7161 712.758 M66.9973 718.615 Q62.1912 718.678 59.3266 721.32 Q56.4621 723.93 56.4621 728.259 Q56.4621 733.16 59.2312 736.12 Q62.0002 739.049 67.0292 739.494 L66.9973 718.615 Z\" fill=\"#000000\" fill-rule=\"evenodd\" fill-opacity=\"1\" /><path clip-path=\"url(#clip510)\" d=\"M 0 0 M38.5426 671.827 Q45.8632 676.092 53.0246 678.161 Q60.186 680.229 67.5384 680.229 Q74.8908 680.229 82.1159 678.161 Q89.3091 676.06 96.5979 671.827 L96.5979 676.919 Q89.1182 681.694 81.8931 684.081 Q74.668 686.436 67.5384 686.436 Q60.4406 686.436 53.2474 684.081 Q46.0542 681.725 38.5426 676.919 L38.5426 671.827 Z\" fill=\"#000000\" fill-rule=\"evenodd\" fill-opacity=\"1\" /><path clip-path=\"url(#clip510)\" d=\"M 0 0 M97.5845 649.801 L97.5845 652.984 L88.0042 653.016 Q87.9405 656.358 87.2403 659.7 Q86.5082 663.042 85.0759 666.416 L79.3468 666.416 Q81.3838 663.169 82.4342 659.859 Q83.4527 656.517 83.4845 652.984 L68.9707 652.984 Q67.8249 660.018 65.0876 663.233 Q62.3504 666.416 57.5761 666.416 Q52.388 666.416 49.3961 662.947 Q46.4043 659.477 45.9587 652.984 L38.479 652.984 L38.479 649.801 L45.8632 649.801 Q45.9905 646.841 46.4998 644.072 Q46.9772 641.303 47.8365 638.661 L53.4065 638.661 Q52.0697 641.303 51.3377 644.104 Q50.6056 646.873 50.4783 649.801 L64.0691 649.801 Q65.1831 642.576 68.0477 639.171 Q70.9122 635.765 75.8775 635.765 Q81.2565 635.765 84.3757 639.393 Q87.4631 642.99 87.9405 649.801 L97.5845 649.801 M63.4962 652.984 L50.4465 652.984 Q50.8603 656.676 52.5472 658.618 Q54.2341 660.559 57.035 660.559 Q59.7722 660.559 61.3 658.777 Q62.8278 656.963 63.4962 652.984 M69.6073 649.801 L83.389 649.801 Q82.8479 645.759 81.0974 643.722 Q79.3468 641.653 76.4822 641.653 Q73.6813 641.653 72.0262 643.627 Q70.3712 645.568 69.6073 649.801 Z\" fill=\"#000000\" fill-rule=\"evenodd\" fill-opacity=\"1\" /><path clip-path=\"url(#clip510)\" d=\"M 0 0 M38.5426 630.545 L38.5426 625.453 Q46.0542 620.678 53.2474 618.323 Q60.4406 615.936 67.5384 615.936 Q74.668 615.936 81.8931 618.323 Q89.1182 620.678 96.5979 625.453 L96.5979 630.545 Q89.3091 626.312 82.1159 624.243 Q74.8908 622.142 67.5384 622.142 Q60.186 622.142 53.0246 624.243 Q45.8632 626.312 38.5426 630.545 Z\" fill=\"#000000\" fill-rule=\"evenodd\" fill-opacity=\"1\" /><circle clip-path=\"url(#clip512)\" cx=\"680.157\" cy=\"1400.14\" r=\"14\" fill=\"#009af9\" fill-rule=\"evenodd\" fill-opacity=\"1\" stroke=\"#000000\" stroke-opacity=\"1\" stroke-width=\"3.2\"/>\n",
       "<circle clip-path=\"url(#clip512)\" cx=\"1406.75\" cy=\"1001.11\" r=\"14\" fill=\"#009af9\" fill-rule=\"evenodd\" fill-opacity=\"1\" stroke=\"#000000\" stroke-opacity=\"1\" stroke-width=\"3.2\"/>\n",
       "<circle clip-path=\"url(#clip512)\" cx=\"910.668\" cy=\"1305.07\" r=\"14\" fill=\"#009af9\" fill-rule=\"evenodd\" fill-opacity=\"1\" stroke=\"#000000\" stroke-opacity=\"1\" stroke-width=\"3.2\"/>\n",
       "<circle clip-path=\"url(#clip512)\" cx=\"799.908\" cy=\"1320.9\" r=\"14\" fill=\"#009af9\" fill-rule=\"evenodd\" fill-opacity=\"1\" stroke=\"#000000\" stroke-opacity=\"1\" stroke-width=\"3.2\"/>\n",
       "<circle clip-path=\"url(#clip512)\" cx=\"416.577\" cy=\"1299.44\" r=\"14\" fill=\"#009af9\" fill-rule=\"evenodd\" fill-opacity=\"1\" stroke=\"#000000\" stroke-opacity=\"1\" stroke-width=\"3.2\"/>\n",
       "<circle clip-path=\"url(#clip512)\" cx=\"997.029\" cy=\"1354.73\" r=\"14\" fill=\"#009af9\" fill-rule=\"evenodd\" fill-opacity=\"1\" stroke=\"#000000\" stroke-opacity=\"1\" stroke-width=\"3.2\"/>\n",
       "<circle clip-path=\"url(#clip512)\" cx=\"844.172\" cy=\"1369.94\" r=\"14\" fill=\"#009af9\" fill-rule=\"evenodd\" fill-opacity=\"1\" stroke=\"#000000\" stroke-opacity=\"1\" stroke-width=\"3.2\"/>\n",
       "<circle clip-path=\"url(#clip512)\" cx=\"768.521\" cy=\"1398.25\" r=\"14\" fill=\"#009af9\" fill-rule=\"evenodd\" fill-opacity=\"1\" stroke=\"#000000\" stroke-opacity=\"1\" stroke-width=\"3.2\"/>\n",
       "<circle clip-path=\"url(#clip512)\" cx=\"703.703\" cy=\"1391.27\" r=\"14\" fill=\"#009af9\" fill-rule=\"evenodd\" fill-opacity=\"1\" stroke=\"#000000\" stroke-opacity=\"1\" stroke-width=\"3.2\"/>\n",
       "<circle clip-path=\"url(#clip512)\" cx=\"530.682\" cy=\"1398.65\" r=\"14\" fill=\"#009af9\" fill-rule=\"evenodd\" fill-opacity=\"1\" stroke=\"#000000\" stroke-opacity=\"1\" stroke-width=\"3.2\"/>\n",
       "<circle clip-path=\"url(#clip512)\" cx=\"843.239\" cy=\"1400.14\" r=\"14\" fill=\"#009af9\" fill-rule=\"evenodd\" fill-opacity=\"1\" stroke=\"#000000\" stroke-opacity=\"1\" stroke-width=\"3.2\"/>\n",
       "<circle clip-path=\"url(#clip512)\" cx=\"1718.53\" cy=\"776.808\" r=\"14\" fill=\"#009af9\" fill-rule=\"evenodd\" fill-opacity=\"1\" stroke=\"#000000\" stroke-opacity=\"1\" stroke-width=\"3.2\"/>\n",
       "<circle clip-path=\"url(#clip512)\" cx=\"1222.45\" cy=\"1391.62\" r=\"14\" fill=\"#009af9\" fill-rule=\"evenodd\" fill-opacity=\"1\" stroke=\"#000000\" stroke-opacity=\"1\" stroke-width=\"3.2\"/>\n",
       "<circle clip-path=\"url(#clip512)\" cx=\"363.817\" cy=\"1392.22\" r=\"14\" fill=\"#009af9\" fill-rule=\"evenodd\" fill-opacity=\"1\" stroke=\"#000000\" stroke-opacity=\"1\" stroke-width=\"3.2\"/>\n",
       "<circle clip-path=\"url(#clip512)\" cx=\"1679.82\" cy=\"1366.45\" r=\"14\" fill=\"#009af9\" fill-rule=\"evenodd\" fill-opacity=\"1\" stroke=\"#000000\" stroke-opacity=\"1\" stroke-width=\"3.2\"/>\n",
       "<circle clip-path=\"url(#clip512)\" cx=\"1639.7\" cy=\"305.895\" r=\"14\" fill=\"#009af9\" fill-rule=\"evenodd\" fill-opacity=\"1\" stroke=\"#000000\" stroke-opacity=\"1\" stroke-width=\"3.2\"/>\n",
       "<circle clip-path=\"url(#clip512)\" cx=\"1552.94\" cy=\"800.529\" r=\"14\" fill=\"#009af9\" fill-rule=\"evenodd\" fill-opacity=\"1\" stroke=\"#000000\" stroke-opacity=\"1\" stroke-width=\"3.2\"/>\n",
       "<circle clip-path=\"url(#clip512)\" cx=\"1425.98\" cy=\"1269.62\" r=\"14\" fill=\"#009af9\" fill-rule=\"evenodd\" fill-opacity=\"1\" stroke=\"#000000\" stroke-opacity=\"1\" stroke-width=\"3.2\"/>\n",
       "<circle clip-path=\"url(#clip512)\" cx=\"907.168\" cy=\"1390.31\" r=\"14\" fill=\"#009af9\" fill-rule=\"evenodd\" fill-opacity=\"1\" stroke=\"#000000\" stroke-opacity=\"1\" stroke-width=\"3.2\"/>\n",
       "<circle clip-path=\"url(#clip512)\" cx=\"2066.71\" cy=\"172.925\" r=\"14\" fill=\"#009af9\" fill-rule=\"evenodd\" fill-opacity=\"1\" stroke=\"#000000\" stroke-opacity=\"1\" stroke-width=\"3.2\"/>\n",
       "<circle clip-path=\"url(#clip512)\" cx=\"827.158\" cy=\"1393.92\" r=\"14\" fill=\"#009af9\" fill-rule=\"evenodd\" fill-opacity=\"1\" stroke=\"#000000\" stroke-opacity=\"1\" stroke-width=\"3.2\"/>\n",
       "<circle clip-path=\"url(#clip512)\" cx=\"1124.48\" cy=\"822.592\" r=\"14\" fill=\"#009af9\" fill-rule=\"evenodd\" fill-opacity=\"1\" stroke=\"#000000\" stroke-opacity=\"1\" stroke-width=\"3.2\"/>\n",
       "<circle clip-path=\"url(#clip512)\" cx=\"1210.31\" cy=\"1364.02\" r=\"14\" fill=\"#009af9\" fill-rule=\"evenodd\" fill-opacity=\"1\" stroke=\"#000000\" stroke-opacity=\"1\" stroke-width=\"3.2\"/>\n",
       "<circle clip-path=\"url(#clip512)\" cx=\"1182\" cy=\"1317.28\" r=\"14\" fill=\"#009af9\" fill-rule=\"evenodd\" fill-opacity=\"1\" stroke=\"#000000\" stroke-opacity=\"1\" stroke-width=\"3.2\"/>\n",
       "<circle clip-path=\"url(#clip512)\" cx=\"674.236\" cy=\"1258.69\" r=\"14\" fill=\"#009af9\" fill-rule=\"evenodd\" fill-opacity=\"1\" stroke=\"#000000\" stroke-opacity=\"1\" stroke-width=\"3.2\"/>\n",
       "<circle clip-path=\"url(#clip512)\" cx=\"1412.92\" cy=\"1177.94\" r=\"14\" fill=\"#009af9\" fill-rule=\"evenodd\" fill-opacity=\"1\" stroke=\"#000000\" stroke-opacity=\"1\" stroke-width=\"3.2\"/>\n",
       "<circle clip-path=\"url(#clip512)\" cx=\"1066.8\" cy=\"1392.22\" r=\"14\" fill=\"#009af9\" fill-rule=\"evenodd\" fill-opacity=\"1\" stroke=\"#000000\" stroke-opacity=\"1\" stroke-width=\"3.2\"/>\n",
       "<circle clip-path=\"url(#clip512)\" cx=\"1198.77\" cy=\"1383.8\" r=\"14\" fill=\"#009af9\" fill-rule=\"evenodd\" fill-opacity=\"1\" stroke=\"#000000\" stroke-opacity=\"1\" stroke-width=\"3.2\"/>\n",
       "<circle clip-path=\"url(#clip512)\" cx=\"1313.94\" cy=\"1346.27\" r=\"14\" fill=\"#009af9\" fill-rule=\"evenodd\" fill-opacity=\"1\" stroke=\"#000000\" stroke-opacity=\"1\" stroke-width=\"3.2\"/>\n",
       "<circle clip-path=\"url(#clip512)\" cx=\"1170.57\" cy=\"1317.28\" r=\"14\" fill=\"#009af9\" fill-rule=\"evenodd\" fill-opacity=\"1\" stroke=\"#000000\" stroke-opacity=\"1\" stroke-width=\"3.2\"/>\n",
       "<circle clip-path=\"url(#clip512)\" cx=\"616.682\" cy=\"1400.14\" r=\"14\" fill=\"#009af9\" fill-rule=\"evenodd\" fill-opacity=\"1\" stroke=\"#000000\" stroke-opacity=\"1\" stroke-width=\"3.2\"/>\n",
       "<circle clip-path=\"url(#clip512)\" cx=\"1353.16\" cy=\"802.389\" r=\"14\" fill=\"#009af9\" fill-rule=\"evenodd\" fill-opacity=\"1\" stroke=\"#000000\" stroke-opacity=\"1\" stroke-width=\"3.2\"/>\n",
       "<circle clip-path=\"url(#clip512)\" cx=\"474.867\" cy=\"1404.66\" r=\"14\" fill=\"#009af9\" fill-rule=\"evenodd\" fill-opacity=\"1\" stroke=\"#000000\" stroke-opacity=\"1\" stroke-width=\"3.2\"/>\n",
       "<circle clip-path=\"url(#clip512)\" cx=\"1580.18\" cy=\"1309.48\" r=\"14\" fill=\"#009af9\" fill-rule=\"evenodd\" fill-opacity=\"1\" stroke=\"#000000\" stroke-opacity=\"1\" stroke-width=\"3.2\"/>\n",
       "<circle clip-path=\"url(#clip512)\" cx=\"876.908\" cy=\"1325.08\" r=\"14\" fill=\"#009af9\" fill-rule=\"evenodd\" fill-opacity=\"1\" stroke=\"#000000\" stroke-opacity=\"1\" stroke-width=\"3.2\"/>\n",
       "<circle clip-path=\"url(#clip512)\" cx=\"1283.39\" cy=\"1395.06\" r=\"14\" fill=\"#009af9\" fill-rule=\"evenodd\" fill-opacity=\"1\" stroke=\"#000000\" stroke-opacity=\"1\" stroke-width=\"3.2\"/>\n",
       "<circle clip-path=\"url(#clip512)\" cx=\"851.119\" cy=\"1265.87\" r=\"14\" fill=\"#009af9\" fill-rule=\"evenodd\" fill-opacity=\"1\" stroke=\"#000000\" stroke-opacity=\"1\" stroke-width=\"3.2\"/>\n",
       "<circle clip-path=\"url(#clip512)\" cx=\"658.43\" cy=\"1398.84\" r=\"14\" fill=\"#009af9\" fill-rule=\"evenodd\" fill-opacity=\"1\" stroke=\"#000000\" stroke-opacity=\"1\" stroke-width=\"3.2\"/>\n",
       "<circle clip-path=\"url(#clip512)\" cx=\"928.686\" cy=\"1398.84\" r=\"14\" fill=\"#009af9\" fill-rule=\"evenodd\" fill-opacity=\"1\" stroke=\"#000000\" stroke-opacity=\"1\" stroke-width=\"3.2\"/>\n",
       "<circle clip-path=\"url(#clip512)\" cx=\"878.281\" cy=\"1121.03\" r=\"14\" fill=\"#009af9\" fill-rule=\"evenodd\" fill-opacity=\"1\" stroke=\"#000000\" stroke-opacity=\"1\" stroke-width=\"3.2\"/>\n",
       "<circle clip-path=\"url(#clip512)\" cx=\"1027.11\" cy=\"1005.23\" r=\"14\" fill=\"#009af9\" fill-rule=\"evenodd\" fill-opacity=\"1\" stroke=\"#000000\" stroke-opacity=\"1\" stroke-width=\"3.2\"/>\n",
       "<circle clip-path=\"url(#clip512)\" cx=\"572.808\" cy=\"1389.74\" r=\"14\" fill=\"#009af9\" fill-rule=\"evenodd\" fill-opacity=\"1\" stroke=\"#000000\" stroke-opacity=\"1\" stroke-width=\"3.2\"/>\n",
       "<circle clip-path=\"url(#clip512)\" cx=\"709.21\" cy=\"1398.67\" r=\"14\" fill=\"#009af9\" fill-rule=\"evenodd\" fill-opacity=\"1\" stroke=\"#000000\" stroke-opacity=\"1\" stroke-width=\"3.2\"/>\n",
       "<circle clip-path=\"url(#clip512)\" cx=\"1055.78\" cy=\"1260.76\" r=\"14\" fill=\"#009af9\" fill-rule=\"evenodd\" fill-opacity=\"1\" stroke=\"#000000\" stroke-opacity=\"1\" stroke-width=\"3.2\"/>\n",
       "<circle clip-path=\"url(#clip512)\" cx=\"1174.84\" cy=\"1208.55\" r=\"14\" fill=\"#009af9\" fill-rule=\"evenodd\" fill-opacity=\"1\" stroke=\"#000000\" stroke-opacity=\"1\" stroke-width=\"3.2\"/>\n",
       "<circle clip-path=\"url(#clip512)\" cx=\"1128.3\" cy=\"1352.48\" r=\"14\" fill=\"#009af9\" fill-rule=\"evenodd\" fill-opacity=\"1\" stroke=\"#000000\" stroke-opacity=\"1\" stroke-width=\"3.2\"/>\n",
       "<circle clip-path=\"url(#clip512)\" cx=\"653.47\" cy=\"1400.14\" r=\"14\" fill=\"#009af9\" fill-rule=\"evenodd\" fill-opacity=\"1\" stroke=\"#000000\" stroke-opacity=\"1\" stroke-width=\"3.2\"/>\n",
       "<circle clip-path=\"url(#clip512)\" cx=\"397.22\" cy=\"1406.95\" r=\"14\" fill=\"#009af9\" fill-rule=\"evenodd\" fill-opacity=\"1\" stroke=\"#000000\" stroke-opacity=\"1\" stroke-width=\"3.2\"/>\n",
       "<circle clip-path=\"url(#clip512)\" cx=\"1438.45\" cy=\"283.448\" r=\"14\" fill=\"#009af9\" fill-rule=\"evenodd\" fill-opacity=\"1\" stroke=\"#000000\" stroke-opacity=\"1\" stroke-width=\"3.2\"/>\n",
       "<circle clip-path=\"url(#clip512)\" cx=\"810.132\" cy=\"1387.26\" r=\"14\" fill=\"#009af9\" fill-rule=\"evenodd\" fill-opacity=\"1\" stroke=\"#000000\" stroke-opacity=\"1\" stroke-width=\"3.2\"/>\n",
       "<circle clip-path=\"url(#clip512)\" cx=\"1106.42\" cy=\"1060.32\" r=\"14\" fill=\"#009af9\" fill-rule=\"evenodd\" fill-opacity=\"1\" stroke=\"#000000\" stroke-opacity=\"1\" stroke-width=\"3.2\"/>\n",
       "<circle clip-path=\"url(#clip512)\" cx=\"1050.94\" cy=\"1385.86\" r=\"14\" fill=\"#009af9\" fill-rule=\"evenodd\" fill-opacity=\"1\" stroke=\"#000000\" stroke-opacity=\"1\" stroke-width=\"3.2\"/>\n",
       "<circle clip-path=\"url(#clip512)\" cx=\"1463.79\" cy=\"1295.44\" r=\"14\" fill=\"#009af9\" fill-rule=\"evenodd\" fill-opacity=\"1\" stroke=\"#000000\" stroke-opacity=\"1\" stroke-width=\"3.2\"/>\n",
       "<circle clip-path=\"url(#clip512)\" cx=\"1427.21\" cy=\"907.736\" r=\"14\" fill=\"#009af9\" fill-rule=\"evenodd\" fill-opacity=\"1\" stroke=\"#000000\" stroke-opacity=\"1\" stroke-width=\"3.2\"/>\n",
       "<circle clip-path=\"url(#clip512)\" cx=\"800.723\" cy=\"1393.69\" r=\"14\" fill=\"#009af9\" fill-rule=\"evenodd\" fill-opacity=\"1\" stroke=\"#000000\" stroke-opacity=\"1\" stroke-width=\"3.2\"/>\n",
       "<circle clip-path=\"url(#clip512)\" cx=\"464.83\" cy=\"1400.44\" r=\"14\" fill=\"#009af9\" fill-rule=\"evenodd\" fill-opacity=\"1\" stroke=\"#000000\" stroke-opacity=\"1\" stroke-width=\"3.2\"/>\n",
       "<circle clip-path=\"url(#clip512)\" cx=\"856.855\" cy=\"1391.11\" r=\"14\" fill=\"#009af9\" fill-rule=\"evenodd\" fill-opacity=\"1\" stroke=\"#000000\" stroke-opacity=\"1\" stroke-width=\"3.2\"/>\n",
       "<circle clip-path=\"url(#clip512)\" cx=\"1094.34\" cy=\"1410.3\" r=\"14\" fill=\"#009af9\" fill-rule=\"evenodd\" fill-opacity=\"1\" stroke=\"#000000\" stroke-opacity=\"1\" stroke-width=\"3.2\"/>\n",
       "<circle clip-path=\"url(#clip512)\" cx=\"517.967\" cy=\"1399.1\" r=\"14\" fill=\"#009af9\" fill-rule=\"evenodd\" fill-opacity=\"1\" stroke=\"#000000\" stroke-opacity=\"1\" stroke-width=\"3.2\"/>\n",
       "<circle clip-path=\"url(#clip512)\" cx=\"530.258\" cy=\"1368.38\" r=\"14\" fill=\"#009af9\" fill-rule=\"evenodd\" fill-opacity=\"1\" stroke=\"#000000\" stroke-opacity=\"1\" stroke-width=\"3.2\"/>\n",
       "<circle clip-path=\"url(#clip512)\" cx=\"643.899\" cy=\"1398.84\" r=\"14\" fill=\"#009af9\" fill-rule=\"evenodd\" fill-opacity=\"1\" stroke=\"#000000\" stroke-opacity=\"1\" stroke-width=\"3.2\"/>\n",
       "<circle clip-path=\"url(#clip512)\" cx=\"449.319\" cy=\"1163.45\" r=\"14\" fill=\"#009af9\" fill-rule=\"evenodd\" fill-opacity=\"1\" stroke=\"#000000\" stroke-opacity=\"1\" stroke-width=\"3.2\"/>\n",
       "<circle clip-path=\"url(#clip512)\" cx=\"1253.28\" cy=\"995.376\" r=\"14\" fill=\"#009af9\" fill-rule=\"evenodd\" fill-opacity=\"1\" stroke=\"#000000\" stroke-opacity=\"1\" stroke-width=\"3.2\"/>\n",
       "<circle clip-path=\"url(#clip512)\" cx=\"952.393\" cy=\"1120.02\" r=\"14\" fill=\"#009af9\" fill-rule=\"evenodd\" fill-opacity=\"1\" stroke=\"#000000\" stroke-opacity=\"1\" stroke-width=\"3.2\"/>\n",
       "<circle clip-path=\"url(#clip512)\" cx=\"836.043\" cy=\"1386.48\" r=\"14\" fill=\"#009af9\" fill-rule=\"evenodd\" fill-opacity=\"1\" stroke=\"#000000\" stroke-opacity=\"1\" stroke-width=\"3.2\"/>\n",
       "<circle clip-path=\"url(#clip512)\" cx=\"515.599\" cy=\"1375.75\" r=\"14\" fill=\"#009af9\" fill-rule=\"evenodd\" fill-opacity=\"1\" stroke=\"#000000\" stroke-opacity=\"1\" stroke-width=\"3.2\"/>\n",
       "<circle clip-path=\"url(#clip512)\" cx=\"947.043\" cy=\"1384.65\" r=\"14\" fill=\"#009af9\" fill-rule=\"evenodd\" fill-opacity=\"1\" stroke=\"#000000\" stroke-opacity=\"1\" stroke-width=\"3.2\"/>\n",
       "<circle clip-path=\"url(#clip512)\" cx=\"1740.87\" cy=\"979.113\" r=\"14\" fill=\"#009af9\" fill-rule=\"evenodd\" fill-opacity=\"1\" stroke=\"#000000\" stroke-opacity=\"1\" stroke-width=\"3.2\"/>\n",
       "<circle clip-path=\"url(#clip512)\" cx=\"579.505\" cy=\"1400.14\" r=\"14\" fill=\"#009af9\" fill-rule=\"evenodd\" fill-opacity=\"1\" stroke=\"#000000\" stroke-opacity=\"1\" stroke-width=\"3.2\"/>\n",
       "<circle clip-path=\"url(#clip512)\" cx=\"767.057\" cy=\"1379.69\" r=\"14\" fill=\"#009af9\" fill-rule=\"evenodd\" fill-opacity=\"1\" stroke=\"#000000\" stroke-opacity=\"1\" stroke-width=\"3.2\"/>\n",
       "<circle clip-path=\"url(#clip512)\" cx=\"1145.96\" cy=\"1281.87\" r=\"14\" fill=\"#009af9\" fill-rule=\"evenodd\" fill-opacity=\"1\" stroke=\"#000000\" stroke-opacity=\"1\" stroke-width=\"3.2\"/>\n",
       "<circle clip-path=\"url(#clip512)\" cx=\"755.899\" cy=\"1398.41\" r=\"14\" fill=\"#009af9\" fill-rule=\"evenodd\" fill-opacity=\"1\" stroke=\"#000000\" stroke-opacity=\"1\" stroke-width=\"3.2\"/>\n",
       "<circle clip-path=\"url(#clip512)\" cx=\"717.591\" cy=\"1145.65\" r=\"14\" fill=\"#009af9\" fill-rule=\"evenodd\" fill-opacity=\"1\" stroke=\"#000000\" stroke-opacity=\"1\" stroke-width=\"3.2\"/>\n",
       "<circle clip-path=\"url(#clip512)\" cx=\"727.691\" cy=\"1352.57\" r=\"14\" fill=\"#009af9\" fill-rule=\"evenodd\" fill-opacity=\"1\" stroke=\"#000000\" stroke-opacity=\"1\" stroke-width=\"3.2\"/>\n",
       "<circle clip-path=\"url(#clip512)\" cx=\"962.011\" cy=\"1254.87\" r=\"14\" fill=\"#009af9\" fill-rule=\"evenodd\" fill-opacity=\"1\" stroke=\"#000000\" stroke-opacity=\"1\" stroke-width=\"3.2\"/>\n",
       "<circle clip-path=\"url(#clip512)\" cx=\"850.361\" cy=\"1348.49\" r=\"14\" fill=\"#009af9\" fill-rule=\"evenodd\" fill-opacity=\"1\" stroke=\"#000000\" stroke-opacity=\"1\" stroke-width=\"3.2\"/>\n",
       "<circle clip-path=\"url(#clip512)\" cx=\"949.562\" cy=\"1376.19\" r=\"14\" fill=\"#009af9\" fill-rule=\"evenodd\" fill-opacity=\"1\" stroke=\"#000000\" stroke-opacity=\"1\" stroke-width=\"3.2\"/>\n",
       "<circle clip-path=\"url(#clip512)\" cx=\"1133.08\" cy=\"1266.57\" r=\"14\" fill=\"#009af9\" fill-rule=\"evenodd\" fill-opacity=\"1\" stroke=\"#000000\" stroke-opacity=\"1\" stroke-width=\"3.2\"/>\n",
       "<circle clip-path=\"url(#clip512)\" cx=\"476.927\" cy=\"1365.77\" r=\"14\" fill=\"#009af9\" fill-rule=\"evenodd\" fill-opacity=\"1\" stroke=\"#000000\" stroke-opacity=\"1\" stroke-width=\"3.2\"/>\n",
       "<circle clip-path=\"url(#clip512)\" cx=\"1582.3\" cy=\"164.777\" r=\"14\" fill=\"#009af9\" fill-rule=\"evenodd\" fill-opacity=\"1\" stroke=\"#000000\" stroke-opacity=\"1\" stroke-width=\"3.2\"/>\n",
       "<circle clip-path=\"url(#clip512)\" cx=\"777.401\" cy=\"1397.19\" r=\"14\" fill=\"#009af9\" fill-rule=\"evenodd\" fill-opacity=\"1\" stroke=\"#000000\" stroke-opacity=\"1\" stroke-width=\"3.2\"/>\n",
       "<circle clip-path=\"url(#clip512)\" cx=\"696.882\" cy=\"1222.44\" r=\"14\" fill=\"#009af9\" fill-rule=\"evenodd\" fill-opacity=\"1\" stroke=\"#000000\" stroke-opacity=\"1\" stroke-width=\"3.2\"/>\n",
       "<circle clip-path=\"url(#clip512)\" cx=\"1356.24\" cy=\"1309.3\" r=\"14\" fill=\"#009af9\" fill-rule=\"evenodd\" fill-opacity=\"1\" stroke=\"#000000\" stroke-opacity=\"1\" stroke-width=\"3.2\"/>\n",
       "<circle clip-path=\"url(#clip512)\" cx=\"1223.57\" cy=\"806.07\" r=\"14\" fill=\"#009af9\" fill-rule=\"evenodd\" fill-opacity=\"1\" stroke=\"#000000\" stroke-opacity=\"1\" stroke-width=\"3.2\"/>\n",
       "<circle clip-path=\"url(#clip512)\" cx=\"836.49\" cy=\"1332.88\" r=\"14\" fill=\"#009af9\" fill-rule=\"evenodd\" fill-opacity=\"1\" stroke=\"#000000\" stroke-opacity=\"1\" stroke-width=\"3.2\"/>\n",
       "<circle clip-path=\"url(#clip512)\" cx=\"1545.64\" cy=\"1397.98\" r=\"14\" fill=\"#009af9\" fill-rule=\"evenodd\" fill-opacity=\"1\" stroke=\"#000000\" stroke-opacity=\"1\" stroke-width=\"3.2\"/>\n",
       "<circle clip-path=\"url(#clip512)\" cx=\"917.326\" cy=\"1246.6\" r=\"14\" fill=\"#009af9\" fill-rule=\"evenodd\" fill-opacity=\"1\" stroke=\"#000000\" stroke-opacity=\"1\" stroke-width=\"3.2\"/>\n",
       "<circle clip-path=\"url(#clip512)\" cx=\"1093.59\" cy=\"1274.58\" r=\"14\" fill=\"#009af9\" fill-rule=\"evenodd\" fill-opacity=\"1\" stroke=\"#000000\" stroke-opacity=\"1\" stroke-width=\"3.2\"/>\n",
       "<circle clip-path=\"url(#clip512)\" cx=\"1069.57\" cy=\"1215.76\" r=\"14\" fill=\"#009af9\" fill-rule=\"evenodd\" fill-opacity=\"1\" stroke=\"#000000\" stroke-opacity=\"1\" stroke-width=\"3.2\"/>\n",
       "<circle clip-path=\"url(#clip512)\" cx=\"888.736\" cy=\"1391.39\" r=\"14\" fill=\"#009af9\" fill-rule=\"evenodd\" fill-opacity=\"1\" stroke=\"#000000\" stroke-opacity=\"1\" stroke-width=\"3.2\"/>\n",
       "<circle clip-path=\"url(#clip512)\" cx=\"2255.66\" cy=\"218.035\" r=\"14\" fill=\"#009af9\" fill-rule=\"evenodd\" fill-opacity=\"1\" stroke=\"#000000\" stroke-opacity=\"1\" stroke-width=\"3.2\"/>\n",
       "<circle clip-path=\"url(#clip512)\" cx=\"902.026\" cy=\"1344.51\" r=\"14\" fill=\"#009af9\" fill-rule=\"evenodd\" fill-opacity=\"1\" stroke=\"#000000\" stroke-opacity=\"1\" stroke-width=\"3.2\"/>\n",
       "<circle clip-path=\"url(#clip512)\" cx=\"880.568\" cy=\"1335.76\" r=\"14\" fill=\"#009af9\" fill-rule=\"evenodd\" fill-opacity=\"1\" stroke=\"#000000\" stroke-opacity=\"1\" stroke-width=\"3.2\"/>\n",
       "<circle clip-path=\"url(#clip512)\" cx=\"1697.92\" cy=\"1317.28\" r=\"14\" fill=\"#009af9\" fill-rule=\"evenodd\" fill-opacity=\"1\" stroke=\"#000000\" stroke-opacity=\"1\" stroke-width=\"3.2\"/>\n",
       "<circle clip-path=\"url(#clip512)\" cx=\"575.324\" cy=\"1396.65\" r=\"14\" fill=\"#009af9\" fill-rule=\"evenodd\" fill-opacity=\"1\" stroke=\"#000000\" stroke-opacity=\"1\" stroke-width=\"3.2\"/>\n",
       "<circle clip-path=\"url(#clip512)\" cx=\"1129.32\" cy=\"1308.69\" r=\"14\" fill=\"#009af9\" fill-rule=\"evenodd\" fill-opacity=\"1\" stroke=\"#000000\" stroke-opacity=\"1\" stroke-width=\"3.2\"/>\n",
       "<circle clip-path=\"url(#clip512)\" cx=\"979.502\" cy=\"1311.03\" r=\"14\" fill=\"#009af9\" fill-rule=\"evenodd\" fill-opacity=\"1\" stroke=\"#000000\" stroke-opacity=\"1\" stroke-width=\"3.2\"/>\n",
       "<circle clip-path=\"url(#clip512)\" cx=\"511.447\" cy=\"1400.37\" r=\"14\" fill=\"#009af9\" fill-rule=\"evenodd\" fill-opacity=\"1\" stroke=\"#000000\" stroke-opacity=\"1\" stroke-width=\"3.2\"/>\n",
       "<circle clip-path=\"url(#clip512)\" cx=\"748.664\" cy=\"1239.27\" r=\"14\" fill=\"#009af9\" fill-rule=\"evenodd\" fill-opacity=\"1\" stroke=\"#000000\" stroke-opacity=\"1\" stroke-width=\"3.2\"/>\n",
       "<circle clip-path=\"url(#clip512)\" cx=\"1162.18\" cy=\"1374.25\" r=\"14\" fill=\"#009af9\" fill-rule=\"evenodd\" fill-opacity=\"1\" stroke=\"#000000\" stroke-opacity=\"1\" stroke-width=\"3.2\"/>\n",
       "<circle clip-path=\"url(#clip512)\" cx=\"643.572\" cy=\"1397.19\" r=\"14\" fill=\"#009af9\" fill-rule=\"evenodd\" fill-opacity=\"1\" stroke=\"#000000\" stroke-opacity=\"1\" stroke-width=\"3.2\"/>\n",
       "<circle clip-path=\"url(#clip512)\" cx=\"847.039\" cy=\"1392.22\" r=\"14\" fill=\"#009af9\" fill-rule=\"evenodd\" fill-opacity=\"1\" stroke=\"#000000\" stroke-opacity=\"1\" stroke-width=\"3.2\"/>\n",
       "<circle clip-path=\"url(#clip512)\" cx=\"710.02\" cy=\"1398.84\" r=\"14\" fill=\"#009af9\" fill-rule=\"evenodd\" fill-opacity=\"1\" stroke=\"#000000\" stroke-opacity=\"1\" stroke-width=\"3.2\"/>\n",
       "<circle clip-path=\"url(#clip512)\" cx=\"1713\" cy=\"607.979\" r=\"14\" fill=\"#009af9\" fill-rule=\"evenodd\" fill-opacity=\"1\" stroke=\"#000000\" stroke-opacity=\"1\" stroke-width=\"3.2\"/>\n",
       "<circle clip-path=\"url(#clip512)\" cx=\"619.446\" cy=\"1215.86\" r=\"14\" fill=\"#009af9\" fill-rule=\"evenodd\" fill-opacity=\"1\" stroke=\"#000000\" stroke-opacity=\"1\" stroke-width=\"3.2\"/>\n",
       "<circle clip-path=\"url(#clip512)\" cx=\"325.736\" cy=\"1407.33\" r=\"14\" fill=\"#009af9\" fill-rule=\"evenodd\" fill-opacity=\"1\" stroke=\"#000000\" stroke-opacity=\"1\" stroke-width=\"3.2\"/>\n",
       "<circle clip-path=\"url(#clip512)\" cx=\"705.136\" cy=\"1356.29\" r=\"14\" fill=\"#009af9\" fill-rule=\"evenodd\" fill-opacity=\"1\" stroke=\"#000000\" stroke-opacity=\"1\" stroke-width=\"3.2\"/>\n",
       "<circle clip-path=\"url(#clip512)\" cx=\"1972.72\" cy=\"112.152\" r=\"14\" fill=\"#009af9\" fill-rule=\"evenodd\" fill-opacity=\"1\" stroke=\"#000000\" stroke-opacity=\"1\" stroke-width=\"3.2\"/>\n",
       "<circle clip-path=\"url(#clip512)\" cx=\"380.145\" cy=\"1382.48\" r=\"14\" fill=\"#009af9\" fill-rule=\"evenodd\" fill-opacity=\"1\" stroke=\"#000000\" stroke-opacity=\"1\" stroke-width=\"3.2\"/>\n",
       "<circle clip-path=\"url(#clip512)\" cx=\"729.681\" cy=\"1129.98\" r=\"14\" fill=\"#009af9\" fill-rule=\"evenodd\" fill-opacity=\"1\" stroke=\"#000000\" stroke-opacity=\"1\" stroke-width=\"3.2\"/>\n",
       "<circle clip-path=\"url(#clip512)\" cx=\"1269.24\" cy=\"1136.83\" r=\"14\" fill=\"#009af9\" fill-rule=\"evenodd\" fill-opacity=\"1\" stroke=\"#000000\" stroke-opacity=\"1\" stroke-width=\"3.2\"/>\n",
       "<circle clip-path=\"url(#clip512)\" cx=\"2000.68\" cy=\"713.399\" r=\"14\" fill=\"#009af9\" fill-rule=\"evenodd\" fill-opacity=\"1\" stroke=\"#000000\" stroke-opacity=\"1\" stroke-width=\"3.2\"/>\n",
       "<circle clip-path=\"url(#clip512)\" cx=\"1320.9\" cy=\"1382.31\" r=\"14\" fill=\"#009af9\" fill-rule=\"evenodd\" fill-opacity=\"1\" stroke=\"#000000\" stroke-opacity=\"1\" stroke-width=\"3.2\"/>\n",
       "<circle clip-path=\"url(#clip512)\" cx=\"522.766\" cy=\"1410.23\" r=\"14\" fill=\"#009af9\" fill-rule=\"evenodd\" fill-opacity=\"1\" stroke=\"#000000\" stroke-opacity=\"1\" stroke-width=\"3.2\"/>\n",
       "<circle clip-path=\"url(#clip512)\" cx=\"593.052\" cy=\"1155.64\" r=\"14\" fill=\"#009af9\" fill-rule=\"evenodd\" fill-opacity=\"1\" stroke=\"#000000\" stroke-opacity=\"1\" stroke-width=\"3.2\"/>\n",
       "<circle clip-path=\"url(#clip512)\" cx=\"2139.55\" cy=\"526.917\" r=\"14\" fill=\"#009af9\" fill-rule=\"evenodd\" fill-opacity=\"1\" stroke=\"#000000\" stroke-opacity=\"1\" stroke-width=\"3.2\"/>\n",
       "<circle clip-path=\"url(#clip512)\" cx=\"860.415\" cy=\"1181.15\" r=\"14\" fill=\"#009af9\" fill-rule=\"evenodd\" fill-opacity=\"1\" stroke=\"#000000\" stroke-opacity=\"1\" stroke-width=\"3.2\"/>\n",
       "<circle clip-path=\"url(#clip512)\" cx=\"470.042\" cy=\"1400.37\" r=\"14\" fill=\"#009af9\" fill-rule=\"evenodd\" fill-opacity=\"1\" stroke=\"#000000\" stroke-opacity=\"1\" stroke-width=\"3.2\"/>\n",
       "<circle clip-path=\"url(#clip512)\" cx=\"1106.85\" cy=\"1131.11\" r=\"14\" fill=\"#009af9\" fill-rule=\"evenodd\" fill-opacity=\"1\" stroke=\"#000000\" stroke-opacity=\"1\" stroke-width=\"3.2\"/>\n",
       "<circle clip-path=\"url(#clip512)\" cx=\"1671.91\" cy=\"638.43\" r=\"14\" fill=\"#009af9\" fill-rule=\"evenodd\" fill-opacity=\"1\" stroke=\"#000000\" stroke-opacity=\"1\" stroke-width=\"3.2\"/>\n",
       "<circle clip-path=\"url(#clip512)\" cx=\"1332.24\" cy=\"1356.13\" r=\"14\" fill=\"#009af9\" fill-rule=\"evenodd\" fill-opacity=\"1\" stroke=\"#000000\" stroke-opacity=\"1\" stroke-width=\"3.2\"/>\n",
       "<circle clip-path=\"url(#clip512)\" cx=\"913.182\" cy=\"1277.78\" r=\"14\" fill=\"#009af9\" fill-rule=\"evenodd\" fill-opacity=\"1\" stroke=\"#000000\" stroke-opacity=\"1\" stroke-width=\"3.2\"/>\n",
       "<circle clip-path=\"url(#clip512)\" cx=\"1492.6\" cy=\"1044.23\" r=\"14\" fill=\"#009af9\" fill-rule=\"evenodd\" fill-opacity=\"1\" stroke=\"#000000\" stroke-opacity=\"1\" stroke-width=\"3.2\"/>\n",
       "<circle clip-path=\"url(#clip512)\" cx=\"716.321\" cy=\"1410.3\" r=\"14\" fill=\"#009af9\" fill-rule=\"evenodd\" fill-opacity=\"1\" stroke=\"#000000\" stroke-opacity=\"1\" stroke-width=\"3.2\"/>\n",
       "<circle clip-path=\"url(#clip512)\" cx=\"313.685\" cy=\"1396.27\" r=\"14\" fill=\"#009af9\" fill-rule=\"evenodd\" fill-opacity=\"1\" stroke=\"#000000\" stroke-opacity=\"1\" stroke-width=\"3.2\"/>\n",
       "<polyline clip-path=\"url(#clip512)\" style=\"stroke:#000000; stroke-width:4; stroke-opacity:1; fill:none\" points=\"\n",
       "  216.587,1439.11 2352.76,818.413 \n",
       "  \"/>\n",
       "<path clip-path=\"url(#clip510)\" d=\"\n",
       "M1968.11 274.139 L2284.79 274.139 L2284.79 92.6992 L1968.11 92.6992  Z\n",
       "  \" fill=\"#ffffff\" fill-rule=\"evenodd\" fill-opacity=\"1\"/>\n",
       "<polyline clip-path=\"url(#clip510)\" style=\"stroke:#000000; stroke-width:4; stroke-opacity:1; fill:none\" points=\"\n",
       "  1968.11,274.139 2284.79,274.139 2284.79,92.6992 1968.11,92.6992 1968.11,274.139 \n",
       "  \"/>\n",
       "<circle clip-path=\"url(#clip510)\" cx=\"2058.73\" cy=\"153.179\" r=\"23\" fill=\"#009af9\" fill-rule=\"evenodd\" fill-opacity=\"1\" stroke=\"#000000\" stroke-opacity=\"1\" stroke-width=\"5.12\"/>\n",
       "<path clip-path=\"url(#clip510)\" d=\"M 0 0 M2168.27 148.469 L2168.27 134.441 L2172.53 134.441 L2172.53 170.459 L2168.27 170.459 L2168.27 166.57 Q2166.93 168.885 2164.87 170.019 Q2162.83 171.13 2159.96 171.13 Q2155.26 171.13 2152.3 167.38 Q2149.36 163.631 2149.36 157.519 Q2149.36 151.408 2152.3 147.658 Q2155.26 143.908 2159.96 143.908 Q2162.83 143.908 2164.87 145.043 Q2166.93 146.154 2168.27 148.469 M2153.76 157.519 Q2153.76 162.218 2155.68 164.904 Q2157.62 167.566 2161 167.566 Q2164.38 167.566 2166.33 164.904 Q2168.27 162.218 2168.27 157.519 Q2168.27 152.82 2166.33 150.158 Q2164.38 147.473 2161 147.473 Q2157.62 147.473 2155.68 150.158 Q2153.76 152.82 2153.76 157.519 Z\" fill=\"#000000\" fill-rule=\"evenodd\" fill-opacity=\"1\" /><path clip-path=\"url(#clip510)\" d=\"M 0 0 M2188.78 157.427 Q2183.62 157.427 2181.63 158.607 Q2179.64 159.788 2179.64 162.635 Q2179.64 164.904 2181.12 166.246 Q2182.62 167.566 2185.19 167.566 Q2188.73 167.566 2190.86 165.066 Q2193.02 162.543 2193.02 158.376 L2193.02 157.427 L2188.78 157.427 M2197.28 155.668 L2197.28 170.459 L2193.02 170.459 L2193.02 166.524 Q2191.56 168.885 2189.38 170.019 Q2187.21 171.13 2184.06 171.13 Q2180.08 171.13 2177.72 168.908 Q2175.38 166.663 2175.38 162.913 Q2175.38 158.538 2178.29 156.316 Q2181.23 154.094 2187.04 154.094 L2193.02 154.094 L2193.02 153.677 Q2193.02 150.737 2191.07 149.14 Q2189.15 147.519 2185.66 147.519 Q2183.43 147.519 2181.33 148.052 Q2179.22 148.584 2177.28 149.649 L2177.28 145.714 Q2179.61 144.811 2181.81 144.371 Q2184.01 143.908 2186.09 143.908 Q2191.72 143.908 2194.5 146.825 Q2197.28 149.742 2197.28 155.668 Z\" fill=\"#000000\" fill-rule=\"evenodd\" fill-opacity=\"1\" /><path clip-path=\"url(#clip510)\" d=\"M 0 0 M2205.96 137.172 L2205.96 144.533 L2214.73 144.533 L2214.73 147.844 L2205.96 147.844 L2205.96 161.918 Q2205.96 165.089 2206.81 165.992 Q2207.69 166.894 2210.35 166.894 L2214.73 166.894 L2214.73 170.459 L2210.35 170.459 Q2205.42 170.459 2203.55 168.63 Q2201.67 166.779 2201.67 161.918 L2201.67 147.844 L2198.55 147.844 L2198.55 144.533 L2201.67 144.533 L2201.67 137.172 L2205.96 137.172 Z\" fill=\"#000000\" fill-rule=\"evenodd\" fill-opacity=\"1\" /><path clip-path=\"url(#clip510)\" d=\"M 0 0 M2230.98 157.427 Q2225.82 157.427 2223.83 158.607 Q2221.84 159.788 2221.84 162.635 Q2221.84 164.904 2223.32 166.246 Q2224.82 167.566 2227.39 167.566 Q2230.93 167.566 2233.06 165.066 Q2235.21 162.543 2235.21 158.376 L2235.21 157.427 L2230.98 157.427 M2239.47 155.668 L2239.47 170.459 L2235.21 170.459 L2235.21 166.524 Q2233.76 168.885 2231.58 170.019 Q2229.4 171.13 2226.26 171.13 Q2222.28 171.13 2219.91 168.908 Q2217.58 166.663 2217.58 162.913 Q2217.58 158.538 2220.49 156.316 Q2223.43 154.094 2229.24 154.094 L2235.21 154.094 L2235.21 153.677 Q2235.21 150.737 2233.27 149.14 Q2231.35 147.519 2227.85 147.519 Q2225.63 147.519 2223.53 148.052 Q2221.42 148.584 2219.47 149.649 L2219.47 145.714 Q2221.81 144.811 2224.01 144.371 Q2226.21 143.908 2228.29 143.908 Q2233.92 143.908 2236.7 146.825 Q2239.47 149.742 2239.47 155.668 Z\" fill=\"#000000\" fill-rule=\"evenodd\" fill-opacity=\"1\" /><polyline clip-path=\"url(#clip510)\" style=\"stroke:#000000; stroke-width:4; stroke-opacity:1; fill:none\" points=\"\n",
       "  1990.76,213.659 2126.7,213.659 \n",
       "  \"/>\n",
       "<path clip-path=\"url(#clip510)\" d=\"M 0 0 M2163.2 233.347 Q2161.4 237.976 2159.68 239.388 Q2157.97 240.8 2155.1 240.8 L2151.7 240.8 L2151.7 237.235 L2154.2 237.235 Q2155.96 237.235 2156.93 236.402 Q2157.9 235.569 2159.08 232.467 L2159.84 230.523 L2149.36 205.013 L2153.87 205.013 L2161.97 225.291 L2170.08 205.013 L2174.59 205.013 L2163.2 233.347 Z\" fill=\"#000000\" fill-rule=\"evenodd\" fill-opacity=\"1\" /><path clip-path=\"url(#clip510)\" d=\"M 0 0 M2183.69 227.004 L2200.01 227.004 L2200.01 230.939 L2178.06 230.939 L2178.06 227.004 Q2180.72 224.249 2185.31 219.62 Q2189.91 214.967 2191.09 213.624 Q2193.34 211.101 2194.22 209.365 Q2195.12 207.606 2195.12 205.916 Q2195.12 203.162 2193.18 201.425 Q2191.26 199.689 2188.16 199.689 Q2185.96 199.689 2183.5 200.453 Q2181.07 201.217 2178.29 202.768 L2178.29 198.046 Q2181.12 196.912 2183.57 196.333 Q2186.03 195.754 2188.06 195.754 Q2193.43 195.754 2196.63 198.439 Q2199.82 201.125 2199.82 205.615 Q2199.82 207.745 2199.01 209.666 Q2198.22 211.564 2196.12 214.157 Q2195.54 214.828 2192.44 218.046 Q2189.34 221.24 2183.69 227.004 Z\" fill=\"#000000\" fill-rule=\"evenodd\" fill-opacity=\"1\" /></svg>\n"
      ]
     },
     "execution_count": 14,
     "metadata": {},
     "output_type": "execute_result"
    }
   ],
   "source": [
    "plot_pred_true(train_preds, y_train)"
   ]
  },
  {
   "cell_type": "code",
   "execution_count": 15,
   "metadata": {
    "scrolled": true
   },
   "outputs": [
    {
     "data": {
      "image/svg+xml": [
       "<?xml version=\"1.0\" encoding=\"utf-8\"?>\n",
       "<svg xmlns=\"http://www.w3.org/2000/svg\" xmlns:xlink=\"http://www.w3.org/1999/xlink\" width=\"600\" height=\"400\" viewBox=\"0 0 2400 1600\">\n",
       "<defs>\n",
       "  <clipPath id=\"clip550\">\n",
       "    <rect x=\"0\" y=\"0\" width=\"2400\" height=\"1600\"/>\n",
       "  </clipPath>\n",
       "</defs>\n",
       "<path clip-path=\"url(#clip550)\" d=\"\n",
       "M0 1600 L2400 1600 L2400 0 L0 0  Z\n",
       "  \" fill=\"#ffffff\" fill-rule=\"evenodd\" fill-opacity=\"1\"/>\n",
       "<defs>\n",
       "  <clipPath id=\"clip551\">\n",
       "    <rect x=\"480\" y=\"0\" width=\"1681\" height=\"1600\"/>\n",
       "  </clipPath>\n",
       "</defs>\n",
       "<path clip-path=\"url(#clip550)\" d=\"\n",
       "M313.685 1410.9 L2352.76 1410.9 L2352.76 47.2441 L313.685 47.2441  Z\n",
       "  \" fill=\"#ffffff\" fill-rule=\"evenodd\" fill-opacity=\"1\"/>\n",
       "<defs>\n",
       "  <clipPath id=\"clip552\">\n",
       "    <rect x=\"313\" y=\"47\" width=\"2040\" height=\"1365\"/>\n",
       "  </clipPath>\n",
       "</defs>\n",
       "<polyline clip-path=\"url(#clip552)\" style=\"stroke:#000000; stroke-width:2; stroke-opacity:0.1; fill:none\" points=\"\n",
       "  313.685,1410.9 313.685,47.2441 \n",
       "  \"/>\n",
       "<polyline clip-path=\"url(#clip552)\" style=\"stroke:#000000; stroke-width:2; stroke-opacity:0.1; fill:none\" points=\"\n",
       "  659.249,1410.9 659.249,47.2441 \n",
       "  \"/>\n",
       "<polyline clip-path=\"url(#clip552)\" style=\"stroke:#000000; stroke-width:2; stroke-opacity:0.1; fill:none\" points=\"\n",
       "  1004.81,1410.9 1004.81,47.2441 \n",
       "  \"/>\n",
       "<polyline clip-path=\"url(#clip552)\" style=\"stroke:#000000; stroke-width:2; stroke-opacity:0.1; fill:none\" points=\"\n",
       "  1350.38,1410.9 1350.38,47.2441 \n",
       "  \"/>\n",
       "<polyline clip-path=\"url(#clip552)\" style=\"stroke:#000000; stroke-width:2; stroke-opacity:0.1; fill:none\" points=\"\n",
       "  1695.94,1410.9 1695.94,47.2441 \n",
       "  \"/>\n",
       "<polyline clip-path=\"url(#clip552)\" style=\"stroke:#000000; stroke-width:2; stroke-opacity:0.1; fill:none\" points=\"\n",
       "  2041.51,1410.9 2041.51,47.2441 \n",
       "  \"/>\n",
       "<polyline clip-path=\"url(#clip550)\" style=\"stroke:#000000; stroke-width:4; stroke-opacity:1; fill:none\" points=\"\n",
       "  313.685,1410.9 2352.76,1410.9 \n",
       "  \"/>\n",
       "<polyline clip-path=\"url(#clip550)\" style=\"stroke:#000000; stroke-width:4; stroke-opacity:1; fill:none\" points=\"\n",
       "  313.685,1410.9 313.685,1394.53 \n",
       "  \"/>\n",
       "<polyline clip-path=\"url(#clip550)\" style=\"stroke:#000000; stroke-width:4; stroke-opacity:1; fill:none\" points=\"\n",
       "  659.249,1410.9 659.249,1394.53 \n",
       "  \"/>\n",
       "<polyline clip-path=\"url(#clip550)\" style=\"stroke:#000000; stroke-width:4; stroke-opacity:1; fill:none\" points=\"\n",
       "  1004.81,1410.9 1004.81,1394.53 \n",
       "  \"/>\n",
       "<polyline clip-path=\"url(#clip550)\" style=\"stroke:#000000; stroke-width:4; stroke-opacity:1; fill:none\" points=\"\n",
       "  1350.38,1410.9 1350.38,1394.53 \n",
       "  \"/>\n",
       "<polyline clip-path=\"url(#clip550)\" style=\"stroke:#000000; stroke-width:4; stroke-opacity:1; fill:none\" points=\"\n",
       "  1695.94,1410.9 1695.94,1394.53 \n",
       "  \"/>\n",
       "<polyline clip-path=\"url(#clip550)\" style=\"stroke:#000000; stroke-width:4; stroke-opacity:1; fill:none\" points=\"\n",
       "  2041.51,1410.9 2041.51,1394.53 \n",
       "  \"/>\n",
       "<path clip-path=\"url(#clip550)\" d=\"M 0 0 M313.685 1440.09 Q310.074 1440.09 308.245 1443.65 Q306.44 1447.19 306.44 1454.32 Q306.44 1461.43 308.245 1464.99 Q310.074 1468.54 313.685 1468.54 Q317.319 1468.54 319.125 1464.99 Q320.954 1461.43 320.954 1454.32 Q320.954 1447.19 319.125 1443.65 Q317.319 1440.09 313.685 1440.09 M313.685 1436.38 Q319.495 1436.38 322.551 1440.99 Q325.63 1445.57 325.63 1454.32 Q325.63 1463.05 322.551 1467.66 Q319.495 1472.24 313.685 1472.24 Q307.875 1472.24 304.796 1467.66 Q301.741 1463.05 301.741 1454.32 Q301.741 1445.57 304.796 1440.99 Q307.875 1436.38 313.685 1436.38 Z\" fill=\"#000000\" fill-rule=\"evenodd\" fill-opacity=\"1\" /><path clip-path=\"url(#clip550)\" d=\"M 0 0 M597.583 1489.17 L605.222 1489.17 L605.222 1462.8 L596.912 1464.47 L596.912 1460.21 L605.175 1458.54 L609.851 1458.54 L609.851 1489.17 L617.49 1489.17 L617.49 1493.1 L597.583 1493.1 L597.583 1489.17 Z\" fill=\"#000000\" fill-rule=\"evenodd\" fill-opacity=\"1\" /><path clip-path=\"url(#clip550)\" d=\"M 0 0 M650.731 1467.64 L640.152 1478.27 L650.731 1488.84 L647.976 1491.65 L637.351 1481.02 L626.726 1491.65 L623.995 1488.84 L634.55 1478.27 L623.995 1467.64 L626.726 1464.84 L637.351 1475.47 L647.976 1464.84 L650.731 1467.64 Z\" fill=\"#000000\" fill-rule=\"evenodd\" fill-opacity=\"1\" /><path clip-path=\"url(#clip550)\" d=\"M 0 0 M656.61 1489.17 L664.249 1489.17 L664.249 1462.8 L655.939 1464.47 L655.939 1460.21 L664.203 1458.54 L668.879 1458.54 L668.879 1489.17 L676.518 1489.17 L676.518 1493.1 L656.61 1493.1 L656.61 1489.17 Z\" fill=\"#000000\" fill-rule=\"evenodd\" fill-opacity=\"1\" /><path clip-path=\"url(#clip550)\" d=\"M 0 0 M691.587 1461.62 Q687.976 1461.62 686.147 1465.19 Q684.342 1468.73 684.342 1475.86 Q684.342 1482.97 686.147 1486.53 Q687.976 1490.07 691.587 1490.07 Q695.221 1490.07 697.027 1486.53 Q698.855 1482.97 698.855 1475.86 Q698.855 1468.73 697.027 1465.19 Q695.221 1461.62 691.587 1461.62 M691.587 1457.92 Q697.397 1457.92 700.453 1462.53 Q703.531 1467.11 703.531 1475.86 Q703.531 1484.59 700.453 1489.19 Q697.397 1493.78 691.587 1493.78 Q685.777 1493.78 682.698 1489.19 Q679.643 1484.59 679.643 1475.86 Q679.643 1467.11 682.698 1462.53 Q685.777 1457.92 691.587 1457.92 Z\" fill=\"#000000\" fill-rule=\"evenodd\" fill-opacity=\"1\" /><path clip-path=\"url(#clip550)\" d=\"M 0 0 M703.531 1437.61 L721.587 1437.61 L721.587 1439.23 L711.393 1465.69 L707.425 1465.69 L717.017 1440.81 L703.531 1440.81 L703.531 1437.61 Z\" fill=\"#000000\" fill-rule=\"evenodd\" fill-opacity=\"1\" /><path clip-path=\"url(#clip550)\" d=\"M 0 0 M947.418 1489.17 L963.737 1489.17 L963.737 1493.1 L941.793 1493.1 L941.793 1489.17 Q944.455 1486.41 949.038 1481.78 Q953.644 1477.13 954.825 1475.79 Q957.07 1473.27 957.95 1471.53 Q958.853 1469.77 958.853 1468.08 Q958.853 1465.33 956.908 1463.59 Q954.987 1461.85 951.885 1461.85 Q949.686 1461.85 947.232 1462.62 Q944.802 1463.38 942.024 1464.93 L942.024 1460.21 Q944.848 1459.08 947.302 1458.5 Q949.756 1457.92 951.793 1457.92 Q957.163 1457.92 960.357 1460.6 Q963.552 1463.29 963.552 1467.78 Q963.552 1469.91 962.742 1471.83 Q961.955 1473.73 959.848 1476.32 Q959.269 1476.99 956.168 1480.21 Q953.066 1483.4 947.418 1489.17 Z\" fill=\"#000000\" fill-rule=\"evenodd\" fill-opacity=\"1\" /><path clip-path=\"url(#clip550)\" d=\"M 0 0 M996.978 1467.64 L986.399 1478.27 L996.978 1488.84 L994.223 1491.65 L983.598 1481.02 L972.973 1491.65 L970.242 1488.84 L980.797 1478.27 L970.242 1467.64 L972.973 1464.84 L983.598 1475.47 L994.223 1464.84 L996.978 1467.64 Z\" fill=\"#000000\" fill-rule=\"evenodd\" fill-opacity=\"1\" /><path clip-path=\"url(#clip550)\" d=\"M 0 0 M1002.86 1489.17 L1010.5 1489.17 L1010.5 1462.8 L1002.19 1464.47 L1002.19 1460.21 L1010.45 1458.54 L1015.13 1458.54 L1015.13 1489.17 L1022.76 1489.17 L1022.76 1493.1 L1002.86 1493.1 L1002.86 1489.17 Z\" fill=\"#000000\" fill-rule=\"evenodd\" fill-opacity=\"1\" /><path clip-path=\"url(#clip550)\" d=\"M 0 0 M1037.83 1461.62 Q1034.22 1461.62 1032.39 1465.19 Q1030.59 1468.73 1030.59 1475.86 Q1030.59 1482.97 1032.39 1486.53 Q1034.22 1490.07 1037.83 1490.07 Q1041.47 1490.07 1043.27 1486.53 Q1045.1 1482.97 1045.1 1475.86 Q1045.1 1468.73 1043.27 1465.19 Q1041.47 1461.62 1037.83 1461.62 M1037.83 1457.92 Q1043.64 1457.92 1046.7 1462.53 Q1049.78 1467.11 1049.78 1475.86 Q1049.78 1484.59 1046.7 1489.19 Q1043.64 1493.78 1037.83 1493.78 Q1032.02 1493.78 1028.94 1489.19 Q1025.89 1484.59 1025.89 1475.86 Q1025.89 1467.11 1028.94 1462.53 Q1032.02 1457.92 1037.83 1457.92 Z\" fill=\"#000000\" fill-rule=\"evenodd\" fill-opacity=\"1\" /><path clip-path=\"url(#clip550)\" d=\"M 0 0 M1049.78 1437.61 L1067.83 1437.61 L1067.83 1439.23 L1057.64 1465.69 L1053.67 1465.69 L1063.26 1440.81 L1049.78 1440.81 L1049.78 1437.61 Z\" fill=\"#000000\" fill-rule=\"evenodd\" fill-opacity=\"1\" /><path clip-path=\"url(#clip550)\" d=\"M 0 0 M1302.58 1474.47 Q1305.93 1475.19 1307.81 1477.46 Q1309.71 1479.72 1309.71 1483.06 Q1309.71 1488.17 1306.19 1490.97 Q1302.67 1493.78 1296.19 1493.78 Q1294.01 1493.78 1291.7 1493.34 Q1289.41 1492.92 1286.95 1492.06 L1286.95 1487.55 Q1288.9 1488.68 1291.21 1489.26 Q1293.53 1489.84 1296.05 1489.84 Q1300.45 1489.84 1302.74 1488.1 Q1305.05 1486.37 1305.05 1483.06 Q1305.05 1480 1302.9 1478.29 Q1300.77 1476.55 1296.95 1476.55 L1292.92 1476.55 L1292.92 1472.71 L1297.14 1472.71 Q1300.59 1472.71 1302.41 1471.34 Q1304.24 1469.96 1304.24 1467.36 Q1304.24 1464.7 1302.34 1463.29 Q1300.47 1461.85 1296.95 1461.85 Q1295.03 1461.85 1292.83 1462.27 Q1290.63 1462.69 1287.99 1463.57 L1287.99 1459.4 Q1290.66 1458.66 1292.97 1458.29 Q1295.31 1457.92 1297.37 1457.92 Q1302.69 1457.92 1305.79 1460.35 Q1308.9 1462.76 1308.9 1466.88 Q1308.9 1469.75 1307.25 1471.74 Q1305.61 1473.71 1302.58 1474.47 Z\" fill=\"#000000\" fill-rule=\"evenodd\" fill-opacity=\"1\" /><path clip-path=\"url(#clip550)\" d=\"M 0 0 M1342.95 1467.64 L1332.37 1478.27 L1342.95 1488.84 L1340.19 1491.65 L1329.57 1481.02 L1318.94 1491.65 L1316.21 1488.84 L1326.77 1478.27 L1316.21 1467.64 L1318.94 1464.84 L1329.57 1475.47 L1340.19 1464.84 L1342.95 1467.64 Z\" fill=\"#000000\" fill-rule=\"evenodd\" fill-opacity=\"1\" /><path clip-path=\"url(#clip550)\" d=\"M 0 0 M1348.83 1489.17 L1356.47 1489.17 L1356.47 1462.8 L1348.15 1464.47 L1348.15 1460.21 L1356.42 1458.54 L1361.09 1458.54 L1361.09 1489.17 L1368.73 1489.17 L1368.73 1493.1 L1348.83 1493.1 L1348.83 1489.17 Z\" fill=\"#000000\" fill-rule=\"evenodd\" fill-opacity=\"1\" /><path clip-path=\"url(#clip550)\" d=\"M 0 0 M1383.8 1461.62 Q1380.19 1461.62 1378.36 1465.19 Q1376.56 1468.73 1376.56 1475.86 Q1376.56 1482.97 1378.36 1486.53 Q1380.19 1490.07 1383.8 1490.07 Q1387.44 1490.07 1389.24 1486.53 Q1391.07 1482.97 1391.07 1475.86 Q1391.07 1468.73 1389.24 1465.19 Q1387.44 1461.62 1383.8 1461.62 M1383.8 1457.92 Q1389.61 1457.92 1392.67 1462.53 Q1395.75 1467.11 1395.75 1475.86 Q1395.75 1484.59 1392.67 1489.19 Q1389.61 1493.78 1383.8 1493.78 Q1377.99 1493.78 1374.91 1489.19 Q1371.86 1484.59 1371.86 1475.86 Q1371.86 1467.11 1374.91 1462.53 Q1377.99 1457.92 1383.8 1457.92 Z\" fill=\"#000000\" fill-rule=\"evenodd\" fill-opacity=\"1\" /><path clip-path=\"url(#clip550)\" d=\"M 0 0 M1395.75 1437.61 L1413.8 1437.61 L1413.8 1439.23 L1403.61 1465.69 L1399.64 1465.69 L1409.23 1440.81 L1395.75 1440.81 L1395.75 1437.61 Z\" fill=\"#000000\" fill-rule=\"evenodd\" fill-opacity=\"1\" /><path clip-path=\"url(#clip550)\" d=\"M 0 0 M1646.9 1462.62 L1635.1 1481.07 L1646.9 1481.07 L1646.9 1462.62 M1645.68 1458.54 L1651.55 1458.54 L1651.55 1481.07 L1656.49 1481.07 L1656.49 1484.96 L1651.55 1484.96 L1651.55 1493.1 L1646.9 1493.1 L1646.9 1484.96 L1631.3 1484.96 L1631.3 1480.44 L1645.68 1458.54 Z\" fill=\"#000000\" fill-rule=\"evenodd\" fill-opacity=\"1\" /><path clip-path=\"url(#clip550)\" d=\"M 0 0 M1689.73 1467.64 L1679.15 1478.27 L1689.73 1488.84 L1686.97 1491.65 L1676.35 1481.02 L1665.72 1491.65 L1662.99 1488.84 L1673.55 1478.27 L1662.99 1467.64 L1665.72 1464.84 L1676.35 1475.47 L1686.97 1464.84 L1689.73 1467.64 Z\" fill=\"#000000\" fill-rule=\"evenodd\" fill-opacity=\"1\" /><path clip-path=\"url(#clip550)\" d=\"M 0 0 M1695.61 1489.17 L1703.24 1489.17 L1703.24 1462.8 L1694.93 1464.47 L1694.93 1460.21 L1703.2 1458.54 L1707.87 1458.54 L1707.87 1489.17 L1715.51 1489.17 L1715.51 1493.1 L1695.61 1493.1 L1695.61 1489.17 Z\" fill=\"#000000\" fill-rule=\"evenodd\" fill-opacity=\"1\" /><path clip-path=\"url(#clip550)\" d=\"M 0 0 M1730.58 1461.62 Q1726.97 1461.62 1725.14 1465.19 Q1723.34 1468.73 1723.34 1475.86 Q1723.34 1482.97 1725.14 1486.53 Q1726.97 1490.07 1730.58 1490.07 Q1734.22 1490.07 1736.02 1486.53 Q1737.85 1482.97 1737.85 1475.86 Q1737.85 1468.73 1736.02 1465.19 Q1734.22 1461.62 1730.58 1461.62 M1730.58 1457.92 Q1736.39 1457.92 1739.45 1462.53 Q1742.53 1467.11 1742.53 1475.86 Q1742.53 1484.59 1739.45 1489.19 Q1736.39 1493.78 1730.58 1493.78 Q1724.77 1493.78 1721.69 1489.19 Q1718.64 1484.59 1718.64 1475.86 Q1718.64 1467.11 1721.69 1462.53 Q1724.77 1457.92 1730.58 1457.92 Z\" fill=\"#000000\" fill-rule=\"evenodd\" fill-opacity=\"1\" /><path clip-path=\"url(#clip550)\" d=\"M 0 0 M1742.53 1437.61 L1760.58 1437.61 L1760.58 1439.23 L1750.39 1465.69 L1746.42 1465.69 L1756.01 1440.81 L1742.53 1440.81 L1742.53 1437.61 Z\" fill=\"#000000\" fill-rule=\"evenodd\" fill-opacity=\"1\" /><path clip-path=\"url(#clip550)\" d=\"M 0 0 M1979.73 1458.54 L1998.09 1458.54 L1998.09 1462.48 L1984.02 1462.48 L1984.02 1470.95 Q1985.04 1470.6 1986.05 1470.44 Q1987.07 1470.26 1988.09 1470.26 Q1993.88 1470.26 1997.26 1473.43 Q2000.64 1476.6 2000.64 1482.02 Q2000.64 1487.59 1997.17 1490.7 Q1993.69 1493.78 1987.37 1493.78 Q1985.2 1493.78 1982.93 1493.4 Q1980.68 1493.03 1978.28 1492.29 L1978.28 1487.59 Q1980.36 1488.73 1982.58 1489.28 Q1984.8 1489.84 1987.28 1489.84 Q1991.29 1489.84 1993.62 1487.73 Q1995.96 1485.63 1995.96 1482.02 Q1995.96 1478.4 1993.62 1476.3 Q1991.29 1474.19 1987.28 1474.19 Q1985.41 1474.19 1983.53 1474.61 Q1981.68 1475.03 1979.73 1475.9 L1979.73 1458.54 Z\" fill=\"#000000\" fill-rule=\"evenodd\" fill-opacity=\"1\" /><path clip-path=\"url(#clip550)\" d=\"M 0 0 M2033.88 1467.64 L2023.3 1478.27 L2033.88 1488.84 L2031.12 1491.65 L2020.5 1481.02 L2009.87 1491.65 L2007.14 1488.84 L2017.7 1478.27 L2007.14 1467.64 L2009.87 1464.84 L2020.5 1475.47 L2031.12 1464.84 L2033.88 1467.64 Z\" fill=\"#000000\" fill-rule=\"evenodd\" fill-opacity=\"1\" /><path clip-path=\"url(#clip550)\" d=\"M 0 0 M2039.76 1489.17 L2047.4 1489.17 L2047.4 1462.8 L2039.09 1464.47 L2039.09 1460.21 L2047.35 1458.54 L2052.03 1458.54 L2052.03 1489.17 L2059.66 1489.17 L2059.66 1493.1 L2039.76 1493.1 L2039.76 1489.17 Z\" fill=\"#000000\" fill-rule=\"evenodd\" fill-opacity=\"1\" /><path clip-path=\"url(#clip550)\" d=\"M 0 0 M2074.73 1461.62 Q2071.12 1461.62 2069.29 1465.19 Q2067.49 1468.73 2067.49 1475.86 Q2067.49 1482.97 2069.29 1486.53 Q2071.12 1490.07 2074.73 1490.07 Q2078.37 1490.07 2080.17 1486.53 Q2082 1482.97 2082 1475.86 Q2082 1468.73 2080.17 1465.19 Q2078.37 1461.62 2074.73 1461.62 M2074.73 1457.92 Q2080.54 1457.92 2083.6 1462.53 Q2086.68 1467.11 2086.68 1475.86 Q2086.68 1484.59 2083.6 1489.19 Q2080.54 1493.78 2074.73 1493.78 Q2068.92 1493.78 2065.85 1489.19 Q2062.79 1484.59 2062.79 1475.86 Q2062.79 1467.11 2065.85 1462.53 Q2068.92 1457.92 2074.73 1457.92 Z\" fill=\"#000000\" fill-rule=\"evenodd\" fill-opacity=\"1\" /><path clip-path=\"url(#clip550)\" d=\"M 0 0 M2086.68 1437.61 L2104.73 1437.61 L2104.73 1439.23 L2094.54 1465.69 L2090.57 1465.69 L2100.16 1440.81 L2086.68 1440.81 L2086.68 1437.61 Z\" fill=\"#000000\" fill-rule=\"evenodd\" fill-opacity=\"1\" /><path clip-path=\"url(#clip550)\" d=\"M 0 0 M1157.8 1519.95 L1157.8 1537.8 L1165.88 1537.8 Q1170.37 1537.8 1172.82 1535.48 Q1175.27 1533.16 1175.27 1528.86 Q1175.27 1524.6 1172.82 1522.27 Q1170.37 1519.95 1165.88 1519.95 L1157.8 1519.95 M1151.37 1514.67 L1165.88 1514.67 Q1173.87 1514.67 1177.95 1518.29 Q1182.05 1521.89 1182.05 1528.86 Q1182.05 1535.9 1177.95 1539.49 Q1173.87 1543.09 1165.88 1543.09 L1157.8 1543.09 L1157.8 1562.19 L1151.37 1562.19 L1151.37 1514.67 Z\" fill=\"#000000\" fill-rule=\"evenodd\" fill-opacity=\"1\" /><path clip-path=\"url(#clip550)\" d=\"M 0 0 M1207.7 1532.01 Q1206.72 1531.44 1205.54 1531.18 Q1204.39 1530.9 1202.99 1530.9 Q1198.03 1530.9 1195.36 1534.14 Q1192.71 1537.36 1192.71 1543.41 L1192.71 1562.19 L1186.83 1562.19 L1186.83 1526.54 L1192.71 1526.54 L1192.71 1532.08 Q1194.56 1528.83 1197.52 1527.27 Q1200.48 1525.68 1204.71 1525.68 Q1205.32 1525.68 1206.05 1525.77 Q1206.78 1525.84 1207.67 1526 L1207.7 1532.01 Z\" fill=\"#000000\" fill-rule=\"evenodd\" fill-opacity=\"1\" /><path clip-path=\"url(#clip550)\" d=\"M 0 0 M1242.91 1542.9 L1242.91 1545.76 L1215.98 1545.76 Q1216.36 1551.81 1219.61 1554.99 Q1222.89 1558.14 1228.71 1558.14 Q1232.09 1558.14 1235.24 1557.32 Q1238.42 1556.49 1241.54 1554.83 L1241.54 1560.37 Q1238.39 1561.71 1235.08 1562.41 Q1231.77 1563.11 1228.36 1563.11 Q1219.83 1563.11 1214.83 1558.14 Q1209.87 1553.18 1209.87 1544.71 Q1209.87 1535.96 1214.58 1530.83 Q1219.32 1525.68 1227.34 1525.68 Q1234.54 1525.68 1238.71 1530.33 Q1242.91 1534.94 1242.91 1542.9 M1237.05 1541.18 Q1236.99 1536.37 1234.35 1533.51 Q1231.74 1530.64 1227.41 1530.64 Q1222.51 1530.64 1219.54 1533.41 Q1216.62 1536.18 1216.17 1541.21 L1237.05 1541.18 Z\" fill=\"#000000\" fill-rule=\"evenodd\" fill-opacity=\"1\" /><path clip-path=\"url(#clip550)\" d=\"M 0 0 M1272.51 1531.95 L1272.51 1512.66 L1278.36 1512.66 L1278.36 1562.19 L1272.51 1562.19 L1272.51 1556.84 Q1270.66 1560.02 1267.83 1561.58 Q1265.03 1563.11 1261.08 1563.11 Q1254.62 1563.11 1250.55 1557.95 Q1246.5 1552.8 1246.5 1544.39 Q1246.5 1535.99 1250.55 1530.83 Q1254.62 1525.68 1261.08 1525.68 Q1265.03 1525.68 1267.83 1527.24 Q1270.66 1528.77 1272.51 1531.95 M1252.55 1544.39 Q1252.55 1550.85 1255.19 1554.55 Q1257.87 1558.21 1262.51 1558.21 Q1267.16 1558.21 1269.83 1554.55 Q1272.51 1550.85 1272.51 1544.39 Q1272.51 1537.93 1269.83 1534.27 Q1267.16 1530.58 1262.51 1530.58 Q1257.87 1530.58 1255.19 1534.27 Q1252.55 1537.93 1252.55 1544.39 Z\" fill=\"#000000\" fill-rule=\"evenodd\" fill-opacity=\"1\" /><path clip-path=\"url(#clip550)\" d=\"M 0 0 M1284.51 1526.54 L1290.36 1526.54 L1290.36 1562.19 L1284.51 1562.19 L1284.51 1526.54 M1284.51 1512.66 L1290.36 1512.66 L1290.36 1520.08 L1284.51 1520.08 L1284.51 1512.66 Z\" fill=\"#000000\" fill-rule=\"evenodd\" fill-opacity=\"1\" /><path clip-path=\"url(#clip550)\" d=\"M 0 0 M1322.16 1527.91 L1322.16 1533.38 Q1319.68 1532.01 1317.16 1531.34 Q1314.68 1530.64 1312.13 1530.64 Q1306.44 1530.64 1303.29 1534.27 Q1300.13 1537.87 1300.13 1544.39 Q1300.13 1550.92 1303.29 1554.55 Q1306.44 1558.14 1312.13 1558.14 Q1314.68 1558.14 1317.16 1557.47 Q1319.68 1556.77 1322.16 1555.41 L1322.16 1560.82 Q1319.71 1561.96 1317.07 1562.54 Q1314.46 1563.11 1311.5 1563.11 Q1303.44 1563.11 1298.7 1558.05 Q1293.96 1552.99 1293.96 1544.39 Q1293.96 1535.67 1298.73 1530.68 Q1303.54 1525.68 1311.88 1525.68 Q1314.58 1525.68 1317.16 1526.25 Q1319.74 1526.79 1322.16 1527.91 Z\" fill=\"#000000\" fill-rule=\"evenodd\" fill-opacity=\"1\" /><path clip-path=\"url(#clip550)\" d=\"M 0 0 M1334.1 1516.42 L1334.1 1526.54 L1346.16 1526.54 L1346.16 1531.09 L1334.1 1531.09 L1334.1 1550.44 Q1334.1 1554.8 1335.27 1556.04 Q1336.48 1557.28 1340.14 1557.28 L1346.16 1557.28 L1346.16 1562.19 L1340.14 1562.19 Q1333.36 1562.19 1330.79 1559.67 Q1328.21 1557.12 1328.21 1550.44 L1328.21 1531.09 L1323.91 1531.09 L1323.91 1526.54 L1328.21 1526.54 L1328.21 1516.42 L1334.1 1516.42 Z\" fill=\"#000000\" fill-rule=\"evenodd\" fill-opacity=\"1\" /><path clip-path=\"url(#clip550)\" d=\"M 0 0 M1382.79 1542.9 L1382.79 1545.76 L1355.87 1545.76 Q1356.25 1551.81 1359.5 1554.99 Q1362.77 1558.14 1368.6 1558.14 Q1371.97 1558.14 1375.12 1557.32 Q1378.31 1556.49 1381.42 1554.83 L1381.42 1560.37 Q1378.27 1561.71 1374.96 1562.41 Q1371.65 1563.11 1368.25 1563.11 Q1359.72 1563.11 1354.72 1558.14 Q1349.76 1553.18 1349.76 1544.71 Q1349.76 1535.96 1354.47 1530.83 Q1359.21 1525.68 1367.23 1525.68 Q1374.42 1525.68 1378.59 1530.33 Q1382.79 1534.94 1382.79 1542.9 M1376.94 1541.18 Q1376.87 1536.37 1374.23 1533.51 Q1371.62 1530.64 1367.29 1530.64 Q1362.39 1530.64 1359.43 1533.41 Q1356.5 1536.18 1356.06 1541.21 L1376.94 1541.18 Z\" fill=\"#000000\" fill-rule=\"evenodd\" fill-opacity=\"1\" /><path clip-path=\"url(#clip550)\" d=\"M 0 0 M1412.39 1531.95 L1412.39 1512.66 L1418.25 1512.66 L1418.25 1562.19 L1412.39 1562.19 L1412.39 1556.84 Q1410.55 1560.02 1407.72 1561.58 Q1404.91 1563.11 1400.97 1563.11 Q1394.51 1563.11 1390.43 1557.95 Q1386.39 1552.8 1386.39 1544.39 Q1386.39 1535.99 1390.43 1530.83 Q1394.51 1525.68 1400.97 1525.68 Q1404.91 1525.68 1407.72 1527.24 Q1410.55 1528.77 1412.39 1531.95 M1392.44 1544.39 Q1392.44 1550.85 1395.08 1554.55 Q1397.75 1558.21 1402.4 1558.21 Q1407.05 1558.21 1409.72 1554.55 Q1412.39 1550.85 1412.39 1544.39 Q1412.39 1537.93 1409.72 1534.27 Q1407.05 1530.58 1402.4 1530.58 Q1397.75 1530.58 1395.08 1534.27 Q1392.44 1537.93 1392.44 1544.39 Z\" fill=\"#000000\" fill-rule=\"evenodd\" fill-opacity=\"1\" /><path clip-path=\"url(#clip550)\" d=\"M 0 0 M1459.18 1512.72 Q1454.92 1520.04 1452.85 1527.21 Q1450.78 1534.37 1450.78 1541.72 Q1450.78 1549.07 1452.85 1556.3 Q1454.95 1563.49 1459.18 1570.78 L1454.09 1570.78 Q1449.32 1563.3 1446.93 1556.07 Q1444.57 1548.85 1444.57 1541.72 Q1444.57 1534.62 1446.93 1527.43 Q1449.28 1520.24 1454.09 1512.72 L1459.18 1512.72 Z\" fill=\"#000000\" fill-rule=\"evenodd\" fill-opacity=\"1\" /><path clip-path=\"url(#clip550)\" d=\"M 0 0 M1481.21 1571.77 L1478.02 1571.77 L1477.99 1562.19 Q1474.65 1562.12 1471.31 1561.42 Q1467.97 1560.69 1464.59 1559.26 L1464.59 1553.53 Q1467.84 1555.57 1471.15 1556.62 Q1474.49 1557.63 1478.02 1557.67 L1478.02 1543.15 Q1470.99 1542.01 1467.78 1539.27 Q1464.59 1536.53 1464.59 1531.76 Q1464.59 1526.57 1468.06 1523.58 Q1471.53 1520.59 1478.02 1520.14 L1478.02 1512.66 L1481.21 1512.66 L1481.21 1520.04 Q1484.17 1520.17 1486.94 1520.68 Q1489.71 1521.16 1492.35 1522.02 L1492.35 1527.59 Q1489.71 1526.25 1486.9 1525.52 Q1484.14 1524.79 1481.21 1524.66 L1481.21 1538.25 Q1488.43 1539.36 1491.84 1542.23 Q1495.24 1545.09 1495.24 1550.06 Q1495.24 1555.44 1491.62 1558.56 Q1488.02 1561.64 1481.21 1562.12 L1481.21 1571.77 M1478.02 1537.68 L1478.02 1524.63 Q1474.33 1525.04 1472.39 1526.73 Q1470.45 1528.42 1470.45 1531.22 Q1470.45 1533.95 1472.23 1535.48 Q1474.05 1537.01 1478.02 1537.68 M1481.21 1543.79 L1481.21 1557.57 Q1485.25 1557.03 1487.29 1555.28 Q1489.36 1553.53 1489.36 1550.66 Q1489.36 1547.86 1487.38 1546.21 Q1485.44 1544.55 1481.21 1543.79 Z\" fill=\"#000000\" fill-rule=\"evenodd\" fill-opacity=\"1\" /><path clip-path=\"url(#clip550)\" d=\"M 0 0 M1500.46 1512.72 L1505.56 1512.72 Q1510.33 1520.24 1512.69 1527.43 Q1515.07 1534.62 1515.07 1541.72 Q1515.07 1548.85 1512.69 1556.07 Q1510.33 1563.3 1505.56 1570.78 L1500.46 1570.78 Q1504.7 1563.49 1506.77 1556.3 Q1508.87 1549.07 1508.87 1541.72 Q1508.87 1534.37 1506.77 1527.21 Q1504.7 1520.04 1500.46 1512.72 Z\" fill=\"#000000\" fill-rule=\"evenodd\" fill-opacity=\"1\" /><polyline clip-path=\"url(#clip552)\" style=\"stroke:#000000; stroke-width:2; stroke-opacity:0.1; fill:none\" points=\"\n",
       "  313.685,1410.9 2352.76,1410.9 \n",
       "  \"/>\n",
       "<polyline clip-path=\"url(#clip552)\" style=\"stroke:#000000; stroke-width:2; stroke-opacity:0.1; fill:none\" points=\"\n",
       "  313.685,1014.23 2352.76,1014.23 \n",
       "  \"/>\n",
       "<polyline clip-path=\"url(#clip552)\" style=\"stroke:#000000; stroke-width:2; stroke-opacity:0.1; fill:none\" points=\"\n",
       "  313.685,617.571 2352.76,617.571 \n",
       "  \"/>\n",
       "<polyline clip-path=\"url(#clip552)\" style=\"stroke:#000000; stroke-width:2; stroke-opacity:0.1; fill:none\" points=\"\n",
       "  313.685,220.908 2352.76,220.908 \n",
       "  \"/>\n",
       "<polyline clip-path=\"url(#clip550)\" style=\"stroke:#000000; stroke-width:4; stroke-opacity:1; fill:none\" points=\"\n",
       "  313.685,1410.9 313.685,47.2441 \n",
       "  \"/>\n",
       "<polyline clip-path=\"url(#clip550)\" style=\"stroke:#000000; stroke-width:4; stroke-opacity:1; fill:none\" points=\"\n",
       "  313.685,1410.9 338.154,1410.9 \n",
       "  \"/>\n",
       "<polyline clip-path=\"url(#clip550)\" style=\"stroke:#000000; stroke-width:4; stroke-opacity:1; fill:none\" points=\"\n",
       "  313.685,1014.23 338.154,1014.23 \n",
       "  \"/>\n",
       "<polyline clip-path=\"url(#clip550)\" style=\"stroke:#000000; stroke-width:4; stroke-opacity:1; fill:none\" points=\"\n",
       "  313.685,617.571 338.154,617.571 \n",
       "  \"/>\n",
       "<polyline clip-path=\"url(#clip550)\" style=\"stroke:#000000; stroke-width:4; stroke-opacity:1; fill:none\" points=\"\n",
       "  313.685,220.908 338.154,220.908 \n",
       "  \"/>\n",
       "<path clip-path=\"url(#clip550)\" d=\"M 0 0 M265.741 1396.7 Q262.13 1396.7 260.301 1400.26 Q258.495 1403.8 258.495 1410.93 Q258.495 1418.04 260.301 1421.6 Q262.13 1425.14 265.741 1425.14 Q269.375 1425.14 271.181 1421.6 Q273.009 1418.04 273.009 1410.93 Q273.009 1403.8 271.181 1400.26 Q269.375 1396.7 265.741 1396.7 M265.741 1392.99 Q271.551 1392.99 274.607 1397.6 Q277.685 1402.18 277.685 1410.93 Q277.685 1419.66 274.607 1424.26 Q271.551 1428.85 265.741 1428.85 Q259.931 1428.85 256.852 1424.26 Q253.796 1419.66 253.796 1410.93 Q253.796 1402.18 256.852 1397.6 Q259.931 1392.99 265.741 1392.99 Z\" fill=\"#000000\" fill-rule=\"evenodd\" fill-opacity=\"1\" /><path clip-path=\"url(#clip550)\" d=\"M 0 0 M115.718 1003.4 L134.075 1003.4 L134.075 1007.34 L120.001 1007.34 L120.001 1015.81 Q121.019 1015.46 122.038 1015.3 Q123.056 1015.11 124.075 1015.11 Q129.862 1015.11 133.242 1018.29 Q136.621 1021.46 136.621 1026.87 Q136.621 1032.45 133.149 1035.55 Q129.677 1038.63 123.357 1038.63 Q121.181 1038.63 118.913 1038.26 Q116.668 1037.89 114.26 1037.15 L114.26 1032.45 Q116.343 1033.59 118.566 1034.14 Q120.788 1034.7 123.265 1034.7 Q127.269 1034.7 129.607 1032.59 Q131.945 1030.48 131.945 1026.87 Q131.945 1023.26 129.607 1021.16 Q127.269 1019.05 123.265 1019.05 Q121.39 1019.05 119.515 1019.47 Q117.663 1019.88 115.718 1020.76 L115.718 1003.4 Z\" fill=\"#000000\" fill-rule=\"evenodd\" fill-opacity=\"1\" /><path clip-path=\"url(#clip550)\" d=\"M 0 0 M141.691 1032.08 L146.575 1032.08 L146.575 1037.96 L141.691 1037.96 L141.691 1032.08 Z\" fill=\"#000000\" fill-rule=\"evenodd\" fill-opacity=\"1\" /><path clip-path=\"url(#clip550)\" d=\"M 0 0 M161.644 1006.48 Q158.033 1006.48 156.204 1010.04 Q154.399 1013.59 154.399 1020.72 Q154.399 1027.82 156.204 1031.39 Q158.033 1034.93 161.644 1034.93 Q165.278 1034.93 167.084 1031.39 Q168.913 1027.82 168.913 1020.72 Q168.913 1013.59 167.084 1010.04 Q165.278 1006.48 161.644 1006.48 M161.644 1002.78 Q167.454 1002.78 170.51 1007.38 Q173.589 1011.97 173.589 1020.72 Q173.589 1029.44 170.51 1034.05 Q167.454 1038.63 161.644 1038.63 Q155.834 1038.63 152.755 1034.05 Q149.7 1029.44 149.7 1020.72 Q149.7 1011.97 152.755 1007.38 Q155.834 1002.78 161.644 1002.78 Z\" fill=\"#000000\" fill-rule=\"evenodd\" fill-opacity=\"1\" /><path clip-path=\"url(#clip550)\" d=\"M 0 0 M206.829 1012.5 L196.25 1023.12 L206.829 1033.7 L204.074 1036.5 L193.45 1025.88 L182.825 1036.5 L180.093 1033.7 L190.649 1023.12 L180.093 1012.5 L182.825 1009.7 L193.45 1020.32 L204.074 1009.7 L206.829 1012.5 Z\" fill=\"#000000\" fill-rule=\"evenodd\" fill-opacity=\"1\" /><path clip-path=\"url(#clip550)\" d=\"M 0 0 M212.709 1034.03 L220.348 1034.03 L220.348 1007.66 L212.037 1009.33 L212.037 1005.07 L220.301 1003.4 L224.977 1003.4 L224.977 1034.03 L232.616 1034.03 L232.616 1037.96 L212.709 1037.96 L212.709 1034.03 Z\" fill=\"#000000\" fill-rule=\"evenodd\" fill-opacity=\"1\" /><path clip-path=\"url(#clip550)\" d=\"M 0 0 M247.685 1006.48 Q244.074 1006.48 242.246 1010.04 Q240.44 1013.59 240.44 1020.72 Q240.44 1027.82 242.246 1031.39 Q244.074 1034.93 247.685 1034.93 Q251.32 1034.93 253.125 1031.39 Q254.954 1027.82 254.954 1020.72 Q254.954 1013.59 253.125 1010.04 Q251.32 1006.48 247.685 1006.48 M247.685 1002.78 Q253.496 1002.78 256.551 1007.38 Q259.63 1011.97 259.63 1020.72 Q259.63 1029.44 256.551 1034.05 Q253.496 1038.63 247.685 1038.63 Q241.875 1038.63 238.797 1034.05 Q235.741 1029.44 235.741 1020.72 Q235.741 1011.97 238.797 1007.38 Q241.875 1002.78 247.685 1002.78 Z\" fill=\"#000000\" fill-rule=\"evenodd\" fill-opacity=\"1\" /><path clip-path=\"url(#clip550)\" d=\"M 0 0 M259.63 982.471 L277.685 982.471 L277.685 984.088 L267.491 1010.55 L263.523 1010.55 L273.115 985.668 L259.63 985.668 L259.63 982.471 Z\" fill=\"#000000\" fill-rule=\"evenodd\" fill-opacity=\"1\" /><path clip-path=\"url(#clip550)\" d=\"M 0 0 M115.51 637.363 L123.149 637.363 L123.149 610.998 L114.839 612.664 L114.839 608.405 L123.103 606.739 L127.779 606.739 L127.779 637.363 L135.417 637.363 L135.417 641.299 L115.51 641.299 L115.51 637.363 Z\" fill=\"#000000\" fill-rule=\"evenodd\" fill-opacity=\"1\" /><path clip-path=\"url(#clip550)\" d=\"M 0 0 M140.487 635.419 L145.371 635.419 L145.371 641.299 L140.487 641.299 L140.487 635.419 Z\" fill=\"#000000\" fill-rule=\"evenodd\" fill-opacity=\"1\" /><path clip-path=\"url(#clip550)\" d=\"M 0 0 M160.44 609.817 Q156.829 609.817 155.001 613.382 Q153.195 616.924 153.195 624.053 Q153.195 631.16 155.001 634.725 Q156.829 638.266 160.44 638.266 Q164.075 638.266 165.88 634.725 Q167.709 631.16 167.709 624.053 Q167.709 616.924 165.88 613.382 Q164.075 609.817 160.44 609.817 M160.44 606.114 Q166.251 606.114 169.306 610.72 Q172.385 615.303 172.385 624.053 Q172.385 632.78 169.306 637.387 Q166.251 641.97 160.44 641.97 Q154.63 641.97 151.552 637.387 Q148.496 632.78 148.496 624.053 Q148.496 615.303 151.552 610.72 Q154.63 606.114 160.44 606.114 Z\" fill=\"#000000\" fill-rule=\"evenodd\" fill-opacity=\"1\" /><path clip-path=\"url(#clip550)\" d=\"M 0 0 M205.625 615.836 L195.047 626.461 L205.625 637.039 L202.871 639.84 L192.246 629.215 L181.621 639.84 L178.889 637.039 L189.445 626.461 L178.889 615.836 L181.621 613.035 L192.246 623.66 L202.871 613.035 L205.625 615.836 Z\" fill=\"#000000\" fill-rule=\"evenodd\" fill-opacity=\"1\" /><path clip-path=\"url(#clip550)\" d=\"M 0 0 M211.505 637.363 L219.144 637.363 L219.144 610.998 L210.834 612.664 L210.834 608.405 L219.098 606.739 L223.773 606.739 L223.773 637.363 L231.412 637.363 L231.412 641.299 L211.505 641.299 L211.505 637.363 Z\" fill=\"#000000\" fill-rule=\"evenodd\" fill-opacity=\"1\" /><path clip-path=\"url(#clip550)\" d=\"M 0 0 M246.482 609.817 Q242.871 609.817 241.042 613.382 Q239.236 616.924 239.236 624.053 Q239.236 631.16 241.042 634.725 Q242.871 638.266 246.482 638.266 Q250.116 638.266 251.921 634.725 Q253.75 631.16 253.75 624.053 Q253.75 616.924 251.921 613.382 Q250.116 609.817 246.482 609.817 M246.482 606.114 Q252.292 606.114 255.347 610.72 Q258.426 615.303 258.426 624.053 Q258.426 632.78 255.347 637.387 Q252.292 641.97 246.482 641.97 Q240.672 641.97 237.593 637.387 Q234.537 632.78 234.537 624.053 Q234.537 615.303 237.593 610.72 Q240.672 606.114 246.482 606.114 Z\" fill=\"#000000\" fill-rule=\"evenodd\" fill-opacity=\"1\" /><path clip-path=\"url(#clip550)\" d=\"M 0 0 M268.056 600.553 Q265.347 600.553 263.786 602.002 Q262.244 603.45 262.244 605.989 Q262.244 608.528 263.786 609.976 Q265.347 611.424 268.056 611.424 Q270.764 611.424 272.325 609.976 Q273.886 608.509 273.886 605.989 Q273.886 603.45 272.325 602.002 Q270.783 600.553 268.056 600.553 M264.256 598.936 Q261.811 598.334 260.438 596.66 Q259.084 594.986 259.084 592.579 Q259.084 589.212 261.473 587.256 Q263.88 585.3 268.056 585.3 Q272.25 585.3 274.638 587.256 Q277.027 589.212 277.027 592.579 Q277.027 594.986 275.654 596.66 Q274.3 598.334 271.874 598.936 Q274.62 599.575 276.143 601.437 Q277.685 603.299 277.685 605.989 Q277.685 610.07 275.184 612.252 Q272.701 614.434 268.056 614.434 Q263.41 614.434 260.909 612.252 Q258.426 610.07 258.426 605.989 Q258.426 603.299 259.968 601.437 Q261.511 599.575 264.256 598.936 M262.865 592.936 Q262.865 595.118 264.219 596.341 Q265.592 597.563 268.056 597.563 Q270.501 597.563 271.874 596.341 Q273.265 595.118 273.265 592.936 Q273.265 590.755 271.874 589.532 Q270.501 588.31 268.056 588.31 Q265.592 588.31 264.219 589.532 Q262.865 590.755 262.865 592.936 Z\" fill=\"#000000\" fill-rule=\"evenodd\" fill-opacity=\"1\" /><path clip-path=\"url(#clip550)\" d=\"M 0 0 M116.506 240.701 L124.144 240.701 L124.144 214.335 L115.834 216.002 L115.834 211.742 L124.098 210.076 L128.774 210.076 L128.774 240.701 L136.413 240.701 L136.413 244.636 L116.506 244.636 L116.506 240.701 Z\" fill=\"#000000\" fill-rule=\"evenodd\" fill-opacity=\"1\" /><path clip-path=\"url(#clip550)\" d=\"M 0 0 M141.482 238.756 L146.366 238.756 L146.366 244.636 L141.482 244.636 L141.482 238.756 Z\" fill=\"#000000\" fill-rule=\"evenodd\" fill-opacity=\"1\" /><path clip-path=\"url(#clip550)\" d=\"M 0 0 M151.482 210.076 L169.839 210.076 L169.839 214.011 L155.765 214.011 L155.765 222.483 Q156.783 222.136 157.802 221.974 Q158.82 221.789 159.839 221.789 Q165.626 221.789 169.005 224.96 Q172.385 228.131 172.385 233.548 Q172.385 239.126 168.913 242.228 Q165.44 245.307 159.121 245.307 Q156.945 245.307 154.677 244.937 Q152.431 244.566 150.024 243.826 L150.024 239.126 Q152.107 240.261 154.329 240.816 Q156.552 241.372 159.028 241.372 Q163.033 241.372 165.371 239.265 Q167.709 237.159 167.709 233.548 Q167.709 229.937 165.371 227.83 Q163.033 225.724 159.028 225.724 Q157.153 225.724 155.278 226.14 Q153.427 226.557 151.482 227.437 L151.482 210.076 Z\" fill=\"#000000\" fill-rule=\"evenodd\" fill-opacity=\"1\" /><path clip-path=\"url(#clip550)\" d=\"M 0 0 M205.625 219.173 L195.047 229.798 L205.625 240.376 L202.871 243.177 L192.246 232.552 L181.621 243.177 L178.889 240.376 L189.445 229.798 L178.889 219.173 L181.621 216.372 L192.246 226.997 L202.871 216.372 L205.625 219.173 Z\" fill=\"#000000\" fill-rule=\"evenodd\" fill-opacity=\"1\" /><path clip-path=\"url(#clip550)\" d=\"M 0 0 M211.505 240.701 L219.144 240.701 L219.144 214.335 L210.834 216.002 L210.834 211.742 L219.098 210.076 L223.773 210.076 L223.773 240.701 L231.412 240.701 L231.412 244.636 L211.505 244.636 L211.505 240.701 Z\" fill=\"#000000\" fill-rule=\"evenodd\" fill-opacity=\"1\" /><path clip-path=\"url(#clip550)\" d=\"M 0 0 M246.482 213.154 Q242.871 213.154 241.042 216.719 Q239.236 220.261 239.236 227.39 Q239.236 234.497 241.042 238.062 Q242.871 241.603 246.482 241.603 Q250.116 241.603 251.921 238.062 Q253.75 234.497 253.75 227.39 Q253.75 220.261 251.921 216.719 Q250.116 213.154 246.482 213.154 M246.482 209.451 Q252.292 209.451 255.347 214.057 Q258.426 218.64 258.426 227.39 Q258.426 236.117 255.347 240.724 Q252.292 245.307 246.482 245.307 Q240.672 245.307 237.593 240.724 Q234.537 236.117 234.537 227.39 Q234.537 218.64 237.593 214.057 Q240.672 209.451 246.482 209.451 Z\" fill=\"#000000\" fill-rule=\"evenodd\" fill-opacity=\"1\" /><path clip-path=\"url(#clip550)\" d=\"M 0 0 M268.056 203.891 Q265.347 203.891 263.786 205.339 Q262.244 206.787 262.244 209.326 Q262.244 211.865 263.786 213.313 Q265.347 214.761 268.056 214.761 Q270.764 214.761 272.325 213.313 Q273.886 211.846 273.886 209.326 Q273.886 206.787 272.325 205.339 Q270.783 203.891 268.056 203.891 M264.256 202.273 Q261.811 201.671 260.438 199.997 Q259.084 198.324 259.084 195.916 Q259.084 192.55 261.473 190.594 Q263.88 188.638 268.056 188.638 Q272.25 188.638 274.638 190.594 Q277.027 192.55 277.027 195.916 Q277.027 198.324 275.654 199.997 Q274.3 201.671 271.874 202.273 Q274.62 202.913 276.143 204.775 Q277.685 206.637 277.685 209.326 Q277.685 213.407 275.184 215.589 Q272.701 217.771 268.056 217.771 Q263.41 217.771 260.909 215.589 Q258.426 213.407 258.426 209.326 Q258.426 206.637 259.968 204.775 Q261.511 202.913 264.256 202.273 M262.865 196.273 Q262.865 198.455 264.219 199.678 Q265.592 200.9 268.056 200.9 Q270.501 200.9 271.874 199.678 Q273.265 198.455 273.265 196.273 Q273.265 194.092 271.874 192.869 Q270.501 191.647 268.056 191.647 Q265.592 191.647 264.219 192.869 Q262.865 194.092 262.865 196.273 Z\" fill=\"#000000\" fill-rule=\"evenodd\" fill-opacity=\"1\" /><path clip-path=\"url(#clip550)\" d=\"M 0 0 M40.4842 842.205 L40.4842 802.005 L45.895 802.005 L45.895 818.875 L88.0042 818.875 L88.0042 825.336 L45.895 825.336 L45.895 842.205 L40.4842 842.205 Z\" fill=\"#000000\" fill-rule=\"evenodd\" fill-opacity=\"1\" /><path clip-path=\"url(#clip550)\" d=\"M 0 0 M57.8307 784.786 Q57.2578 785.773 57.0032 786.951 Q56.7167 788.096 56.7167 789.497 Q56.7167 794.462 59.9632 797.136 Q63.1779 799.777 69.2253 799.777 L88.0042 799.777 L88.0042 805.666 L52.3562 805.666 L52.3562 799.777 L57.8944 799.777 Q54.6479 797.931 53.0883 794.971 Q51.4968 792.011 51.4968 787.778 Q51.4968 787.173 51.5923 786.441 Q51.656 785.709 51.8151 784.818 L57.8307 784.786 Z\" fill=\"#000000\" fill-rule=\"evenodd\" fill-opacity=\"1\" /><path clip-path=\"url(#clip550)\" d=\"M 0 0 M73.9359 779.248 L52.3562 779.248 L52.3562 773.392 L73.7131 773.392 Q78.7739 773.392 81.3202 771.418 Q83.8346 769.445 83.8346 765.498 Q83.8346 760.756 80.8109 758.018 Q77.7872 755.249 72.5673 755.249 L52.3562 755.249 L52.3562 749.393 L88.0042 749.393 L88.0042 755.249 L82.5296 755.249 Q85.7762 757.382 87.3676 760.215 Q88.9272 763.015 88.9272 766.739 Q88.9272 772.882 85.1078 776.065 Q81.2883 779.248 73.9359 779.248 M51.4968 764.511 L51.4968 764.511 Z\" fill=\"#000000\" fill-rule=\"evenodd\" fill-opacity=\"1\" /><path clip-path=\"url(#clip550)\" d=\"M 0 0 M68.7161 712.758 L71.5806 712.758 L71.5806 739.685 Q77.6281 739.303 80.8109 736.057 Q83.9619 732.778 83.9619 726.954 Q83.9619 723.58 83.1344 720.429 Q82.3069 717.246 80.6518 714.127 L86.1899 714.127 Q87.5267 717.278 88.227 720.588 Q88.9272 723.898 88.9272 727.304 Q88.9272 735.834 83.9619 740.831 Q78.9967 745.796 70.5303 745.796 Q61.7774 745.796 56.6531 741.086 Q51.4968 736.343 51.4968 728.322 Q51.4968 721.129 56.1438 716.96 Q60.7589 712.758 68.7161 712.758 M66.9973 718.615 Q62.1912 718.678 59.3266 721.32 Q56.4621 723.93 56.4621 728.259 Q56.4621 733.16 59.2312 736.12 Q62.0002 739.049 67.0292 739.494 L66.9973 718.615 Z\" fill=\"#000000\" fill-rule=\"evenodd\" fill-opacity=\"1\" /><path clip-path=\"url(#clip550)\" d=\"M 0 0 M38.5426 671.827 Q45.8632 676.092 53.0246 678.161 Q60.186 680.229 67.5384 680.229 Q74.8908 680.229 82.1159 678.161 Q89.3091 676.06 96.5979 671.827 L96.5979 676.919 Q89.1182 681.694 81.8931 684.081 Q74.668 686.436 67.5384 686.436 Q60.4406 686.436 53.2474 684.081 Q46.0542 681.725 38.5426 676.919 L38.5426 671.827 Z\" fill=\"#000000\" fill-rule=\"evenodd\" fill-opacity=\"1\" /><path clip-path=\"url(#clip550)\" d=\"M 0 0 M97.5845 649.801 L97.5845 652.984 L88.0042 653.016 Q87.9405 656.358 87.2403 659.7 Q86.5082 663.042 85.0759 666.416 L79.3468 666.416 Q81.3838 663.169 82.4342 659.859 Q83.4527 656.517 83.4845 652.984 L68.9707 652.984 Q67.8249 660.018 65.0876 663.233 Q62.3504 666.416 57.5761 666.416 Q52.388 666.416 49.3961 662.947 Q46.4043 659.477 45.9587 652.984 L38.479 652.984 L38.479 649.801 L45.8632 649.801 Q45.9905 646.841 46.4998 644.072 Q46.9772 641.303 47.8365 638.661 L53.4065 638.661 Q52.0697 641.303 51.3377 644.104 Q50.6056 646.873 50.4783 649.801 L64.0691 649.801 Q65.1831 642.576 68.0477 639.171 Q70.9122 635.765 75.8775 635.765 Q81.2565 635.765 84.3757 639.393 Q87.4631 642.99 87.9405 649.801 L97.5845 649.801 M63.4962 652.984 L50.4465 652.984 Q50.8603 656.676 52.5472 658.618 Q54.2341 660.559 57.035 660.559 Q59.7722 660.559 61.3 658.777 Q62.8278 656.963 63.4962 652.984 M69.6073 649.801 L83.389 649.801 Q82.8479 645.759 81.0974 643.722 Q79.3468 641.653 76.4822 641.653 Q73.6813 641.653 72.0262 643.627 Q70.3712 645.568 69.6073 649.801 Z\" fill=\"#000000\" fill-rule=\"evenodd\" fill-opacity=\"1\" /><path clip-path=\"url(#clip550)\" d=\"M 0 0 M38.5426 630.545 L38.5426 625.453 Q46.0542 620.678 53.2474 618.323 Q60.4406 615.936 67.5384 615.936 Q74.668 615.936 81.8931 618.323 Q89.1182 620.678 96.5979 625.453 L96.5979 630.545 Q89.3091 626.312 82.1159 624.243 Q74.8908 622.142 67.5384 622.142 Q60.186 622.142 53.0246 624.243 Q45.8632 626.312 38.5426 630.545 Z\" fill=\"#000000\" fill-rule=\"evenodd\" fill-opacity=\"1\" /><circle clip-path=\"url(#clip552)\" cx=\"866.82\" cy=\"1362.59\" r=\"14\" fill=\"#009af9\" fill-rule=\"evenodd\" fill-opacity=\"1\" stroke=\"#000000\" stroke-opacity=\"1\" stroke-width=\"3.2\"/>\n",
       "<circle clip-path=\"url(#clip552)\" cx=\"1351.64\" cy=\"1282.53\" r=\"14\" fill=\"#009af9\" fill-rule=\"evenodd\" fill-opacity=\"1\" stroke=\"#000000\" stroke-opacity=\"1\" stroke-width=\"3.2\"/>\n",
       "<circle clip-path=\"url(#clip552)\" cx=\"1343.86\" cy=\"1252.23\" r=\"14\" fill=\"#009af9\" fill-rule=\"evenodd\" fill-opacity=\"1\" stroke=\"#000000\" stroke-opacity=\"1\" stroke-width=\"3.2\"/>\n",
       "<circle clip-path=\"url(#clip552)\" cx=\"777.227\" cy=\"1398.64\" r=\"14\" fill=\"#009af9\" fill-rule=\"evenodd\" fill-opacity=\"1\" stroke=\"#000000\" stroke-opacity=\"1\" stroke-width=\"3.2\"/>\n",
       "<circle clip-path=\"url(#clip552)\" cx=\"579.785\" cy=\"1382.22\" r=\"14\" fill=\"#009af9\" fill-rule=\"evenodd\" fill-opacity=\"1\" stroke=\"#000000\" stroke-opacity=\"1\" stroke-width=\"3.2\"/>\n",
       "<circle clip-path=\"url(#clip552)\" cx=\"485.717\" cy=\"1393.72\" r=\"14\" fill=\"#009af9\" fill-rule=\"evenodd\" fill-opacity=\"1\" stroke=\"#000000\" stroke-opacity=\"1\" stroke-width=\"3.2\"/>\n",
       "<circle clip-path=\"url(#clip552)\" cx=\"606.735\" cy=\"1399.96\" r=\"14\" fill=\"#009af9\" fill-rule=\"evenodd\" fill-opacity=\"1\" stroke=\"#000000\" stroke-opacity=\"1\" stroke-width=\"3.2\"/>\n",
       "<circle clip-path=\"url(#clip552)\" cx=\"1245.37\" cy=\"1246.46\" r=\"14\" fill=\"#009af9\" fill-rule=\"evenodd\" fill-opacity=\"1\" stroke=\"#000000\" stroke-opacity=\"1\" stroke-width=\"3.2\"/>\n",
       "<circle clip-path=\"url(#clip552)\" cx=\"807.842\" cy=\"1393.63\" r=\"14\" fill=\"#009af9\" fill-rule=\"evenodd\" fill-opacity=\"1\" stroke=\"#000000\" stroke-opacity=\"1\" stroke-width=\"3.2\"/>\n",
       "<circle clip-path=\"url(#clip552)\" cx=\"969.938\" cy=\"1020.5\" r=\"14\" fill=\"#009af9\" fill-rule=\"evenodd\" fill-opacity=\"1\" stroke=\"#000000\" stroke-opacity=\"1\" stroke-width=\"3.2\"/>\n",
       "<circle clip-path=\"url(#clip552)\" cx=\"627.079\" cy=\"1387.59\" r=\"14\" fill=\"#009af9\" fill-rule=\"evenodd\" fill-opacity=\"1\" stroke=\"#000000\" stroke-opacity=\"1\" stroke-width=\"3.2\"/>\n",
       "<circle clip-path=\"url(#clip552)\" cx=\"685.49\" cy=\"1367.62\" r=\"14\" fill=\"#009af9\" fill-rule=\"evenodd\" fill-opacity=\"1\" stroke=\"#000000\" stroke-opacity=\"1\" stroke-width=\"3.2\"/>\n",
       "<circle clip-path=\"url(#clip552)\" cx=\"1332.09\" cy=\"1299.83\" r=\"14\" fill=\"#009af9\" fill-rule=\"evenodd\" fill-opacity=\"1\" stroke=\"#000000\" stroke-opacity=\"1\" stroke-width=\"3.2\"/>\n",
       "<circle clip-path=\"url(#clip552)\" cx=\"688.179\" cy=\"1398.64\" r=\"14\" fill=\"#009af9\" fill-rule=\"evenodd\" fill-opacity=\"1\" stroke=\"#000000\" stroke-opacity=\"1\" stroke-width=\"3.2\"/>\n",
       "<circle clip-path=\"url(#clip552)\" cx=\"1480.93\" cy=\"1122.92\" r=\"14\" fill=\"#009af9\" fill-rule=\"evenodd\" fill-opacity=\"1\" stroke=\"#000000\" stroke-opacity=\"1\" stroke-width=\"3.2\"/>\n",
       "<circle clip-path=\"url(#clip552)\" cx=\"1549.77\" cy=\"1332.86\" r=\"14\" fill=\"#009af9\" fill-rule=\"evenodd\" fill-opacity=\"1\" stroke=\"#000000\" stroke-opacity=\"1\" stroke-width=\"3.2\"/>\n",
       "<circle clip-path=\"url(#clip552)\" cx=\"923.787\" cy=\"1398.2\" r=\"14\" fill=\"#009af9\" fill-rule=\"evenodd\" fill-opacity=\"1\" stroke=\"#000000\" stroke-opacity=\"1\" stroke-width=\"3.2\"/>\n",
       "<circle clip-path=\"url(#clip552)\" cx=\"1536.68\" cy=\"1060.22\" r=\"14\" fill=\"#009af9\" fill-rule=\"evenodd\" fill-opacity=\"1\" stroke=\"#000000\" stroke-opacity=\"1\" stroke-width=\"3.2\"/>\n",
       "<circle clip-path=\"url(#clip552)\" cx=\"2207.66\" cy=\"1208.86\" r=\"14\" fill=\"#009af9\" fill-rule=\"evenodd\" fill-opacity=\"1\" stroke=\"#000000\" stroke-opacity=\"1\" stroke-width=\"3.2\"/>\n",
       "<circle clip-path=\"url(#clip552)\" cx=\"1351.23\" cy=\"1384.07\" r=\"14\" fill=\"#009af9\" fill-rule=\"evenodd\" fill-opacity=\"1\" stroke=\"#000000\" stroke-opacity=\"1\" stroke-width=\"3.2\"/>\n",
       "<circle clip-path=\"url(#clip552)\" cx=\"400.342\" cy=\"1398.64\" r=\"14\" fill=\"#009af9\" fill-rule=\"evenodd\" fill-opacity=\"1\" stroke=\"#000000\" stroke-opacity=\"1\" stroke-width=\"3.2\"/>\n",
       "<circle clip-path=\"url(#clip552)\" cx=\"665.537\" cy=\"1389\" r=\"14\" fill=\"#009af9\" fill-rule=\"evenodd\" fill-opacity=\"1\" stroke=\"#000000\" stroke-opacity=\"1\" stroke-width=\"3.2\"/>\n",
       "<circle clip-path=\"url(#clip552)\" cx=\"2113.51\" cy=\"1283.96\" r=\"14\" fill=\"#009af9\" fill-rule=\"evenodd\" fill-opacity=\"1\" stroke=\"#000000\" stroke-opacity=\"1\" stroke-width=\"3.2\"/>\n",
       "<circle clip-path=\"url(#clip552)\" cx=\"541.347\" cy=\"1351.68\" r=\"14\" fill=\"#009af9\" fill-rule=\"evenodd\" fill-opacity=\"1\" stroke=\"#000000\" stroke-opacity=\"1\" stroke-width=\"3.2\"/>\n",
       "<circle clip-path=\"url(#clip552)\" cx=\"1264.21\" cy=\"1315.7\" r=\"14\" fill=\"#009af9\" fill-rule=\"evenodd\" fill-opacity=\"1\" stroke=\"#000000\" stroke-opacity=\"1\" stroke-width=\"3.2\"/>\n",
       "<circle clip-path=\"url(#clip552)\" cx=\"810.773\" cy=\"1297.19\" r=\"14\" fill=\"#009af9\" fill-rule=\"evenodd\" fill-opacity=\"1\" stroke=\"#000000\" stroke-opacity=\"1\" stroke-width=\"3.2\"/>\n",
       "<circle clip-path=\"url(#clip552)\" cx=\"549.76\" cy=\"1369.48\" r=\"14\" fill=\"#009af9\" fill-rule=\"evenodd\" fill-opacity=\"1\" stroke=\"#000000\" stroke-opacity=\"1\" stroke-width=\"3.2\"/>\n",
       "<circle clip-path=\"url(#clip552)\" cx=\"447.321\" cy=\"1397.09\" r=\"14\" fill=\"#009af9\" fill-rule=\"evenodd\" fill-opacity=\"1\" stroke=\"#000000\" stroke-opacity=\"1\" stroke-width=\"3.2\"/>\n",
       "<circle clip-path=\"url(#clip552)\" cx=\"915.259\" cy=\"1367.58\" r=\"14\" fill=\"#009af9\" fill-rule=\"evenodd\" fill-opacity=\"1\" stroke=\"#000000\" stroke-opacity=\"1\" stroke-width=\"3.2\"/>\n",
       "<circle clip-path=\"url(#clip552)\" cx=\"1532.93\" cy=\"1363.23\" r=\"14\" fill=\"#009af9\" fill-rule=\"evenodd\" fill-opacity=\"1\" stroke=\"#000000\" stroke-opacity=\"1\" stroke-width=\"3.2\"/>\n",
       "<circle clip-path=\"url(#clip552)\" cx=\"814.241\" cy=\"1378.42\" r=\"14\" fill=\"#009af9\" fill-rule=\"evenodd\" fill-opacity=\"1\" stroke=\"#000000\" stroke-opacity=\"1\" stroke-width=\"3.2\"/>\n",
       "<circle clip-path=\"url(#clip552)\" cx=\"1294.17\" cy=\"1271.83\" r=\"14\" fill=\"#009af9\" fill-rule=\"evenodd\" fill-opacity=\"1\" stroke=\"#000000\" stroke-opacity=\"1\" stroke-width=\"3.2\"/>\n",
       "<circle clip-path=\"url(#clip552)\" cx=\"638.33\" cy=\"1398.64\" r=\"14\" fill=\"#009af9\" fill-rule=\"evenodd\" fill-opacity=\"1\" stroke=\"#000000\" stroke-opacity=\"1\" stroke-width=\"3.2\"/>\n",
       "<circle clip-path=\"url(#clip552)\" cx=\"1394.94\" cy=\"1267.38\" r=\"14\" fill=\"#009af9\" fill-rule=\"evenodd\" fill-opacity=\"1\" stroke=\"#000000\" stroke-opacity=\"1\" stroke-width=\"3.2\"/>\n",
       "<circle clip-path=\"url(#clip552)\" cx=\"1029.46\" cy=\"1395.49\" r=\"14\" fill=\"#009af9\" fill-rule=\"evenodd\" fill-opacity=\"1\" stroke=\"#000000\" stroke-opacity=\"1\" stroke-width=\"3.2\"/>\n",
       "<circle clip-path=\"url(#clip552)\" cx=\"1369.48\" cy=\"1017.68\" r=\"14\" fill=\"#009af9\" fill-rule=\"evenodd\" fill-opacity=\"1\" stroke=\"#000000\" stroke-opacity=\"1\" stroke-width=\"3.2\"/>\n",
       "<circle clip-path=\"url(#clip552)\" cx=\"1431.12\" cy=\"1355.36\" r=\"14\" fill=\"#009af9\" fill-rule=\"evenodd\" fill-opacity=\"1\" stroke=\"#000000\" stroke-opacity=\"1\" stroke-width=\"3.2\"/>\n",
       "<circle clip-path=\"url(#clip552)\" cx=\"1508.46\" cy=\"1334.98\" r=\"14\" fill=\"#009af9\" fill-rule=\"evenodd\" fill-opacity=\"1\" stroke=\"#000000\" stroke-opacity=\"1\" stroke-width=\"3.2\"/>\n",
       "<circle clip-path=\"url(#clip552)\" cx=\"1171.41\" cy=\"1391.91\" r=\"14\" fill=\"#009af9\" fill-rule=\"evenodd\" fill-opacity=\"1\" stroke=\"#000000\" stroke-opacity=\"1\" stroke-width=\"3.2\"/>\n",
       "<circle clip-path=\"url(#clip552)\" cx=\"929.941\" cy=\"1341.56\" r=\"14\" fill=\"#009af9\" fill-rule=\"evenodd\" fill-opacity=\"1\" stroke=\"#000000\" stroke-opacity=\"1\" stroke-width=\"3.2\"/>\n",
       "<circle clip-path=\"url(#clip552)\" cx=\"1009.26\" cy=\"1121.53\" r=\"14\" fill=\"#009af9\" fill-rule=\"evenodd\" fill-opacity=\"1\" stroke=\"#000000\" stroke-opacity=\"1\" stroke-width=\"3.2\"/>\n",
       "<circle clip-path=\"url(#clip552)\" cx=\"1341.5\" cy=\"1283.96\" r=\"14\" fill=\"#009af9\" fill-rule=\"evenodd\" fill-opacity=\"1\" stroke=\"#000000\" stroke-opacity=\"1\" stroke-width=\"3.2\"/>\n",
       "<circle clip-path=\"url(#clip552)\" cx=\"984.273\" cy=\"1385.46\" r=\"14\" fill=\"#009af9\" fill-rule=\"evenodd\" fill-opacity=\"1\" stroke=\"#000000\" stroke-opacity=\"1\" stroke-width=\"3.2\"/>\n",
       "<circle clip-path=\"url(#clip552)\" cx=\"1064.28\" cy=\"1380.22\" r=\"14\" fill=\"#009af9\" fill-rule=\"evenodd\" fill-opacity=\"1\" stroke=\"#000000\" stroke-opacity=\"1\" stroke-width=\"3.2\"/>\n",
       "<circle clip-path=\"url(#clip552)\" cx=\"981.002\" cy=\"1382.42\" r=\"14\" fill=\"#009af9\" fill-rule=\"evenodd\" fill-opacity=\"1\" stroke=\"#000000\" stroke-opacity=\"1\" stroke-width=\"3.2\"/>\n",
       "<circle clip-path=\"url(#clip552)\" cx=\"1029.52\" cy=\"1327.6\" r=\"14\" fill=\"#009af9\" fill-rule=\"evenodd\" fill-opacity=\"1\" stroke=\"#000000\" stroke-opacity=\"1\" stroke-width=\"3.2\"/>\n",
       "<circle clip-path=\"url(#clip552)\" cx=\"1044.84\" cy=\"1380.09\" r=\"14\" fill=\"#009af9\" fill-rule=\"evenodd\" fill-opacity=\"1\" stroke=\"#000000\" stroke-opacity=\"1\" stroke-width=\"3.2\"/>\n",
       "<circle clip-path=\"url(#clip552)\" cx=\"959.249\" cy=\"1391.73\" r=\"14\" fill=\"#009af9\" fill-rule=\"evenodd\" fill-opacity=\"1\" stroke=\"#000000\" stroke-opacity=\"1\" stroke-width=\"3.2\"/>\n",
       "<circle clip-path=\"url(#clip552)\" cx=\"565.982\" cy=\"1399.96\" r=\"14\" fill=\"#009af9\" fill-rule=\"evenodd\" fill-opacity=\"1\" stroke=\"#000000\" stroke-opacity=\"1\" stroke-width=\"3.2\"/>\n",
       "<circle clip-path=\"url(#clip552)\" cx=\"562.116\" cy=\"1408.3\" r=\"14\" fill=\"#009af9\" fill-rule=\"evenodd\" fill-opacity=\"1\" stroke=\"#000000\" stroke-opacity=\"1\" stroke-width=\"3.2\"/>\n",
       "<circle clip-path=\"url(#clip552)\" cx=\"1026.88\" cy=\"1365.28\" r=\"14\" fill=\"#009af9\" fill-rule=\"evenodd\" fill-opacity=\"1\" stroke=\"#000000\" stroke-opacity=\"1\" stroke-width=\"3.2\"/>\n",
       "<circle clip-path=\"url(#clip552)\" cx=\"781.138\" cy=\"1325.41\" r=\"14\" fill=\"#009af9\" fill-rule=\"evenodd\" fill-opacity=\"1\" stroke=\"#000000\" stroke-opacity=\"1\" stroke-width=\"3.2\"/>\n",
       "<circle clip-path=\"url(#clip552)\" cx=\"820.559\" cy=\"1375.6\" r=\"14\" fill=\"#009af9\" fill-rule=\"evenodd\" fill-opacity=\"1\" stroke=\"#000000\" stroke-opacity=\"1\" stroke-width=\"3.2\"/>\n",
       "<circle clip-path=\"url(#clip552)\" cx=\"1999.24\" cy=\"755.047\" r=\"14\" fill=\"#009af9\" fill-rule=\"evenodd\" fill-opacity=\"1\" stroke=\"#000000\" stroke-opacity=\"1\" stroke-width=\"3.2\"/>\n",
       "<circle clip-path=\"url(#clip552)\" cx=\"796.353\" cy=\"1393.72\" r=\"14\" fill=\"#009af9\" fill-rule=\"evenodd\" fill-opacity=\"1\" stroke=\"#000000\" stroke-opacity=\"1\" stroke-width=\"3.2\"/>\n",
       "<circle clip-path=\"url(#clip552)\" cx=\"334.988\" cy=\"1409.63\" r=\"14\" fill=\"#009af9\" fill-rule=\"evenodd\" fill-opacity=\"1\" stroke=\"#000000\" stroke-opacity=\"1\" stroke-width=\"3.2\"/>\n",
       "<circle clip-path=\"url(#clip552)\" cx=\"806.787\" cy=\"1397.28\" r=\"14\" fill=\"#009af9\" fill-rule=\"evenodd\" fill-opacity=\"1\" stroke=\"#000000\" stroke-opacity=\"1\" stroke-width=\"3.2\"/>\n",
       "<circle clip-path=\"url(#clip552)\" cx=\"1100.21\" cy=\"1299.14\" r=\"14\" fill=\"#009af9\" fill-rule=\"evenodd\" fill-opacity=\"1\" stroke=\"#000000\" stroke-opacity=\"1\" stroke-width=\"3.2\"/>\n",
       "<circle clip-path=\"url(#clip552)\" cx=\"994.663\" cy=\"1398.9\" r=\"14\" fill=\"#009af9\" fill-rule=\"evenodd\" fill-opacity=\"1\" stroke=\"#000000\" stroke-opacity=\"1\" stroke-width=\"3.2\"/>\n",
       "<circle clip-path=\"url(#clip552)\" cx=\"1317.24\" cy=\"1361.79\" r=\"14\" fill=\"#009af9\" fill-rule=\"evenodd\" fill-opacity=\"1\" stroke=\"#000000\" stroke-opacity=\"1\" stroke-width=\"3.2\"/>\n",
       "<circle clip-path=\"url(#clip552)\" cx=\"1055.45\" cy=\"1270.84\" r=\"14\" fill=\"#009af9\" fill-rule=\"evenodd\" fill-opacity=\"1\" stroke=\"#000000\" stroke-opacity=\"1\" stroke-width=\"3.2\"/>\n",
       "<circle clip-path=\"url(#clip552)\" cx=\"468.304\" cy=\"1399.96\" r=\"14\" fill=\"#009af9\" fill-rule=\"evenodd\" fill-opacity=\"1\" stroke=\"#000000\" stroke-opacity=\"1\" stroke-width=\"3.2\"/>\n",
       "<circle clip-path=\"url(#clip552)\" cx=\"1159.42\" cy=\"1387.1\" r=\"14\" fill=\"#009af9\" fill-rule=\"evenodd\" fill-opacity=\"1\" stroke=\"#000000\" stroke-opacity=\"1\" stroke-width=\"3.2\"/>\n",
       "<circle clip-path=\"url(#clip552)\" cx=\"452.154\" cy=\"1380.35\" r=\"14\" fill=\"#009af9\" fill-rule=\"evenodd\" fill-opacity=\"1\" stroke=\"#000000\" stroke-opacity=\"1\" stroke-width=\"3.2\"/>\n",
       "<circle clip-path=\"url(#clip552)\" cx=\"1484.73\" cy=\"817.685\" r=\"14\" fill=\"#009af9\" fill-rule=\"evenodd\" fill-opacity=\"1\" stroke=\"#000000\" stroke-opacity=\"1\" stroke-width=\"3.2\"/>\n",
       "<circle clip-path=\"url(#clip552)\" cx=\"1691.13\" cy=\"823.836\" r=\"14\" fill=\"#009af9\" fill-rule=\"evenodd\" fill-opacity=\"1\" stroke=\"#000000\" stroke-opacity=\"1\" stroke-width=\"3.2\"/>\n",
       "<circle clip-path=\"url(#clip552)\" cx=\"1267.95\" cy=\"1172.89\" r=\"14\" fill=\"#009af9\" fill-rule=\"evenodd\" fill-opacity=\"1\" stroke=\"#000000\" stroke-opacity=\"1\" stroke-width=\"3.2\"/>\n",
       "<circle clip-path=\"url(#clip552)\" cx=\"856.783\" cy=\"1369.69\" r=\"14\" fill=\"#009af9\" fill-rule=\"evenodd\" fill-opacity=\"1\" stroke=\"#000000\" stroke-opacity=\"1\" stroke-width=\"3.2\"/>\n",
       "<circle clip-path=\"url(#clip552)\" cx=\"1359.25\" cy=\"1381.46\" r=\"14\" fill=\"#009af9\" fill-rule=\"evenodd\" fill-opacity=\"1\" stroke=\"#000000\" stroke-opacity=\"1\" stroke-width=\"3.2\"/>\n",
       "<circle clip-path=\"url(#clip552)\" cx=\"1256.19\" cy=\"1363.3\" r=\"14\" fill=\"#009af9\" fill-rule=\"evenodd\" fill-opacity=\"1\" stroke=\"#000000\" stroke-opacity=\"1\" stroke-width=\"3.2\"/>\n",
       "<circle clip-path=\"url(#clip552)\" cx=\"935.502\" cy=\"1236.36\" r=\"14\" fill=\"#009af9\" fill-rule=\"evenodd\" fill-opacity=\"1\" stroke=\"#000000\" stroke-opacity=\"1\" stroke-width=\"3.2\"/>\n",
       "<circle clip-path=\"url(#clip552)\" cx=\"471.895\" cy=\"903.843\" r=\"14\" fill=\"#009af9\" fill-rule=\"evenodd\" fill-opacity=\"1\" stroke=\"#000000\" stroke-opacity=\"1\" stroke-width=\"3.2\"/>\n",
       "<circle clip-path=\"url(#clip552)\" cx=\"770.053\" cy=\"1170.12\" r=\"14\" fill=\"#009af9\" fill-rule=\"evenodd\" fill-opacity=\"1\" stroke=\"#000000\" stroke-opacity=\"1\" stroke-width=\"3.2\"/>\n",
       "<circle clip-path=\"url(#clip552)\" cx=\"1221.15\" cy=\"1348.49\" r=\"14\" fill=\"#009af9\" fill-rule=\"evenodd\" fill-opacity=\"1\" stroke=\"#000000\" stroke-opacity=\"1\" stroke-width=\"3.2\"/>\n",
       "<circle clip-path=\"url(#clip552)\" cx=\"1299.5\" cy=\"1222.04\" r=\"14\" fill=\"#009af9\" fill-rule=\"evenodd\" fill-opacity=\"1\" stroke=\"#000000\" stroke-opacity=\"1\" stroke-width=\"3.2\"/>\n",
       "<circle clip-path=\"url(#clip552)\" cx=\"1186.53\" cy=\"1342.25\" r=\"14\" fill=\"#009af9\" fill-rule=\"evenodd\" fill-opacity=\"1\" stroke=\"#000000\" stroke-opacity=\"1\" stroke-width=\"3.2\"/>\n",
       "<circle clip-path=\"url(#clip552)\" cx=\"849.114\" cy=\"1233.6\" r=\"14\" fill=\"#009af9\" fill-rule=\"evenodd\" fill-opacity=\"1\" stroke=\"#000000\" stroke-opacity=\"1\" stroke-width=\"3.2\"/>\n",
       "<circle clip-path=\"url(#clip552)\" cx=\"1430.52\" cy=\"1327.6\" r=\"14\" fill=\"#009af9\" fill-rule=\"evenodd\" fill-opacity=\"1\" stroke=\"#000000\" stroke-opacity=\"1\" stroke-width=\"3.2\"/>\n",
       "<circle clip-path=\"url(#clip552)\" cx=\"1942.44\" cy=\"1357.37\" r=\"14\" fill=\"#009af9\" fill-rule=\"evenodd\" fill-opacity=\"1\" stroke=\"#000000\" stroke-opacity=\"1\" stroke-width=\"3.2\"/>\n",
       "<circle clip-path=\"url(#clip552)\" cx=\"1758.91\" cy=\"807.969\" r=\"14\" fill=\"#009af9\" fill-rule=\"evenodd\" fill-opacity=\"1\" stroke=\"#000000\" stroke-opacity=\"1\" stroke-width=\"3.2\"/>\n",
       "<circle clip-path=\"url(#clip552)\" cx=\"1568.5\" cy=\"1109.43\" r=\"14\" fill=\"#009af9\" fill-rule=\"evenodd\" fill-opacity=\"1\" stroke=\"#000000\" stroke-opacity=\"1\" stroke-width=\"3.2\"/>\n",
       "<circle clip-path=\"url(#clip552)\" cx=\"1308.23\" cy=\"1376.11\" r=\"14\" fill=\"#009af9\" fill-rule=\"evenodd\" fill-opacity=\"1\" stroke=\"#000000\" stroke-opacity=\"1\" stroke-width=\"3.2\"/>\n",
       "<circle clip-path=\"url(#clip552)\" cx=\"1435.59\" cy=\"1288.72\" r=\"14\" fill=\"#009af9\" fill-rule=\"evenodd\" fill-opacity=\"1\" stroke=\"#000000\" stroke-opacity=\"1\" stroke-width=\"3.2\"/>\n",
       "<circle clip-path=\"url(#clip552)\" cx=\"827.252\" cy=\"1294.43\" r=\"14\" fill=\"#009af9\" fill-rule=\"evenodd\" fill-opacity=\"1\" stroke=\"#000000\" stroke-opacity=\"1\" stroke-width=\"3.2\"/>\n",
       "<circle clip-path=\"url(#clip552)\" cx=\"1531.68\" cy=\"1257.97\" r=\"14\" fill=\"#009af9\" fill-rule=\"evenodd\" fill-opacity=\"1\" stroke=\"#000000\" stroke-opacity=\"1\" stroke-width=\"3.2\"/>\n",
       "<circle clip-path=\"url(#clip552)\" cx=\"1054.94\" cy=\"1376.83\" r=\"14\" fill=\"#009af9\" fill-rule=\"evenodd\" fill-opacity=\"1\" stroke=\"#000000\" stroke-opacity=\"1\" stroke-width=\"3.2\"/>\n",
       "<circle clip-path=\"url(#clip552)\" cx=\"643.742\" cy=\"1398.47\" r=\"14\" fill=\"#009af9\" fill-rule=\"evenodd\" fill-opacity=\"1\" stroke=\"#000000\" stroke-opacity=\"1\" stroke-width=\"3.2\"/>\n",
       "<circle clip-path=\"url(#clip552)\" cx=\"883.286\" cy=\"1410.05\" r=\"14\" fill=\"#009af9\" fill-rule=\"evenodd\" fill-opacity=\"1\" stroke=\"#000000\" stroke-opacity=\"1\" stroke-width=\"3.2\"/>\n",
       "<circle clip-path=\"url(#clip552)\" cx=\"1276.27\" cy=\"1338.12\" r=\"14\" fill=\"#009af9\" fill-rule=\"evenodd\" fill-opacity=\"1\" stroke=\"#000000\" stroke-opacity=\"1\" stroke-width=\"3.2\"/>\n",
       "<circle clip-path=\"url(#clip552)\" cx=\"1655.98\" cy=\"1313.71\" r=\"14\" fill=\"#009af9\" fill-rule=\"evenodd\" fill-opacity=\"1\" stroke=\"#000000\" stroke-opacity=\"1\" stroke-width=\"3.2\"/>\n",
       "<circle clip-path=\"url(#clip552)\" cx=\"471.928\" cy=\"1407.33\" r=\"14\" fill=\"#009af9\" fill-rule=\"evenodd\" fill-opacity=\"1\" stroke=\"#000000\" stroke-opacity=\"1\" stroke-width=\"3.2\"/>\n",
       "<circle clip-path=\"url(#clip552)\" cx=\"928.764\" cy=\"1066.47\" r=\"14\" fill=\"#009af9\" fill-rule=\"evenodd\" fill-opacity=\"1\" stroke=\"#000000\" stroke-opacity=\"1\" stroke-width=\"3.2\"/>\n",
       "<circle clip-path=\"url(#clip552)\" cx=\"954.123\" cy=\"1371.23\" r=\"14\" fill=\"#009af9\" fill-rule=\"evenodd\" fill-opacity=\"1\" stroke=\"#000000\" stroke-opacity=\"1\" stroke-width=\"3.2\"/>\n",
       "<circle clip-path=\"url(#clip552)\" cx=\"892.624\" cy=\"1403.36\" r=\"14\" fill=\"#009af9\" fill-rule=\"evenodd\" fill-opacity=\"1\" stroke=\"#000000\" stroke-opacity=\"1\" stroke-width=\"3.2\"/>\n",
       "<circle clip-path=\"url(#clip552)\" cx=\"652.833\" cy=\"1378.57\" r=\"14\" fill=\"#009af9\" fill-rule=\"evenodd\" fill-opacity=\"1\" stroke=\"#000000\" stroke-opacity=\"1\" stroke-width=\"3.2\"/>\n",
       "<circle clip-path=\"url(#clip552)\" cx=\"1699.02\" cy=\"1192.27\" r=\"14\" fill=\"#009af9\" fill-rule=\"evenodd\" fill-opacity=\"1\" stroke=\"#000000\" stroke-opacity=\"1\" stroke-width=\"3.2\"/>\n",
       "<circle clip-path=\"url(#clip552)\" cx=\"1055.82\" cy=\"1398.64\" r=\"14\" fill=\"#009af9\" fill-rule=\"evenodd\" fill-opacity=\"1\" stroke=\"#000000\" stroke-opacity=\"1\" stroke-width=\"3.2\"/>\n",
       "<circle clip-path=\"url(#clip552)\" cx=\"975.557\" cy=\"1267.42\" r=\"14\" fill=\"#009af9\" fill-rule=\"evenodd\" fill-opacity=\"1\" stroke=\"#000000\" stroke-opacity=\"1\" stroke-width=\"3.2\"/>\n",
       "<circle clip-path=\"url(#clip552)\" cx=\"1304.42\" cy=\"1371.23\" r=\"14\" fill=\"#009af9\" fill-rule=\"evenodd\" fill-opacity=\"1\" stroke=\"#000000\" stroke-opacity=\"1\" stroke-width=\"3.2\"/>\n",
       "<circle clip-path=\"url(#clip552)\" cx=\"2256.67\" cy=\"1251.44\" r=\"14\" fill=\"#009af9\" fill-rule=\"evenodd\" fill-opacity=\"1\" stroke=\"#000000\" stroke-opacity=\"1\" stroke-width=\"3.2\"/>\n",
       "<circle clip-path=\"url(#clip552)\" cx=\"1220.44\" cy=\"1299.83\" r=\"14\" fill=\"#009af9\" fill-rule=\"evenodd\" fill-opacity=\"1\" stroke=\"#000000\" stroke-opacity=\"1\" stroke-width=\"3.2\"/>\n",
       "<circle clip-path=\"url(#clip552)\" cx=\"1813.61\" cy=\"1219.65\" r=\"14\" fill=\"#009af9\" fill-rule=\"evenodd\" fill-opacity=\"1\" stroke=\"#000000\" stroke-opacity=\"1\" stroke-width=\"3.2\"/>\n",
       "<circle clip-path=\"url(#clip552)\" cx=\"1007.87\" cy=\"1194.32\" r=\"14\" fill=\"#009af9\" fill-rule=\"evenodd\" fill-opacity=\"1\" stroke=\"#000000\" stroke-opacity=\"1\" stroke-width=\"3.2\"/>\n",
       "<circle clip-path=\"url(#clip552)\" cx=\"412.114\" cy=\"1410.22\" r=\"14\" fill=\"#009af9\" fill-rule=\"evenodd\" fill-opacity=\"1\" stroke=\"#000000\" stroke-opacity=\"1\" stroke-width=\"3.2\"/>\n",
       "<circle clip-path=\"url(#clip552)\" cx=\"757.944\" cy=\"1391.91\" r=\"14\" fill=\"#009af9\" fill-rule=\"evenodd\" fill-opacity=\"1\" stroke=\"#000000\" stroke-opacity=\"1\" stroke-width=\"3.2\"/>\n",
       "<circle clip-path=\"url(#clip552)\" cx=\"1659.17\" cy=\"1342.35\" r=\"14\" fill=\"#009af9\" fill-rule=\"evenodd\" fill-opacity=\"1\" stroke=\"#000000\" stroke-opacity=\"1\" stroke-width=\"3.2\"/>\n",
       "<circle clip-path=\"url(#clip552)\" cx=\"1196.83\" cy=\"1339.5\" r=\"14\" fill=\"#009af9\" fill-rule=\"evenodd\" fill-opacity=\"1\" stroke=\"#000000\" stroke-opacity=\"1\" stroke-width=\"3.2\"/>\n",
       "<circle clip-path=\"url(#clip552)\" cx=\"952.556\" cy=\"1303.12\" r=\"14\" fill=\"#009af9\" fill-rule=\"evenodd\" fill-opacity=\"1\" stroke=\"#000000\" stroke-opacity=\"1\" stroke-width=\"3.2\"/>\n",
       "<circle clip-path=\"url(#clip552)\" cx=\"926.97\" cy=\"1376.62\" r=\"14\" fill=\"#009af9\" fill-rule=\"evenodd\" fill-opacity=\"1\" stroke=\"#000000\" stroke-opacity=\"1\" stroke-width=\"3.2\"/>\n",
       "<circle clip-path=\"url(#clip552)\" cx=\"1526.15\" cy=\"1100.62\" r=\"14\" fill=\"#009af9\" fill-rule=\"evenodd\" fill-opacity=\"1\" stroke=\"#000000\" stroke-opacity=\"1\" stroke-width=\"3.2\"/>\n",
       "<circle clip-path=\"url(#clip552)\" cx=\"715.727\" cy=\"1391.91\" r=\"14\" fill=\"#009af9\" fill-rule=\"evenodd\" fill-opacity=\"1\" stroke=\"#000000\" stroke-opacity=\"1\" stroke-width=\"3.2\"/>\n",
       "<circle clip-path=\"url(#clip552)\" cx=\"1628.7\" cy=\"1103.8\" r=\"14\" fill=\"#009af9\" fill-rule=\"evenodd\" fill-opacity=\"1\" stroke=\"#000000\" stroke-opacity=\"1\" stroke-width=\"3.2\"/>\n",
       "<circle clip-path=\"url(#clip552)\" cx=\"650.703\" cy=\"1399.96\" r=\"14\" fill=\"#009af9\" fill-rule=\"evenodd\" fill-opacity=\"1\" stroke=\"#000000\" stroke-opacity=\"1\" stroke-width=\"3.2\"/>\n",
       "<circle clip-path=\"url(#clip552)\" cx=\"1218.97\" cy=\"1392.75\" r=\"14\" fill=\"#009af9\" fill-rule=\"evenodd\" fill-opacity=\"1\" stroke=\"#000000\" stroke-opacity=\"1\" stroke-width=\"3.2\"/>\n",
       "<circle clip-path=\"url(#clip552)\" cx=\"759.663\" cy=\"1397.88\" r=\"14\" fill=\"#009af9\" fill-rule=\"evenodd\" fill-opacity=\"1\" stroke=\"#000000\" stroke-opacity=\"1\" stroke-width=\"3.2\"/>\n",
       "<circle clip-path=\"url(#clip552)\" cx=\"2092.92\" cy=\"112.148\" r=\"14\" fill=\"#009af9\" fill-rule=\"evenodd\" fill-opacity=\"1\" stroke=\"#000000\" stroke-opacity=\"1\" stroke-width=\"3.2\"/>\n",
       "<circle clip-path=\"url(#clip552)\" cx=\"449.1\" cy=\"1399.96\" r=\"14\" fill=\"#009af9\" fill-rule=\"evenodd\" fill-opacity=\"1\" stroke=\"#000000\" stroke-opacity=\"1\" stroke-width=\"3.2\"/>\n",
       "<circle clip-path=\"url(#clip552)\" cx=\"431.682\" cy=\"1400.19\" r=\"14\" fill=\"#009af9\" fill-rule=\"evenodd\" fill-opacity=\"1\" stroke=\"#000000\" stroke-opacity=\"1\" stroke-width=\"3.2\"/>\n",
       "<circle clip-path=\"url(#clip552)\" cx=\"771.146\" cy=\"1398.03\" r=\"14\" fill=\"#009af9\" fill-rule=\"evenodd\" fill-opacity=\"1\" stroke=\"#000000\" stroke-opacity=\"1\" stroke-width=\"3.2\"/>\n",
       "<circle clip-path=\"url(#clip552)\" cx=\"1685.09\" cy=\"732.927\" r=\"14\" fill=\"#009af9\" fill-rule=\"evenodd\" fill-opacity=\"1\" stroke=\"#000000\" stroke-opacity=\"1\" stroke-width=\"3.2\"/>\n",
       "<circle clip-path=\"url(#clip552)\" cx=\"469.1\" cy=\"1371.26\" r=\"14\" fill=\"#009af9\" fill-rule=\"evenodd\" fill-opacity=\"1\" stroke=\"#000000\" stroke-opacity=\"1\" stroke-width=\"3.2\"/>\n",
       "<circle clip-path=\"url(#clip552)\" cx=\"717.701\" cy=\"1410.19\" r=\"14\" fill=\"#009af9\" fill-rule=\"evenodd\" fill-opacity=\"1\" stroke=\"#000000\" stroke-opacity=\"1\" stroke-width=\"3.2\"/>\n",
       "<circle clip-path=\"url(#clip552)\" cx=\"557.325\" cy=\"1374.45\" r=\"14\" fill=\"#009af9\" fill-rule=\"evenodd\" fill-opacity=\"1\" stroke=\"#000000\" stroke-opacity=\"1\" stroke-width=\"3.2\"/>\n",
       "<circle clip-path=\"url(#clip552)\" cx=\"1334.33\" cy=\"1371.02\" r=\"14\" fill=\"#009af9\" fill-rule=\"evenodd\" fill-opacity=\"1\" stroke=\"#000000\" stroke-opacity=\"1\" stroke-width=\"3.2\"/>\n",
       "<circle clip-path=\"url(#clip552)\" cx=\"1704.08\" cy=\"247.348\" r=\"14\" fill=\"#009af9\" fill-rule=\"evenodd\" fill-opacity=\"1\" stroke=\"#000000\" stroke-opacity=\"1\" stroke-width=\"3.2\"/>\n",
       "<polyline clip-path=\"url(#clip552)\" style=\"stroke:#000000; stroke-width:4; stroke-opacity:1; fill:none\" points=\"\n",
       "  238.903,1428.06 2352.76,942.779 \n",
       "  \"/>\n",
       "<path clip-path=\"url(#clip550)\" d=\"\n",
       "M1968.11 274.139 L2284.79 274.139 L2284.79 92.6992 L1968.11 92.6992  Z\n",
       "  \" fill=\"#ffffff\" fill-rule=\"evenodd\" fill-opacity=\"1\"/>\n",
       "<polyline clip-path=\"url(#clip550)\" style=\"stroke:#000000; stroke-width:4; stroke-opacity:1; fill:none\" points=\"\n",
       "  1968.11,274.139 2284.79,274.139 2284.79,92.6992 1968.11,92.6992 1968.11,274.139 \n",
       "  \"/>\n",
       "<circle clip-path=\"url(#clip550)\" cx=\"2058.73\" cy=\"153.179\" r=\"23\" fill=\"#009af9\" fill-rule=\"evenodd\" fill-opacity=\"1\" stroke=\"#000000\" stroke-opacity=\"1\" stroke-width=\"5.12\"/>\n",
       "<path clip-path=\"url(#clip550)\" d=\"M 0 0 M2168.27 148.469 L2168.27 134.441 L2172.53 134.441 L2172.53 170.459 L2168.27 170.459 L2168.27 166.57 Q2166.93 168.885 2164.87 170.019 Q2162.83 171.13 2159.96 171.13 Q2155.26 171.13 2152.3 167.38 Q2149.36 163.631 2149.36 157.519 Q2149.36 151.408 2152.3 147.658 Q2155.26 143.908 2159.96 143.908 Q2162.83 143.908 2164.87 145.043 Q2166.93 146.154 2168.27 148.469 M2153.76 157.519 Q2153.76 162.218 2155.68 164.904 Q2157.62 167.566 2161 167.566 Q2164.38 167.566 2166.33 164.904 Q2168.27 162.218 2168.27 157.519 Q2168.27 152.82 2166.33 150.158 Q2164.38 147.473 2161 147.473 Q2157.62 147.473 2155.68 150.158 Q2153.76 152.82 2153.76 157.519 Z\" fill=\"#000000\" fill-rule=\"evenodd\" fill-opacity=\"1\" /><path clip-path=\"url(#clip550)\" d=\"M 0 0 M2188.78 157.427 Q2183.62 157.427 2181.63 158.607 Q2179.64 159.788 2179.64 162.635 Q2179.64 164.904 2181.12 166.246 Q2182.62 167.566 2185.19 167.566 Q2188.73 167.566 2190.86 165.066 Q2193.02 162.543 2193.02 158.376 L2193.02 157.427 L2188.78 157.427 M2197.28 155.668 L2197.28 170.459 L2193.02 170.459 L2193.02 166.524 Q2191.56 168.885 2189.38 170.019 Q2187.21 171.13 2184.06 171.13 Q2180.08 171.13 2177.72 168.908 Q2175.38 166.663 2175.38 162.913 Q2175.38 158.538 2178.29 156.316 Q2181.23 154.094 2187.04 154.094 L2193.02 154.094 L2193.02 153.677 Q2193.02 150.737 2191.07 149.14 Q2189.15 147.519 2185.66 147.519 Q2183.43 147.519 2181.33 148.052 Q2179.22 148.584 2177.28 149.649 L2177.28 145.714 Q2179.61 144.811 2181.81 144.371 Q2184.01 143.908 2186.09 143.908 Q2191.72 143.908 2194.5 146.825 Q2197.28 149.742 2197.28 155.668 Z\" fill=\"#000000\" fill-rule=\"evenodd\" fill-opacity=\"1\" /><path clip-path=\"url(#clip550)\" d=\"M 0 0 M2205.96 137.172 L2205.96 144.533 L2214.73 144.533 L2214.73 147.844 L2205.96 147.844 L2205.96 161.918 Q2205.96 165.089 2206.81 165.992 Q2207.69 166.894 2210.35 166.894 L2214.73 166.894 L2214.73 170.459 L2210.35 170.459 Q2205.42 170.459 2203.55 168.63 Q2201.67 166.779 2201.67 161.918 L2201.67 147.844 L2198.55 147.844 L2198.55 144.533 L2201.67 144.533 L2201.67 137.172 L2205.96 137.172 Z\" fill=\"#000000\" fill-rule=\"evenodd\" fill-opacity=\"1\" /><path clip-path=\"url(#clip550)\" d=\"M 0 0 M2230.98 157.427 Q2225.82 157.427 2223.83 158.607 Q2221.84 159.788 2221.84 162.635 Q2221.84 164.904 2223.32 166.246 Q2224.82 167.566 2227.39 167.566 Q2230.93 167.566 2233.06 165.066 Q2235.21 162.543 2235.21 158.376 L2235.21 157.427 L2230.98 157.427 M2239.47 155.668 L2239.47 170.459 L2235.21 170.459 L2235.21 166.524 Q2233.76 168.885 2231.58 170.019 Q2229.4 171.13 2226.26 171.13 Q2222.28 171.13 2219.91 168.908 Q2217.58 166.663 2217.58 162.913 Q2217.58 158.538 2220.49 156.316 Q2223.43 154.094 2229.24 154.094 L2235.21 154.094 L2235.21 153.677 Q2235.21 150.737 2233.27 149.14 Q2231.35 147.519 2227.85 147.519 Q2225.63 147.519 2223.53 148.052 Q2221.42 148.584 2219.47 149.649 L2219.47 145.714 Q2221.81 144.811 2224.01 144.371 Q2226.21 143.908 2228.29 143.908 Q2233.92 143.908 2236.7 146.825 Q2239.47 149.742 2239.47 155.668 Z\" fill=\"#000000\" fill-rule=\"evenodd\" fill-opacity=\"1\" /><polyline clip-path=\"url(#clip550)\" style=\"stroke:#000000; stroke-width:4; stroke-opacity:1; fill:none\" points=\"\n",
       "  1990.76,213.659 2126.7,213.659 \n",
       "  \"/>\n",
       "<path clip-path=\"url(#clip550)\" d=\"M 0 0 M2163.2 233.347 Q2161.4 237.976 2159.68 239.388 Q2157.97 240.8 2155.1 240.8 L2151.7 240.8 L2151.7 237.235 L2154.2 237.235 Q2155.96 237.235 2156.93 236.402 Q2157.9 235.569 2159.08 232.467 L2159.84 230.523 L2149.36 205.013 L2153.87 205.013 L2161.97 225.291 L2170.08 205.013 L2174.59 205.013 L2163.2 233.347 Z\" fill=\"#000000\" fill-rule=\"evenodd\" fill-opacity=\"1\" /><path clip-path=\"url(#clip550)\" d=\"M 0 0 M2183.69 227.004 L2200.01 227.004 L2200.01 230.939 L2178.06 230.939 L2178.06 227.004 Q2180.72 224.249 2185.31 219.62 Q2189.91 214.967 2191.09 213.624 Q2193.34 211.101 2194.22 209.365 Q2195.12 207.606 2195.12 205.916 Q2195.12 203.162 2193.18 201.425 Q2191.26 199.689 2188.16 199.689 Q2185.96 199.689 2183.5 200.453 Q2181.07 201.217 2178.29 202.768 L2178.29 198.046 Q2181.12 196.912 2183.57 196.333 Q2186.03 195.754 2188.06 195.754 Q2193.43 195.754 2196.63 198.439 Q2199.82 201.125 2199.82 205.615 Q2199.82 207.745 2199.01 209.666 Q2198.22 211.564 2196.12 214.157 Q2195.54 214.828 2192.44 218.046 Q2189.34 221.24 2183.69 227.004 Z\" fill=\"#000000\" fill-rule=\"evenodd\" fill-opacity=\"1\" /></svg>\n"
      ]
     },
     "execution_count": 15,
     "metadata": {},
     "output_type": "execute_result"
    }
   ],
   "source": [
    "plot_pred_true(test_preds, y_test)"
   ]
  }
 ],
 "metadata": {
  "kernelspec": {
   "display_name": "Julia 1.5.1",
   "language": "julia",
   "name": "julia-1.5"
  },
  "language_info": {
   "file_extension": ".jl",
   "mimetype": "application/julia",
   "name": "julia",
   "version": "1.5.1"
  }
 },
 "nbformat": 4,
 "nbformat_minor": 2
}
